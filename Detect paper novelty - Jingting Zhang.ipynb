{
 "cells": [
  {
   "cell_type": "markdown",
   "metadata": {},
   "source": [
    "### Paper Novelty Detection\n",
    "\n",
    "##### By Jingting Zhang"
   ]
  },
  {
   "cell_type": "markdown",
   "metadata": {},
   "source": [
    "## Question:\n",
    "Given a recently published paper (from 2016 onwards), is there a set of papers from 1990-2015 that are closely related to it?\n",
    "\n",
    "## Introduction\n",
    "To address this question, I mainly focused on the abstracts of papers, which carries rich information that summarizes the papers. \n",
    "\n",
    "To explore the data set, I first employed the topic modeling technique LDA to explore the topics of the training datasets. I then applied the trained LDA model onto the testing dataset to examine the similarity of topics across the two datasets.\n",
    "\n",
    "By employing the word embedding model word2vec, I converted all the abstract texts into vectors of 300 features each. I then conducted a K-means clustering analysis on all the abstract vectors. The combination of the word embedding and the clustering methods allowed me to extract various semantic categories the papers belong to. The number of clusters used in the analysis was in consistency with the pre-defined number of topics used in the LDA topic modeling.\n",
    "\n",
    "Next I conducted a PCA analysis to reduce the dimentionality of the 300-dimensional abstract vector space down to 3 components. The K-Means labels previously obtained were used to visualize the distributions of the papers across different PCA components. I validated my approach by applying the PCA and K-Means modeling to the validation dataset to visually verify the goodness of the clusters.\n",
    "\n",
    "Finally, I picked a random paper from the testing dataset and checked whether there is a set of papers from the training dataset that are closely related. To do that, I calculated the similarity score between the example paper and all other papers that belong to the same KMeans cluster. I was specifically interested in those papers with a similarity score greater or equal to 0.90.\n",
    "\n",
    "My pipeline is listed below.\n",
    "\n",
    "### Pipeline\n",
    "\n",
    "- **Get data ready**: Data import and visualization\n",
    "- __Data exploration__\n",
    "  -- Topic modelling using LDA: Three topics were pre-defined (training and testing data)\n",
    "- **_Word2vec_**: Used a pre-trained model for converting each abstract in the training and testing dataset into vectors\n",
    "- __Kmeans clustering__: \n",
    "  - Used to cluster the paper abstracts in the training dataset into different categories (training data)\n",
    "  - Predicted the testing data based on the K-means model from the training dataset (testing data)\n",
    "- __PCA__\n",
    "  - Reduced the data dimentionality from 300 features to 3 PCA components (training data)\n",
    "  - Validated the model by applying the same PCA transformation from the training dataset to the testing and validation datasets (testing & validation data)\n",
    "  - Plotted the data across the PCA components using K-means labels\n",
    "- __Similarity scores__\n",
    "  - Calculated the cosine similarity scores between a randomly selected paper and all other papers within the same K-means cluster \n",
    "  - Identified whether there is a set of papers that show close semantic similarity with the given paper"
   ]
  },
  {
   "cell_type": "markdown",
   "metadata": {},
   "source": [
    "## 1. Data import and visualization"
   ]
  },
  {
   "cell_type": "code",
   "execution_count": 89,
   "metadata": {},
   "outputs": [],
   "source": [
    "# Load libraries\n",
    "import pandas as pd\n",
    "import numpy as np\n",
    "import matplotlib.pyplot as plt\n",
    "import seaborn as sns\n",
    "import json\n",
    "import re\n",
    "import os\n",
    "import pickle\n",
    "import sklearn\n",
    "import random\n",
    "\n",
    "import nltk\n",
    "import nltk.classify.util\n",
    "from nltk.corpus import stopwords\n",
    "from nltk.tokenize import word_tokenize\n",
    "from nltk.tokenize import RegexpTokenizer\n",
    "from nltk.corpus import wordnet as wn\n",
    "from keras.preprocessing.text import Tokenizer\n",
    "\n",
    "import gensim\n",
    "from gensim import corpora\n",
    "import pyLDAvis.gensim # Please install the pyldavis package if needed: conda install -c conda-forge pyldavis\n",
    "import multiprocessing\n",
    "from scipy import spatial\n",
    "\n",
    "from sklearn.cluster import KMeans\n",
    "from sklearn.decomposition import PCA\n",
    "from sklearn.metrics.pairwise import cosine_similarity"
   ]
  },
  {
   "cell_type": "code",
   "execution_count": 2,
   "metadata": {},
   "outputs": [],
   "source": [
    "# Function to import data into a dataframe format\n",
    "def importdata(path):\n",
    "    with open(path) as f:\n",
    "        data = json.loads(f.read())\n",
    "    df = pd.DataFrame.from_dict(data)\n",
    "    return df"
   ]
  },
  {
   "cell_type": "code",
   "execution_count": 3,
   "metadata": {},
   "outputs": [
    {
     "data": {
      "text/html": [
       "<div>\n",
       "<style scoped>\n",
       "    .dataframe tbody tr th:only-of-type {\n",
       "        vertical-align: middle;\n",
       "    }\n",
       "\n",
       "    .dataframe tbody tr th {\n",
       "        vertical-align: top;\n",
       "    }\n",
       "\n",
       "    .dataframe thead th {\n",
       "        text-align: right;\n",
       "    }\n",
       "</style>\n",
       "<table border=\"1\" class=\"dataframe\">\n",
       "  <thead>\n",
       "    <tr style=\"text-align: right;\">\n",
       "      <th></th>\n",
       "      <th>abstract</th>\n",
       "      <th>authors</th>\n",
       "      <th>day</th>\n",
       "      <th>month</th>\n",
       "      <th>tags</th>\n",
       "      <th>title</th>\n",
       "      <th>year</th>\n",
       "    </tr>\n",
       "  </thead>\n",
       "  <tbody>\n",
       "    <tr>\n",
       "      <th>0</th>\n",
       "      <td>Learned feature representations and sub-phonem...</td>\n",
       "      <td>[{'name': 'Fred Richardson'}, {'name': 'Dougla...</td>\n",
       "      <td>3</td>\n",
       "      <td>4</td>\n",
       "      <td>[cs.CL, cs.CV, cs.LG, cs.NE, stat.ML]</td>\n",
       "      <td>A Unified Deep Neural Network for Speaker and ...</td>\n",
       "      <td>2015</td>\n",
       "    </tr>\n",
       "    <tr>\n",
       "      <th>1</th>\n",
       "      <td>We propose a simple neural network model to de...</td>\n",
       "      <td>[{'name': 'Muhammad Ghifary'}, {'name': 'W. Ba...</td>\n",
       "      <td>21</td>\n",
       "      <td>9</td>\n",
       "      <td>[cs.CV, cs.AI, cs.LG, cs.NE, stat.ML]</td>\n",
       "      <td>Domain Adaptive Neural Networks for Object Rec...</td>\n",
       "      <td>2014</td>\n",
       "    </tr>\n",
       "  </tbody>\n",
       "</table>\n",
       "</div>"
      ],
      "text/plain": [
       "                                            abstract  \\\n",
       "0  Learned feature representations and sub-phonem...   \n",
       "1  We propose a simple neural network model to de...   \n",
       "\n",
       "                                             authors  day  month  \\\n",
       "0  [{'name': 'Fred Richardson'}, {'name': 'Dougla...    3      4   \n",
       "1  [{'name': 'Muhammad Ghifary'}, {'name': 'W. Ba...   21      9   \n",
       "\n",
       "                                    tags  \\\n",
       "0  [cs.CL, cs.CV, cs.LG, cs.NE, stat.ML]   \n",
       "1  [cs.CV, cs.AI, cs.LG, cs.NE, stat.ML]   \n",
       "\n",
       "                                               title  year  \n",
       "0  A Unified Deep Neural Network for Speaker and ...  2015  \n",
       "1  Domain Adaptive Neural Networks for Object Rec...  2014  "
      ]
     },
     "execution_count": 3,
     "metadata": {},
     "output_type": "execute_result"
    }
   ],
   "source": [
    "df_train = importdata('data_train.json')\n",
    "df_train.head(2)"
   ]
  },
  {
   "cell_type": "code",
   "execution_count": 4,
   "metadata": {},
   "outputs": [
    {
     "name": "stdout",
     "output_type": "stream",
     "text": [
      "19306\n"
     ]
    }
   ],
   "source": [
    "print(len(df_train))"
   ]
  },
  {
   "cell_type": "code",
   "execution_count": 5,
   "metadata": {},
   "outputs": [
    {
     "data": {
      "text/plain": [
       "'Learned feature representations and sub-phoneme posteriors from Deep Neural Networks (DNNs) have been used separately to produce significant performance gains for speaker and language recognition tasks. In this work we show how these gains are possible using a single DNN for both speaker and language recognition. The unified DNN approach is shown to yield substantial performance improvements on the the 2013 Domain Adaptation Challenge speaker recognition task (55% reduction in EER for the out-of-domain condition) and on the NIST 2011 Language Recognition Evaluation (48% reduction in EER for the 30s test condition).'"
      ]
     },
     "execution_count": 5,
     "metadata": {},
     "output_type": "execute_result"
    }
   ],
   "source": [
    "df_train['abstract'][0]"
   ]
  },
  {
   "cell_type": "code",
   "execution_count": 6,
   "metadata": {},
   "outputs": [
    {
     "name": "stderr",
     "output_type": "stream",
     "text": [
      "/Users/jingtingzhang/anaconda3/lib/python3.6/site-packages/matplotlib/axes/_axes.py:6462: UserWarning: The 'normed' kwarg is deprecated, and has been replaced by the 'density' kwarg.\n",
      "  warnings.warn(\"The 'normed' kwarg is deprecated, and has been \"\n"
     ]
    },
    {
     "data": {
      "image/png": "[encoded data removed]",
      "text/plain": [
       "<Figure size 720x360 with 1 Axes>"
      ]
     },
     "metadata": {},
     "output_type": "display_data"
    }
   ],
   "source": [
    "# Visualize the length of the abstracts in the training data\n",
    "df_train['abstract length'] = df_train['abstract'].astype(str).apply(len)\n",
    "\n",
    "plt.figure(figsize = (10, 5))\n",
    "sns.distplot(df_train['abstract length'], color = 'green', bins = 40, kde = False)\n",
    "plt.title('abstract length')\n",
    "plt.savefig('plot of abstract length.png')"
   ]
  },
  {
   "cell_type": "code",
   "execution_count": 7,
   "metadata": {},
   "outputs": [
    {
     "name": "stdout",
     "output_type": "stream",
     "text": [
      "25\n",
      "3658\n"
     ]
    }
   ],
   "source": [
    "print(min(df_train['abstract length'])); print(max(df_train['abstract length']))"
   ]
  },
  {
   "cell_type": "markdown",
   "metadata": {},
   "source": [
    "## 2. Topic modelling using LDA (Data exploration)"
   ]
  },
  {
   "cell_type": "markdown",
   "metadata": {},
   "source": [
    "### 2.1. Pre-processing of abstract texts: convert to lower case, remove stopwords, tokenization, and lemmatization."
   ]
  },
  {
   "cell_type": "code",
   "execution_count": 9,
   "metadata": {},
   "outputs": [],
   "source": [
    "tokenizer = RegexpTokenizer(r'[a-zA-Z]{3,}')"
   ]
  },
  {
   "cell_type": "code",
   "execution_count": 10,
   "metadata": {},
   "outputs": [
    {
     "name": "stdout",
     "output_type": "stream",
     "text": [
      "[nltk_data] Downloading package stopwords to\n",
      "[nltk_data]     /Users/jingtingzhang/nltk_data...\n",
      "[nltk_data]   Package stopwords is already up-to-date!\n"
     ]
    }
   ],
   "source": [
    "nltk.download('stopwords')\n",
    "stop_words = set(stopwords.words('english'))"
   ]
  },
  {
   "cell_type": "code",
   "execution_count": 11,
   "metadata": {},
   "outputs": [],
   "source": [
    "# Create Function to convert text to lower case, remove stopwords, and tokenization\n",
    "def preprocessing(df):\n",
    "    df['abstract tokenized'] = df['abstract'].astype(str).str.lower()\n",
    "    df['abstract tokenized'] = df.apply(lambda row: tokenizer.tokenize(row['abstract tokenized']), axis=1)\n",
    "    df['abstract tokenized'] = df['abstract tokenized'].apply(lambda x: [w for w in x if not w in stop_words]) "
   ]
  },
  {
   "cell_type": "code",
   "execution_count": 12,
   "metadata": {},
   "outputs": [],
   "source": [
    "preprocessing(df_train)"
   ]
  },
  {
   "cell_type": "markdown",
   "metadata": {},
   "source": [
    "###### Wordnet lemmatizer: lemmatize the abstract texts"
   ]
  },
  {
   "cell_type": "code",
   "execution_count": 13,
   "metadata": {},
   "outputs": [
    {
     "name": "stdout",
     "output_type": "stream",
     "text": [
      "[nltk_data] Downloading package wordnet to\n",
      "[nltk_data]     /Users/jingtingzhang/nltk_data...\n",
      "[nltk_data]   Package wordnet is already up-to-date!\n"
     ]
    },
    {
     "data": {
      "text/plain": [
       "True"
      ]
     },
     "execution_count": 13,
     "metadata": {},
     "output_type": "execute_result"
    }
   ],
   "source": [
    "nltk.download('wordnet')"
   ]
  },
  {
   "cell_type": "code",
   "execution_count": 14,
   "metadata": {},
   "outputs": [],
   "source": [
    "def create_lemma1(word):\n",
    "    lemma = wn.morphy(word)\n",
    "    if lemma is None:\n",
    "        return word\n",
    "    else:\n",
    "        return lemma    \n",
    "\n",
    "from nltk.stem.wordnet import WordNetLemmatizer\n",
    "def create_lemma2(word):\n",
    "    return WordNetLemmatizer().lemmatize(word, 'v')\n",
    "\n",
    "def create_lemma(word):\n",
    "    word1 = create_lemma1(word)\n",
    "    word2 = create_lemma2(word1)\n",
    "    return word2"
   ]
  },
  {
   "cell_type": "code",
   "execution_count": 15,
   "metadata": {},
   "outputs": [],
   "source": [
    "def create_lemma_abstract(abstract):\n",
    "    lem_words = []\n",
    "    for word in abstract:\n",
    "        lem_words.append(create_lemma(word)) \n",
    "    return(lem_words) "
   ]
  },
  {
   "cell_type": "code",
   "execution_count": 16,
   "metadata": {},
   "outputs": [],
   "source": [
    "def create_lemma_all_abstract(df):\n",
    "    lem_abstract = []\n",
    "    abstract = df['abstract tokenized']\n",
    "    for text in (abstract):\n",
    "        lem_abstract.append(create_lemma_abstract(text))\n",
    "    df['lem abstract'] = lem_abstract"
   ]
  },
  {
   "cell_type": "code",
   "execution_count": 17,
   "metadata": {},
   "outputs": [],
   "source": [
    "create_lemma_all_abstract(df_train)"
   ]
  },
  {
   "cell_type": "code",
   "execution_count": 18,
   "metadata": {},
   "outputs": [],
   "source": [
    "text_data_train = df_train['lem abstract']"
   ]
  },
  {
   "cell_type": "markdown",
   "metadata": {},
   "source": [
    "### 2.2 LDA analysis looking for topics across all the abstracts of the research papers"
   ]
  },
  {
   "cell_type": "markdown",
   "metadata": {},
   "source": [
    "In this section, I conducted an LDA analysis to extract 3 topics in the training dataset. This allowed me to gain a qualitative understanding of the topics covered by the research papers published from 1995-2015."
   ]
  },
  {
   "cell_type": "code",
   "execution_count": 19,
   "metadata": {},
   "outputs": [],
   "source": [
    "# Create a dictionary from the data, convert to bag-of-words corpus and save the dictionary and corpus for future use\n",
    "dictionary = corpora.Dictionary(text_data_train)\n",
    "corpus = [dictionary.doc2bow(txt) for txt in text_data_train]"
   ]
  },
  {
   "cell_type": "code",
   "execution_count": 20,
   "metadata": {},
   "outputs": [],
   "source": [
    "pickle.dump(corpus, open('corpus.pkl', 'wb'))\n",
    "dictionary.save('dictionary.gensim')"
   ]
  },
  {
   "cell_type": "code",
   "execution_count": 25,
   "metadata": {},
   "outputs": [
    {
     "name": "stdout",
     "output_type": "stream",
     "text": [
      "(0, '0.021*\"algorithm\" + 0.014*\"problem\" + 0.012*\"method\" + 0.011*\"model\" + 0.011*\"learn\" + 0.010*\"data\"')\n",
      "(1, '0.011*\"system\" + 0.011*\"use\" + 0.010*\"model\" + 0.007*\"paper\" + 0.007*\"base\" + 0.007*\"problem\"')\n",
      "(2, '0.022*\"image\" + 0.016*\"use\" + 0.012*\"method\" + 0.010*\"feature\" + 0.010*\"propose\" + 0.009*\"base\"')\n"
     ]
    }
   ],
   "source": [
    "# Build the LDA model to look for 5 topics in the training data\n",
    "NUM_TOPICS = 3\n",
    "ldamodel = gensim.models.ldamodel.LdaModel(corpus, num_topics = NUM_TOPICS, id2word=dictionary, passes=15)\n",
    "ldamodel.save('model5_train.gensim')\n",
    "topics = ldamodel.print_topics(num_words=6)\n",
    "for topic in topics:\n",
    "    print(topic)"
   ]
  },
  {
   "cell_type": "markdown",
   "metadata": {},
   "source": [
    "From the above output from the LDA analysis, we conclude that the topics of the research papers (1995-2015) are very similar to each other - mainly related to data modeling, but the 3rd topic seems to have a focus on imaging processing in particular.\n"
   ]
  },
  {
   "cell_type": "code",
   "execution_count": 26,
   "metadata": {},
   "outputs": [
    {
     "name": "stderr",
     "output_type": "stream",
     "text": [
      "/Users/jingtingzhang/anaconda3/lib/python3.6/site-packages/pyLDAvis/_prepare.py:257: FutureWarning: Sorting because non-concatenation axis is not aligned. A future version\n",
      "of pandas will change to not sort by default.\n",
      "\n",
      "To accept the future behavior, pass 'sort=True'.\n",
      "\n",
      "To retain the current behavior and silence the warning, pass sort=False\n",
      "\n",
      "  return pd.concat([default_term_info] + list(topic_dfs))\n"
     ]
    },
    {
     "data": {
      "text/html": [
       "\n",
       "<link rel=\"stylesheet\" type=\"text/css\" href=\"https://cdn.rawgit.com/bmabey/pyLDAvis/files/ldavis.v1.0.0.css\">\n",
       "\n",
       "\n",
       "<div id=\"ldavis_el335201126277567522441379309\"></div>\n",
       "<script type=\"text/javascript\">\n",
       "\n",
       "var ldavis_el335201126277567522441379309_data = {\"mdsDat\": {\"x\": [0.06219982185775585, -0.13571057018205884, 0.07351074832430299], \"y\": [0.11962591270970006, -0.006467218120086913, -0.11315869458961317], \"topics\": [1, 2, 3], \"cluster\": [1, 1, 1], \"Freq\": [39.680809020996094, 29.4886531829834, 30.830541610717773]}, \"tinfo\": {\"Category\": [\"Default\", \"Default\", \"Default\", \"Default\", \"Default\", \"Default\", \"Default\", \"Default\", \"Default\", \"Default\", \"Default\", \"Default\", \"Default\", \"Default\", \"Default\", \"Default\", \"Default\", \"Default\", \"Default\", \"Default\", \"Default\", \"Default\", \"Default\", \"Default\", \"Default\", \"Default\", \"Default\", \"Default\", \"Default\", \"Default\", \"Topic1\", \"Topic1\", \"Topic1\", \"Topic1\", \"Topic1\", \"Topic1\", \"Topic1\", \"Topic1\", \"Topic1\", \"Topic1\", \"Topic1\", \"Topic1\", \"Topic1\", \"Topic1\", \"Topic1\", \"Topic1\", \"Topic1\", \"Topic1\", \"Topic1\", \"Topic1\", \"Topic1\", \"Topic1\", \"Topic1\", \"Topic1\", \"Topic1\", \"Topic1\", \"Topic1\", \"Topic1\", \"Topic1\", \"Topic1\", \"Topic1\", \"Topic1\", \"Topic1\", \"Topic1\", \"Topic1\", \"Topic1\", \"Topic1\", \"Topic1\", \"Topic1\", \"Topic1\", \"Topic1\", \"Topic1\", \"Topic1\", \"Topic1\", \"Topic1\", \"Topic1\", \"Topic1\", \"Topic1\", \"Topic1\", \"Topic1\", \"Topic1\", \"Topic1\", \"Topic1\", \"Topic1\", \"Topic1\", \"Topic1\", \"Topic1\", \"Topic1\", \"Topic1\", \"Topic1\", \"Topic1\", \"Topic1\", \"Topic1\", \"Topic1\", \"Topic1\", \"Topic1\", \"Topic1\", \"Topic1\", \"Topic1\", \"Topic1\", \"Topic1\", \"Topic1\", \"Topic1\", \"Topic2\", \"Topic2\", \"Topic2\", \"Topic2\", \"Topic2\", \"Topic2\", \"Topic2\", \"Topic2\", \"Topic2\", \"Topic2\", \"Topic2\", \"Topic2\", \"Topic2\", \"Topic2\", \"Topic2\", \"Topic2\", \"Topic2\", \"Topic2\", \"Topic2\", \"Topic2\", \"Topic2\", \"Topic2\", \"Topic2\", \"Topic2\", \"Topic2\", \"Topic2\", \"Topic2\", \"Topic2\", \"Topic2\", \"Topic2\", \"Topic2\", \"Topic2\", \"Topic2\", \"Topic2\", \"Topic2\", \"Topic2\", \"Topic2\", \"Topic2\", \"Topic2\", \"Topic2\", \"Topic2\", \"Topic2\", \"Topic2\", \"Topic2\", \"Topic2\", \"Topic2\", \"Topic2\", \"Topic2\", \"Topic2\", \"Topic2\", \"Topic2\", \"Topic2\", \"Topic2\", \"Topic2\", \"Topic2\", \"Topic2\", \"Topic2\", \"Topic2\", \"Topic2\", \"Topic2\", \"Topic2\", \"Topic2\", \"Topic2\", \"Topic2\", \"Topic2\", \"Topic2\", \"Topic2\", \"Topic2\", \"Topic2\", \"Topic2\", \"Topic2\", \"Topic2\", \"Topic2\", \"Topic2\", \"Topic2\", \"Topic2\", \"Topic2\", \"Topic2\", \"Topic2\", \"Topic2\", \"Topic3\", \"Topic3\", \"Topic3\", \"Topic3\", \"Topic3\", \"Topic3\", \"Topic3\", \"Topic3\", \"Topic3\", \"Topic3\", \"Topic3\", \"Topic3\", \"Topic3\", \"Topic3\", \"Topic3\", \"Topic3\", \"Topic3\", \"Topic3\", \"Topic3\", \"Topic3\", \"Topic3\", \"Topic3\", \"Topic3\", \"Topic3\", \"Topic3\", \"Topic3\", \"Topic3\", \"Topic3\", \"Topic3\", \"Topic3\", \"Topic3\", \"Topic3\", \"Topic3\", \"Topic3\", \"Topic3\", \"Topic3\", \"Topic3\", \"Topic3\", \"Topic3\", \"Topic3\", \"Topic3\", \"Topic3\", \"Topic3\", \"Topic3\", \"Topic3\", \"Topic3\", \"Topic3\", \"Topic3\", \"Topic3\", \"Topic3\", \"Topic3\", \"Topic3\", \"Topic3\", \"Topic3\", \"Topic3\", \"Topic3\", \"Topic3\", \"Topic3\", \"Topic3\", \"Topic3\", \"Topic3\", \"Topic3\", \"Topic3\", \"Topic3\", \"Topic3\", \"Topic3\", \"Topic3\", \"Topic3\", \"Topic3\", \"Topic3\", \"Topic3\"], \"Freq\": [11525.0, 8041.0, 6709.0, 17843.0, 3590.0, 14947.0, 2613.0, 2492.0, 13853.0, 2241.0, 5681.0, 2814.0, 2128.0, 2932.0, 3557.0, 2575.0, 3214.0, 1732.0, 3711.0, 2911.0, 2108.0, 3856.0, 3077.0, 2369.0, 2628.0, 1522.0, 3438.0, 1914.0, 1442.0, 1490.0, 2814.18994140625, 1914.0904541015625, 1679.23876953125, 1345.3160400390625, 1308.658935546875, 1343.348876953125, 1177.4481201171875, 871.8090209960938, 863.0596923828125, 715.5609130859375, 742.1707763671875, 725.8936157226562, 694.7259521484375, 639.8809204101562, 561.0918579101562, 513.690185546875, 501.55108642578125, 500.93634033203125, 484.80291748046875, 490.9884338378906, 530.9089965820312, 469.9081115722656, 490.78668212890625, 416.8705749511719, 380.21990966796875, 371.76922607421875, 294.7478332519531, 346.1638488769531, 295.6610107421875, 294.7984619140625, 1094.554931640625, 1277.574951171875, 1166.8980712890625, 648.1904907226562, 2287.4345703125, 2898.11279296875, 3018.283935546875, 2562.830322265625, 1655.088623046875, 5039.3828125, 2431.45947265625, 1724.87744140625, 14015.0712890625, 3325.319580078125, 2984.38671875, 1558.2808837890625, 2681.530029296875, 2639.477294921875, 9776.822265625, 1590.48828125, 1489.9779052734375, 1637.809326171875, 7513.24267578125, 6898.47119140625, 7880.9580078125, 3106.359619140625, 5497.92919921875, 7721.41552734375, 4592.34912109375, 5450.11328125, 2380.568359375, 4592.517578125, 2215.081787109375, 2321.9375, 5901.7568359375, 3203.69775390625, 3975.7236328125, 3362.8193359375, 3442.281005859375, 2544.984375, 2528.698974609375, 2470.84521484375, 2391.41015625, 2241.304443359375, 2127.461181640625, 1442.1888427734375, 1217.6739501953125, 1005.1947631835938, 686.777587890625, 588.4756469726562, 562.5050659179688, 557.5563354492188, 536.35888671875, 430.8085632324219, 369.4676513671875, 371.4479064941406, 356.3473815917969, 301.3021240234375, 322.0457763671875, 282.1535949707031, 289.3765869140625, 227.54635620117188, 248.41146850585938, 227.1356201171875, 215.21173095703125, 228.001953125, 181.455078125, 207.65040588378906, 189.94097900390625, 345.76544189453125, 184.21768188476562, 174.99594116210938, 188.6719207763672, 331.5781555175781, 907.5042114257812, 1072.640625, 682.2615356445312, 373.2758483886719, 1901.8873291015625, 2535.4111328125, 1051.062744140625, 2220.337890625, 909.809814453125, 2199.83056640625, 5734.96875, 2231.5400390625, 663.5439453125, 1835.736083984375, 682.8720703125, 1022.5730590820312, 1591.707275390625, 1108.8621826171875, 642.9430541992188, 692.329345703125, 744.1535034179688, 2616.45947265625, 863.2903442382812, 815.7694091796875, 1014.2482299804688, 3707.06103515625, 5425.61328125, 4847.330078125, 1169.6553955078125, 3630.668701171875, 1329.4119873046875, 2547.415771484375, 2090.47705078125, 1610.9932861328125, 2099.193603515625, 3337.73095703125, 2345.509033203125, 2556.36474609375, 2423.127197265625, 2346.1455078125, 1809.1614990234375, 2233.258544921875, 1580.9237060546875, 1754.8768310546875, 1611.1903076171875, 1744.987548828125, 1679.00634765625, 1810.728759765625, 1769.4423828125, 11524.904296875, 2613.033203125, 2491.41552734375, 1731.3743896484375, 1521.611572265625, 1489.9510498046875, 1184.2139892578125, 865.0211791992188, 853.9033203125, 847.0631103515625, 739.8502197265625, 786.2192993164062, 693.5196533203125, 820.1065063476562, 807.7047119140625, 640.638427734375, 606.8703002929688, 543.0831298828125, 495.2196350097656, 501.0550231933594, 482.09649658203125, 398.0426025390625, 379.1515197753906, 379.80859375, 816.59375, 343.8155822753906, 381.3797912597656, 374.40777587890625, 376.03643798828125, 357.9552307128906, 1379.175048828125, 862.8460693359375, 515.5910034179688, 3353.76513671875, 1420.580322265625, 854.0062255859375, 1093.9102783203125, 1719.531005859375, 5506.35498046875, 2088.004150390625, 1309.970947265625, 1155.4569091796875, 1255.356689453125, 1810.0838623046875, 1114.9075927734375, 1397.30859375, 2675.168701171875, 2559.4560546875, 8193.9482421875, 6508.54541015625, 5002.1474609375, 1874.0748291015625, 4725.806640625, 3484.34521484375, 1564.6629638671875, 2927.451904296875, 2041.4794921875, 4657.81494140625, 3336.35205078125, 3654.054443359375, 2231.34765625, 3203.765869140625, 2377.876708984375, 2225.341552734375, 2929.77294921875, 2523.372314453125, 2306.073974609375, 2222.572265625, 1975.013916015625, 1909.5035400390625, 2058.674560546875], \"Term\": [\"image\", \"system\", \"feature\", \"algorithm\", \"object\", \"method\", \"recognition\", \"detection\", \"problem\", \"logic\", \"function\", \"matrix\", \"agent\", \"user\", \"train\", \"program\", \"optimization\", \"video\", \"classification\", \"language\", \"rule\", \"cluster\", \"distribution\", \"word\", \"knowledge\", \"visual\", \"sample\", \"kernel\", \"reason\", \"segmentation\", \"matrix\", \"kernel\", \"approximation\", \"convex\", \"convergence\", \"stochastic\", \"bound\", \"regularization\", \"norm\", \"regret\", \"subspace\", \"minimization\", \"iteration\", \"sparsity\", \"estimator\", \"epsilon\", \"bandit\", \"variational\", \"descent\", \"posterior\", \"converge\", \"tensor\", \"sum\", \"factorization\", \"ell\", \"covariance\", \"lasso\", \"vertex\", \"relaxation\", \"quadratic\", \"gaussian\", \"approximate\", \"regression\", \"likelihood\", \"optimal\", \"distribution\", \"optimization\", \"linear\", \"bind\", \"function\", \"variable\", \"random\", \"algorithm\", \"cluster\", \"sample\", \"bayesian\", \"graph\", \"parameter\", \"problem\", \"sparse\", \"dimensional\", \"rank\", \"learn\", \"data\", \"method\", \"number\", \"show\", \"model\", \"set\", \"propose\", \"space\", \"result\", \"solution\", \"class\", \"use\", \"time\", \"base\", \"approach\", \"paper\", \"performance\", \"two\", \"also\", \"new\", \"logic\", \"agent\", \"reason\", \"plan\", \"answer\", \"ontology\", \"intelligence\", \"service\", \"preference\", \"quantum\", \"grammar\", \"logical\", \"calculus\", \"market\", \"formalism\", \"sit\", \"propositional\", \"automaton\", \"asp\", \"route\", \"conflict\", \"clause\", \"controller\", \"revision\", \"circuit\", \"abstraction\", \"intelligent\", \"axiom\", \"customer\", \"default\", \"cognitive\", \"semantics\", \"game\", \"evolutionary\", \"management\", \"rule\", \"user\", \"web\", \"program\", \"fuzzy\", \"knowledge\", \"system\", \"language\", \"software\", \"theory\", \"resource\", \"environment\", \"decision\", \"concept\", \"robot\", \"artificial\", \"mechanism\", \"information\", \"belief\", \"behavior\", \"query\", \"paper\", \"use\", \"model\", \"research\", \"base\", \"describe\", \"present\", \"provide\", \"make\", \"process\", \"problem\", \"network\", \"set\", \"approach\", \"show\", \"one\", \"result\", \"order\", \"new\", \"study\", \"time\", \"also\", \"data\", \"algorithm\", \"image\", \"recognition\", \"detection\", \"video\", \"visual\", \"segmentation\", \"layer\", \"camera\", \"scene\", \"pixel\", \"descriptor\", \"speech\", \"convolutional\", \"color\", \"extraction\", \"texture\", \"segment\", \"character\", \"cnn\", \"patch\", \"wavelet\", \"detector\", \"facial\", \"appearance\", \"retrieval\", \"registration\", \"patient\", \"disease\", \"sentiment\", \"localization\", \"deep\", \"motion\", \"surface\", \"object\", \"face\", \"spatial\", \"track\", \"text\", \"feature\", \"word\", \"extract\", \"shape\", \"region\", \"neural\", \"document\", \"dataset\", \"train\", \"classification\", \"use\", \"method\", \"propose\", \"accuracy\", \"base\", \"approach\", \"art\", \"network\", \"task\", \"model\", \"result\", \"data\", \"different\", \"paper\", \"performance\", \"technique\", \"learn\", \"show\", \"system\", \"present\", \"information\", \"process\", \"algorithm\"], \"Total\": [11525.0, 8041.0, 6709.0, 17843.0, 3590.0, 14947.0, 2613.0, 2492.0, 13853.0, 2241.0, 5681.0, 2814.0, 2128.0, 2932.0, 3557.0, 2575.0, 3214.0, 1732.0, 3711.0, 2911.0, 2108.0, 3856.0, 3077.0, 2369.0, 2628.0, 1522.0, 3438.0, 1914.0, 1442.0, 1490.0, 2814.88623046875, 1914.844482421875, 1679.9049072265625, 1345.9576416015625, 1309.3240966796875, 1344.038818359375, 1178.1051025390625, 872.483642578125, 863.7435302734375, 716.1959838867188, 742.83984375, 726.5731201171875, 695.43701171875, 640.5579833984375, 561.7396240234375, 514.3386840820312, 502.18743896484375, 501.6029357910156, 485.45391845703125, 491.65447998046875, 531.65478515625, 470.58746337890625, 491.5568542480469, 417.5476379394531, 380.849609375, 372.4124450683594, 295.3795471191406, 346.907470703125, 296.3155822753906, 295.4622497558594, 1097.5599365234375, 1289.3779296875, 1183.3629150390625, 656.03564453125, 2403.6220703125, 3077.07763671875, 3214.649658203125, 2761.0673828125, 1754.6561279296875, 5681.03515625, 2676.235595703125, 1867.4879150390625, 17843.1875, 3856.818115234375, 3438.62646484375, 1712.81201171875, 3112.10791015625, 3115.531494140625, 13853.3115234375, 1821.8291015625, 1688.16357421875, 1892.1734619140625, 11868.0625, 12363.2548828125, 14947.978515625, 4646.517578125, 10367.447265625, 17226.560546875, 8552.6181640625, 12011.5390625, 3432.08642578125, 10162.12890625, 3183.48974609375, 3465.27734375, 19521.318359375, 6393.5068359375, 12332.19921875, 9270.291015625, 10353.107421875, 5409.50048828125, 5914.32373046875, 5485.765625, 5636.83984375, 2241.975341796875, 2128.16064453125, 1442.93798828125, 1218.3837890625, 1005.942626953125, 687.4579467773438, 589.1746826171875, 563.2091064453125, 558.3518676757812, 537.137451171875, 431.4993591308594, 370.14581298828125, 372.19891357421875, 357.0970458984375, 302.00946044921875, 322.8038330078125, 282.8272705078125, 290.1888427734375, 228.21397399902344, 249.1651153564453, 227.84722900390625, 215.9042205810547, 228.74530029296875, 182.12677001953125, 208.4297332763672, 190.67300415039062, 347.114990234375, 184.9643096923828, 175.70965576171875, 189.4453125, 332.98944091796875, 934.7072143554688, 1145.1376953125, 717.738037109375, 384.4465637207031, 2108.640380859375, 2932.2275390625, 1157.872802734375, 2575.71484375, 1008.5205688476562, 2628.263916015625, 8041.4462890625, 2911.414794921875, 743.576904296875, 2424.29296875, 776.5162963867188, 1261.2996826171875, 2290.333984375, 1503.052001953125, 763.62451171875, 842.732666015625, 932.0724487304688, 5552.4599609375, 1153.7589111328125, 1065.461181640625, 1474.290771484375, 10353.107421875, 19521.318359375, 17226.560546875, 1861.481201171875, 12332.19921875, 2325.263427734375, 6957.2275390625, 5201.10693359375, 3401.849609375, 5511.46728515625, 13853.3115234375, 7161.8857421875, 8552.6181640625, 9270.291015625, 10367.447265625, 5395.62646484375, 10162.12890625, 3848.9970703125, 5636.83984375, 4316.3447265625, 6393.5068359375, 5485.765625, 12363.2548828125, 17843.1875, 11525.6162109375, 2613.74658203125, 2492.173828125, 1732.0679931640625, 1522.3218994140625, 1490.662109375, 1185.02001953125, 865.720458984375, 854.60546875, 847.7623291015625, 740.5322265625, 786.9697265625, 694.192138671875, 820.9212646484375, 808.512451171875, 641.3206176757812, 607.6134643554688, 543.796142578125, 495.8876953125, 501.7693176269531, 482.81585693359375, 398.7198791503906, 379.827392578125, 380.5157165527344, 818.1194458007812, 344.5311584472656, 382.18804931640625, 375.2068786621094, 376.8663330078125, 358.74652099609375, 1385.0667724609375, 868.6409912109375, 520.1602172851562, 3590.583251953125, 1510.011474609375, 893.6803588867188, 1170.5992431640625, 1900.8212890625, 6709.689453125, 2369.673583984375, 1445.8878173828125, 1263.4259033203125, 1403.7049560546875, 2180.123046875, 1238.171875, 1621.58740234375, 3557.294677734375, 3711.6435546875, 19521.318359375, 14947.978515625, 12011.5390625, 2784.429931640625, 12332.19921875, 9270.291015625, 2393.230712890625, 7161.8857421875, 3829.59765625, 17226.560546875, 10162.12890625, 12363.2548828125, 4693.791015625, 10353.107421875, 5409.50048828125, 4974.767578125, 11868.0625, 10367.447265625, 8041.4462890625, 6957.2275390625, 5552.4599609375, 5511.46728515625, 17843.1875], \"loglift\": [30.0, 29.0, 28.0, 27.0, 26.0, 25.0, 24.0, 23.0, 22.0, 21.0, 20.0, 19.0, 18.0, 17.0, 16.0, 15.0, 14.0, 13.0, 12.0, 11.0, 10.0, 9.0, 8.0, 7.0, 6.0, 5.0, 4.0, 3.0, 2.0, 1.0, 0.9240999817848206, 0.9239000082015991, 0.9239000082015991, 0.923799991607666, 0.923799991607666, 0.923799991607666, 0.9236999750137329, 0.9235000014305115, 0.9235000014305115, 0.9233999848365784, 0.9233999848365784, 0.9233999848365784, 0.92330002784729, 0.9232000112533569, 0.9230999946594238, 0.9229999780654907, 0.9229999780654907, 0.9229999780654907, 0.9229999780654907, 0.9229000210762024, 0.9229000210762024, 0.9229000210762024, 0.9226999878883362, 0.9226999878883362, 0.9225999712944031, 0.9225999712944031, 0.9222000241279602, 0.9222000241279602, 0.9221000075340271, 0.9221000075340271, 0.9215999841690063, 0.9150999784469604, 0.9103000164031982, 0.9122999906539917, 0.8748000264167786, 0.8644000291824341, 0.861299991607666, 0.8497999906539917, 0.8658999800682068, 0.8044999837875366, 0.8284000158309937, 0.8449000120162964, 0.6827999949455261, 0.7760000228881836, 0.7825999855995178, 0.8296999931335449, 0.7753999829292297, 0.7584999799728394, 0.5758000016212463, 0.7885000109672546, 0.7993999719619751, 0.7799000144004822, 0.46709999442100525, 0.3409000039100647, 0.2842000126838684, 0.5216000080108643, 0.28999999165534973, 0.121799997985363, 0.30250000953674316, 0.13410000503063202, 0.5584999918937683, 0.13009999692440033, 0.5616000294685364, 0.5238999724388123, -0.2720000147819519, 0.23330000042915344, -0.2076999992132187, -0.08969999849796295, -0.17679999768733978, 0.17030000686645508, 0.07460000365972519, 0.1266999989748001, 0.06689999997615814, 1.220900058746338, 1.2208000421524048, 1.2206000089645386, 1.2206000089645386, 1.2203999757766724, 1.2201999425888062, 1.2200000286102295, 1.2199000120162964, 1.2196999788284302, 1.2196999788284302, 1.219599962234497, 1.2193000316619873, 1.219099998474121, 1.219099998474121, 1.2187999486923218, 1.2187999486923218, 1.2187999486923218, 1.218400001525879, 1.2181999683380127, 1.2180999517440796, 1.218000054359436, 1.218000054359436, 1.217900037765503, 1.2174999713897705, 1.2173999547958374, 1.2173000574111938, 1.2173000574111938, 1.2171000242233276, 1.2171000242233276, 1.2171000242233276, 1.2168999910354614, 1.19159996509552, 1.1557999849319458, 1.1705000400543213, 1.1916999816894531, 1.1180000305175781, 1.0757999420166016, 1.124400019645691, 1.072700023651123, 1.1181999444961548, 1.0432000160217285, 0.8830999732017517, 0.9552000164985657, 1.107300043106079, 0.9430999755859375, 1.0927000045776367, 1.011299967765808, 0.8572999835014343, 0.9169999957084656, 1.0491000413894653, 1.0246000289916992, 0.9959999918937683, 0.46869999170303345, 0.9311000108718872, 0.9541000127792358, 0.847100019454956, 0.1941000074148178, -0.05920000001788139, -0.04690000042319298, 0.7565000057220459, -0.0015999999595806003, 0.6621000170707703, 0.21649999916553497, 0.30970001220703125, 0.47369998693466187, 0.25589999556541443, -0.2020999938249588, 0.10490000247955322, 0.013500000350177288, -0.12060000002384186, -0.2646999955177307, 0.12839999794960022, -0.2939999997615814, 0.3314000070095062, 0.05420000106096268, 0.23569999635219574, -0.07739999890327454, 0.03720000013709068, -0.6998000144958496, -1.0898000001907349, 1.1765999794006348, 1.1763999462127686, 1.1763999462127686, 1.176300048828125, 1.176200032234192, 1.176200032234192, 1.1759999990463257, 1.1758999824523926, 1.1757999658584595, 1.1757999658584595, 1.1756999492645264, 1.1756999492645264, 1.1756999492645264, 1.1756999492645264, 1.1756999492645264, 1.1756000518798828, 1.1754000186920166, 1.1754000186920166, 1.1753000020980835, 1.1751999855041504, 1.1751999855041504, 1.1749999523162842, 1.1749000549316406, 1.1748000383377075, 1.1748000383377075, 1.1746000051498413, 1.1744999885559082, 1.1744999885559082, 1.1744999885559082, 1.1744999885559082, 1.1723999977111816, 1.1699999570846558, 1.167799949645996, 1.1083999872207642, 1.1155999898910522, 1.1312999725341797, 1.1088999509811401, 1.0764000415802002, 0.9789999723434448, 1.0500999689102173, 1.0779000520706177, 1.0872999429702759, 1.065000057220459, 0.9907000064849854, 1.0717999935150146, 1.0277999639511108, 0.891700029373169, 0.8050000071525574, 0.3086000084877014, 0.3452000021934509, 0.30070000886917114, 0.7807000279426575, 0.2175000011920929, 0.1981000006198883, 0.7516999840736389, 0.28200000524520874, 0.5475999712944031, -0.13120000064373016, 0.06289999932050705, -0.0421999990940094, 0.43299999833106995, 0.003700000001117587, 0.3546999990940094, 0.37220001220703125, -0.2222999930381775, -0.23639999330043793, -0.07240000367164612, 0.03550000116229057, 0.14300000667572021, 0.11670000106096268, -0.9829000234603882], \"logprob\": [30.0, 29.0, 28.0, 27.0, 26.0, 25.0, 24.0, 23.0, 22.0, 21.0, 20.0, 19.0, 18.0, 17.0, 16.0, 15.0, 14.0, 13.0, 12.0, 11.0, 10.0, 9.0, 8.0, 7.0, 6.0, 5.0, 4.0, 3.0, 2.0, 1.0, -5.482900142669678, -5.868299961090088, -5.999199867248535, -6.220900058746338, -6.248600006103516, -6.222400188446045, -6.3541998863220215, -6.654799938201904, -6.66480016708374, -6.85230016708374, -6.815700054168701, -6.837900161743164, -6.881800174713135, -6.964000225067139, -7.095399856567383, -7.183700084686279, -7.207600116729736, -7.208799839019775, -7.241600036621094, -7.228899955749512, -7.150700092315674, -7.272799968719482, -7.229300022125244, -7.392499923706055, -7.484600067138672, -7.506999969482422, -7.739200115203857, -7.578400135040283, -7.736100196838379, -7.738999843597412, -6.427199840545654, -6.272600173950195, -6.3632001876831055, -6.951099872589111, -5.690100193023682, -5.453499794006348, -5.412899971008301, -5.576499938964844, -6.013700008392334, -4.900300025939941, -5.6290998458862305, -5.972400188446045, -3.8773999214172363, -5.315999984741211, -5.424200057983398, -6.073999881744385, -5.531199932098389, -5.546999931335449, -4.237599849700928, -6.053500175476074, -6.118800163269043, -6.024199962615967, -4.500899791717529, -4.586299896240234, -4.453100204467773, -5.384099960327148, -4.813199996948242, -4.473599910736084, -4.993199825286865, -4.821899890899658, -5.650199890136719, -4.993100166320801, -5.722300052642822, -5.67519998550415, -4.742300033569336, -5.353300094604492, -5.137400150299072, -5.304800033569336, -5.281400203704834, -5.583399772644043, -5.589900016784668, -5.61299991607666, -5.645699977874756, -5.413599967956543, -5.465799808502197, -5.854499816894531, -6.023799896240234, -6.2154998779296875, -6.596499919891357, -6.750899791717529, -6.79610013961792, -6.804900169372559, -6.843699932098389, -7.06279993057251, -7.216400146484375, -7.211100101470947, -7.252600193023682, -7.420300006866455, -7.353799819946289, -7.486000061035156, -7.460700035095215, -7.701099872589111, -7.613399982452393, -7.702899932861328, -7.756800174713135, -7.699100017547607, -7.927499771118164, -7.792600154876709, -7.881700038909912, -7.282700061798096, -7.912300109863281, -7.963699817657471, -7.888500213623047, -7.3246002197265625, -6.317800045013428, -6.150599956512451, -6.603000164031982, -7.206099987030029, -5.577899932861328, -5.29040002822876, -6.170899868011475, -5.422999858856201, -6.315199851989746, -5.432300090789795, -4.474100112915039, -5.418000221252441, -6.630899906158447, -5.61329984664917, -6.602200031280518, -6.198400020599365, -5.755899906158447, -6.117400169372559, -6.662399768829346, -6.588399887084961, -6.516200065612793, -5.258900165557861, -6.367700099945068, -6.424300193786621, -6.206600189208984, -4.9105000495910645, -4.529600143432617, -4.642300128936768, -6.064000129699707, -4.931300163269043, -5.935999870300293, -5.285600185394287, -5.48330020904541, -5.743899822235107, -5.4791998863220215, -5.015399932861328, -5.368199825286865, -5.282100200653076, -5.335599899291992, -5.3678998947143555, -5.627799987792969, -5.417200088500977, -5.762700080871582, -5.658299922943115, -5.74370002746582, -5.664000034332275, -5.702499866485596, -5.626999855041504, -5.650000095367432, -3.82069993019104, -5.304699897766113, -5.352399826049805, -5.716300010681152, -5.845399856567383, -5.866499900817871, -6.096099853515625, -6.410200119018555, -6.423099994659424, -6.43120002746582, -6.566500186920166, -6.50570011138916, -6.631199836730957, -6.463500022888184, -6.478799819946289, -6.7104997634887695, -6.764599800109863, -6.875699996948242, -6.9679999351501465, -6.956200122833252, -6.994800090789795, -7.186399936676025, -7.235000133514404, -7.23330020904541, -6.467800140380859, -7.332900047302246, -7.2291998863220215, -7.247600078582764, -7.243299961090088, -7.292600154876709, -5.943699836730957, -6.412700176239014, -6.927599906921387, -5.055099964141846, -5.914100170135498, -6.422999858856201, -6.1753997802734375, -5.723199844360352, -4.559299945831299, -5.5289998054504395, -5.995200157165527, -6.120699882507324, -6.037799835205078, -5.671800136566162, -6.156400203704834, -5.930699825286865, -5.281199932098389, -5.325399875640869, -4.161799907684326, -4.392099857330322, -4.655300140380859, -5.6371002197265625, -4.712200164794922, -5.016900062561035, -5.817500114440918, -5.191100120544434, -5.551499843597412, -4.7266998291015625, -5.060299873352051, -4.969399929046631, -5.462600231170654, -5.100900173187256, -5.39900016784668, -5.4653000831604, -5.190299987792969, -5.339600086212158, -5.429699897766113, -5.4664998054504395, -5.58459997177124, -5.6184000968933105, -5.543099880218506]}, \"token.table\": {\"Topic\": [2, 1, 3, 2, 1, 2, 3, 1, 2, 3, 2, 3, 1, 2, 3, 1, 2, 1, 1, 2, 3, 1, 2, 3, 2, 2, 2, 1, 1, 2, 3, 1, 2, 1, 2, 3, 1, 2, 1, 2, 3, 1, 2, 3, 3, 2, 1, 2, 3, 1, 3, 2, 1, 3, 3, 2, 3, 3, 1, 2, 3, 2, 2, 1, 1, 1, 3, 1, 2, 1, 2, 3, 1, 3, 1, 2, 3, 1, 3, 2, 1, 1, 2, 3, 3, 3, 3, 1, 2, 3, 1, 3, 3, 1, 2, 3, 2, 3, 1, 2, 3, 1, 1, 1, 2, 1, 2, 3, 3, 1, 2, 3, 3, 1, 1, 2, 3, 2, 1, 2, 3, 2, 3, 1, 2, 1, 3, 2, 1, 2, 3, 3, 1, 2, 3, 2, 2, 3, 1, 1, 1, 2, 3, 2, 3, 1, 3, 1, 2, 3, 1, 3, 1, 2, 3, 3, 2, 2, 1, 2, 3, 2, 3, 2, 1, 1, 2, 3, 1, 2, 3, 1, 1, 2, 3, 1, 3, 1, 2, 3, 2, 3, 1, 2, 3, 1, 1, 2, 3, 2, 3, 1, 2, 3, 2, 1, 2, 1, 2, 1, 2, 3, 1, 2, 3, 1, 2, 3, 3, 3, 1, 2, 3, 3, 2, 1, 2, 1, 2, 3, 1, 2, 3, 1, 2, 3, 1, 2, 1, 2, 3, 2, 1, 2, 3, 1, 2, 1, 2, 3, 1, 2, 3, 1, 2, 3, 2, 3, 1, 3, 3, 1, 3, 1, 1, 1, 1, 2, 3, 2, 3, 1, 2, 3, 2, 3, 2, 2, 3, 2, 1, 2, 1, 3, 3, 3, 3, 2, 3, 3, 2, 1, 2, 3, 1, 3, 1, 2, 3, 2, 2, 3, 1, 2, 3, 1, 2, 3, 1, 3, 1, 2, 3, 3, 1, 1, 2, 3, 1, 1, 1, 3, 2, 3, 1, 2, 3, 1, 2, 3, 1, 2, 3, 3, 1, 2, 1, 2, 3, 1, 2, 3, 1, 3, 1, 2, 3, 1, 2, 3, 2, 3, 1, 2, 1, 1, 3, 3, 3, 2, 3, 2, 3], \"Freq\": [0.9964703917503357, 0.3268173336982727, 0.6730282306671143, 0.9994546175003052, 0.7854538559913635, 0.09914147853851318, 0.11539418250322342, 0.4504384994506836, 0.3060648441314697, 0.24353939294815063, 0.9990629553794861, 0.9986447095870972, 0.36277177929878235, 0.2613725960254669, 0.3758242428302765, 0.991175651550293, 0.008531245402991772, 0.9994613528251648, 0.3263370990753174, 0.020056569948792458, 0.653927743434906, 0.0723835676908493, 0.8211382031440735, 0.10560881346464157, 0.9990624189376831, 0.9959031939506531, 0.9947865009307861, 0.9996267557144165, 0.3224080204963684, 0.29443249106407166, 0.3832244277000427, 0.9096152782440186, 0.08991062641143799, 0.2271316945552826, 0.7658655643463135, 0.0075084855780005455, 0.25135233998298645, 0.7479898929595947, 0.9432047605514526, 0.016527455300092697, 0.04046376794576645, 0.9990619421005249, 0.9967788457870483, 0.999167799949646, 0.9985359311103821, 0.9979382157325745, 0.6700762510299683, 0.14428859949111938, 0.18584370613098145, 0.3103746175765991, 0.6894519925117493, 0.995811939239502, 0.8621096014976501, 0.13767826557159424, 0.9982098937034607, 0.9970285892486572, 0.003003098303452134, 0.998877763748169, 0.06653130054473877, 0.7378320693969727, 0.19560201466083527, 0.9962815642356873, 0.996741771697998, 0.9987683892250061, 0.9997524619102478, 0.9992884993553162, 0.9997231960296631, 0.9988924860954285, 0.9959611892700195, 0.5579437017440796, 0.1464824676513672, 0.2955532371997833, 0.13813625276088715, 0.8615015149116516, 0.2855478823184967, 0.6950951218605042, 0.019211171194911003, 0.004331921227276325, 0.9956198930740356, 0.9976493716239929, 0.9990649819374084, 0.17159345746040344, 0.5715481638908386, 0.2567451000213623, 0.9992812871932983, 0.9995290040969849, 0.9981945157051086, 0.20367331802845, 0.32084938883781433, 0.47530877590179443, 0.882615864276886, 0.11728721112012863, 0.996783435344696, 0.9418026804924011, 0.02567370980978012, 0.03249836713075638, 0.09934000670909882, 0.9005211591720581, 0.9977691769599915, 0.8110681772232056, 0.18869425356388092, 0.9993414878845215, 0.9986833333969116, 0.04876431077718735, 0.9502074122428894, 0.0027664664667099714, 0.09129338711500168, 0.9060177206993103, 0.9993661642074585, 0.023840878158807755, 0.03509907051920891, 0.9410524368286133, 0.9978216886520386, 0.9986884593963623, 0.14978338778018951, 0.029658600687980652, 0.8206043243408203, 0.9966574907302856, 0.886986255645752, 0.08713200688362122, 0.02587556652724743, 0.9023118019104004, 0.09717203676700592, 0.06287453323602676, 0.9370052218437195, 0.9976676106452942, 0.002733335830271244, 0.998842716217041, 0.8617953062057495, 0.12628096342086792, 0.011889047920703888, 0.9999465346336365, 0.17307643592357635, 0.4711425304412842, 0.35569819808006287, 0.9980062246322632, 0.9967878460884094, 0.0028808896895498037, 0.9993715882301331, 0.9995589852333069, 0.07343250513076782, 0.837054431438446, 0.0897931158542633, 0.7666375637054443, 0.23356342315673828, 0.9987150430679321, 0.9991392493247986, 0.6330435276031494, 0.12007014453411102, 0.24688106775283813, 0.9877511858940125, 0.010670151561498642, 0.9282642006874084, 0.0028974302113056183, 0.06881396472454071, 0.9979190826416016, 0.9995649456977844, 0.9969044327735901, 0.30689188838005066, 0.4735659062862396, 0.21958643198013306, 0.9702258706092834, 0.028612559661269188, 0.9969278573989868, 0.9996851682662964, 0.07832009345293045, 0.798221230506897, 0.12338096648454666, 0.5272284746170044, 0.03732946142554283, 0.4354434907436371, 0.9992111921310425, 0.4482032358646393, 0.28136783838272095, 0.2703964114189148, 0.00575611786916852, 0.9935059547424316, 0.2637573480606079, 0.32756736874580383, 0.40869125723838806, 0.16971519589424133, 0.8302283883094788, 0.42417383193969727, 0.3113446533679962, 0.264509916305542, 0.9991391897201538, 0.6684576272964478, 0.17604582011699677, 0.15538518130779266, 0.06572747975587845, 0.9341101050376892, 0.4329432249069214, 0.33527153730392456, 0.2316691130399704, 0.9993338584899902, 0.9514806866645813, 0.04826049879193306, 0.9388270378112793, 0.06097087264060974, 0.441153883934021, 0.41075634956359863, 0.14809052646160126, 0.33246058225631714, 0.3580567538738251, 0.30947229266166687, 0.8470464944839478, 0.0333811417222023, 0.11940177530050278, 0.9984667897224426, 0.996891438961029, 0.47046858072280884, 0.09002679586410522, 0.439596951007843, 0.9991008043289185, 0.9996849894523621, 0.9986688494682312, 0.9993698000907898, 0.31434935331344604, 0.36609411239624023, 0.3195238411426544, 0.7057518362998962, 0.2409532219171524, 0.053344644606113434, 0.272704154253006, 0.38084232807159424, 0.34655019640922546, 0.13782581686973572, 0.8618966341018677, 0.45373037457466125, 0.12979185581207275, 0.4164328873157501, 0.9970750212669373, 0.4227946102619171, 0.4018375277519226, 0.17534728348255157, 0.9984354972839355, 0.9978823661804199, 0.16279013454914093, 0.6877883672714233, 0.14922429621219635, 0.923700749874115, 0.0010709573980420828, 0.07496701925992966, 0.8656711578369141, 0.002113971160724759, 0.1321231871843338, 0.9993499517440796, 0.9997143745422363, 0.10543525964021683, 0.8940625190734863, 0.9984583258628845, 0.9861725568771362, 0.01352078840136528, 0.9997263550758362, 0.9994456768035889, 0.9989349842071533, 0.03760446235537529, 0.6285317540168762, 0.3336052894592285, 0.879569411277771, 0.11976567655801773, 0.45197221636772156, 0.21973742544651031, 0.32827767729759216, 0.0012223153607919812, 0.9986316561698914, 0.9938132762908936, 0.8420369029045105, 0.15714529156684875, 0.995323896408081, 0.09769327938556671, 0.9020030498504639, 0.8677883744239807, 0.1320294588804245, 0.9992915391921997, 0.9989903569221497, 0.9995558261871338, 0.9714272022247314, 0.02888604998588562, 0.9977012276649475, 0.9996287226676941, 0.5369116067886353, 0.29885584115982056, 0.16416025161743164, 0.08548185974359512, 0.9141810536384583, 0.5303137898445129, 0.22628521919250488, 0.24335788190364838, 0.9975098371505737, 0.8929809331893921, 0.10758806765079498, 0.6957773566246033, 0.2789391875267029, 0.025443775579333305, 0.6937471032142639, 0.11625581234693527, 0.1902632713317871, 0.8727492690086365, 0.12679564952850342, 0.9991289377212524, 0.043639764189720154, 0.9555989503860474, 0.9987677931785583, 0.9992271065711975, 0.41655614972114563, 0.37323248386383057, 0.21013149619102478, 0.9988694190979004, 0.9988671541213989, 0.00768993841484189, 0.9920020699501038, 0.7131801843643188, 0.28676432371139526, 0.2579905390739441, 0.20889922976493835, 0.5329541563987732, 0.3214220404624939, 0.23116657137870789, 0.44725707173347473, 0.9987516403198242, 0.09522199630737305, 0.9048720002174377, 0.9995000958442688, 0.24254494905471802, 0.7573342323303223, 0.5011334419250488, 0.27293315529823303, 0.2260105460882187, 0.03587906062602997, 0.029899217188358307, 0.9345640540122986, 0.24794122576713562, 0.751975953578949, 0.4276059567928314, 0.2646118402481079, 0.30789658427238464, 0.3023361265659332, 0.27795255184173584, 0.4197462499141693, 0.8645304441452026, 0.1350509077310562, 0.9083654880523682, 0.09117283672094345, 0.9987979531288147, 0.9973841309547424, 0.9993833899497986, 0.9997885227203369, 0.9983102083206177, 0.9076989889144897, 0.09154719114303589, 0.11858173459768295, 0.881134033203125], \"Term\": [\"abstraction\", \"accuracy\", \"accuracy\", \"agent\", \"algorithm\", \"algorithm\", \"algorithm\", \"also\", \"also\", \"also\", \"answer\", \"appearance\", \"approach\", \"approach\", \"approach\", \"approximate\", \"approximate\", \"approximation\", \"art\", \"art\", \"art\", \"artificial\", \"artificial\", \"artificial\", \"asp\", \"automaton\", \"axiom\", \"bandit\", \"base\", \"base\", \"base\", \"bayesian\", \"bayesian\", \"behavior\", \"behavior\", \"behavior\", \"belief\", \"belief\", \"bind\", \"bind\", \"bind\", \"bound\", \"calculus\", \"camera\", \"character\", \"circuit\", \"class\", \"class\", \"class\", \"classification\", \"classification\", \"clause\", \"cluster\", \"cluster\", \"cnn\", \"cognitive\", \"cognitive\", \"color\", \"concept\", \"concept\", \"concept\", \"conflict\", \"controller\", \"converge\", \"convergence\", \"convex\", \"convolutional\", \"covariance\", \"customer\", \"data\", \"data\", \"data\", \"dataset\", \"dataset\", \"decision\", \"decision\", \"decision\", \"deep\", \"deep\", \"default\", \"descent\", \"describe\", \"describe\", \"describe\", \"descriptor\", \"detection\", \"detector\", \"different\", \"different\", \"different\", \"dimensional\", \"dimensional\", \"disease\", \"distribution\", \"distribution\", \"distribution\", \"document\", \"document\", \"ell\", \"environment\", \"environment\", \"epsilon\", \"estimator\", \"evolutionary\", \"evolutionary\", \"extract\", \"extract\", \"extract\", \"extraction\", \"face\", \"face\", \"face\", \"facial\", \"factorization\", \"feature\", \"feature\", \"feature\", \"formalism\", \"function\", \"function\", \"function\", \"fuzzy\", \"fuzzy\", \"game\", \"game\", \"gaussian\", \"gaussian\", \"grammar\", \"graph\", \"graph\", \"graph\", \"image\", \"information\", \"information\", \"information\", \"intelligence\", \"intelligent\", \"intelligent\", \"iteration\", \"kernel\", \"knowledge\", \"knowledge\", \"knowledge\", \"language\", \"language\", \"lasso\", \"layer\", \"learn\", \"learn\", \"learn\", \"likelihood\", \"likelihood\", \"linear\", \"linear\", \"linear\", \"localization\", \"logic\", \"logical\", \"make\", \"make\", \"make\", \"management\", \"management\", \"market\", \"matrix\", \"mechanism\", \"mechanism\", \"mechanism\", \"method\", \"method\", \"method\", \"minimization\", \"model\", \"model\", \"model\", \"motion\", \"motion\", \"network\", \"network\", \"network\", \"neural\", \"neural\", \"new\", \"new\", \"new\", \"norm\", \"number\", \"number\", \"number\", \"object\", \"object\", \"one\", \"one\", \"one\", \"ontology\", \"optimal\", \"optimal\", \"optimization\", \"optimization\", \"order\", \"order\", \"order\", \"paper\", \"paper\", \"paper\", \"parameter\", \"parameter\", \"parameter\", \"patch\", \"patient\", \"performance\", \"performance\", \"performance\", \"pixel\", \"plan\", \"posterior\", \"preference\", \"present\", \"present\", \"present\", \"problem\", \"problem\", \"problem\", \"process\", \"process\", \"process\", \"program\", \"program\", \"propose\", \"propose\", \"propose\", \"propositional\", \"provide\", \"provide\", \"provide\", \"quadratic\", \"quantum\", \"query\", \"query\", \"query\", \"random\", \"random\", \"random\", \"rank\", \"rank\", \"rank\", \"reason\", \"recognition\", \"region\", \"region\", \"registration\", \"regression\", \"regression\", \"regret\", \"regularization\", \"relaxation\", \"research\", \"research\", \"research\", \"resource\", \"resource\", \"result\", \"result\", \"result\", \"retrieval\", \"retrieval\", \"revision\", \"robot\", \"robot\", \"route\", \"rule\", \"rule\", \"sample\", \"sample\", \"scene\", \"segment\", \"segmentation\", \"semantics\", \"semantics\", \"sentiment\", \"service\", \"set\", \"set\", \"set\", \"shape\", \"shape\", \"show\", \"show\", \"show\", \"sit\", \"software\", \"software\", \"solution\", \"solution\", \"solution\", \"space\", \"space\", \"space\", \"sparse\", \"sparse\", \"sparsity\", \"spatial\", \"spatial\", \"speech\", \"stochastic\", \"study\", \"study\", \"study\", \"subspace\", \"sum\", \"surface\", \"surface\", \"system\", \"system\", \"task\", \"task\", \"task\", \"technique\", \"technique\", \"technique\", \"tensor\", \"text\", \"text\", \"texture\", \"theory\", \"theory\", \"time\", \"time\", \"time\", \"track\", \"track\", \"track\", \"train\", \"train\", \"two\", \"two\", \"two\", \"use\", \"use\", \"use\", \"user\", \"user\", \"variable\", \"variable\", \"variational\", \"vertex\", \"video\", \"visual\", \"wavelet\", \"web\", \"web\", \"word\", \"word\"]}, \"R\": 30, \"lambda.step\": 0.01, \"plot.opts\": {\"xlab\": \"PC1\", \"ylab\": \"PC2\"}, \"topic.order\": [1, 2, 3]};\n",
       "\n",
       "function LDAvis_load_lib(url, callback){\n",
       "  var s = document.createElement('script');\n",
       "  s.src = url;\n",
       "  s.async = true;\n",
       "  s.onreadystatechange = s.onload = callback;\n",
       "  s.onerror = function(){console.warn(\"failed to load library \" + url);};\n",
       "  document.getElementsByTagName(\"head\")[0].appendChild(s);\n",
       "}\n",
       "\n",
       "if(typeof(LDAvis) !== \"undefined\"){\n",
       "   // already loaded: just create the visualization\n",
       "   !function(LDAvis){\n",
       "       new LDAvis(\"#\" + \"ldavis_el335201126277567522441379309\", ldavis_el335201126277567522441379309_data);\n",
       "   }(LDAvis);\n",
       "}else if(typeof define === \"function\" && define.amd){\n",
       "   // require.js is available: use it to load d3/LDAvis\n",
       "   require.config({paths: {d3: \"https://cdnjs.cloudflare.com/ajax/libs/d3/3.5.5/d3.min\"}});\n",
       "   require([\"d3\"], function(d3){\n",
       "      window.d3 = d3;\n",
       "      LDAvis_load_lib(\"https://cdn.rawgit.com/bmabey/pyLDAvis/files/ldavis.v1.0.0.js\", function(){\n",
       "        new LDAvis(\"#\" + \"ldavis_el335201126277567522441379309\", ldavis_el335201126277567522441379309_data);\n",
       "      });\n",
       "    });\n",
       "}else{\n",
       "    // require.js not available: dynamically load d3 & LDAvis\n",
       "    LDAvis_load_lib(\"https://cdnjs.cloudflare.com/ajax/libs/d3/3.5.5/d3.min.js\", function(){\n",
       "         LDAvis_load_lib(\"https://cdn.rawgit.com/bmabey/pyLDAvis/files/ldavis.v1.0.0.js\", function(){\n",
       "                 new LDAvis(\"#\" + \"ldavis_el335201126277567522441379309\", ldavis_el335201126277567522441379309_data);\n",
       "            })\n",
       "         });\n",
       "}\n",
       "</script>"
      ],
      "text/plain": [
       "<IPython.core.display.HTML object>"
      ]
     },
     "execution_count": 26,
     "metadata": {},
     "output_type": "execute_result"
    }
   ],
   "source": [
    "# Visualize the 5 topics, with each circle in the figure on the left showing each topic\n",
    "dictionary = gensim.corpora.Dictionary.load('dictionary.gensim')\n",
    "corpus = pickle.load(open('corpus.pkl', 'rb'))\n",
    "lda = gensim.models.ldamodel.LdaModel.load('model5_train.gensim')\n",
    "lda_display = pyLDAvis.gensim.prepare(lda, corpus, dictionary, sort_topics=False)\n",
    "pyLDAvis.display(lda_display)"
   ]
  },
  {
   "cell_type": "markdown",
   "metadata": {},
   "source": [
    "### 2.3 Use the training-based topic modeling (LDA) to predict testing data"
   ]
  },
  {
   "cell_type": "markdown",
   "metadata": {},
   "source": [
    "#### 2.3.1 Import testing data, visualize, and preprocessing"
   ]
  },
  {
   "cell_type": "code",
   "execution_count": 29,
   "metadata": {},
   "outputs": [
    {
     "data": {
      "text/html": [
       "<div>\n",
       "<style scoped>\n",
       "    .dataframe tbody tr th:only-of-type {\n",
       "        vertical-align: middle;\n",
       "    }\n",
       "\n",
       "    .dataframe tbody tr th {\n",
       "        vertical-align: top;\n",
       "    }\n",
       "\n",
       "    .dataframe thead th {\n",
       "        text-align: right;\n",
       "    }\n",
       "</style>\n",
       "<table border=\"1\" class=\"dataframe\">\n",
       "  <thead>\n",
       "    <tr style=\"text-align: right;\">\n",
       "      <th></th>\n",
       "      <th>abstract</th>\n",
       "      <th>authors</th>\n",
       "      <th>day</th>\n",
       "      <th>month</th>\n",
       "      <th>tags</th>\n",
       "      <th>title</th>\n",
       "      <th>year</th>\n",
       "    </tr>\n",
       "  </thead>\n",
       "  <tbody>\n",
       "    <tr>\n",
       "      <th>0</th>\n",
       "      <td>In recent years, deep neural network exhibits ...</td>\n",
       "      <td>[{'name': 'Aosen Wang'}, {'name': 'Hua Zhou'},...</td>\n",
       "      <td>16</td>\n",
       "      <td>8</td>\n",
       "      <td>[cs.CV]</td>\n",
       "      <td>Deep Neural Network Capacity</td>\n",
       "      <td>2017</td>\n",
       "    </tr>\n",
       "    <tr>\n",
       "      <th>1</th>\n",
       "      <td>This paper introduces the visually informed em...</td>\n",
       "      <td>[{'name': 'Oswaldo Ludwig'}, {'name': 'Xiao Li...</td>\n",
       "      <td>28</td>\n",
       "      <td>3</td>\n",
       "      <td>[cs.CL, cs.CV, cs.LG, cs.NE]</td>\n",
       "      <td>Deep Embedding for Spatial Role Labeling</td>\n",
       "      <td>2016</td>\n",
       "    </tr>\n",
       "  </tbody>\n",
       "</table>\n",
       "</div>"
      ],
      "text/plain": [
       "                                            abstract  \\\n",
       "0  In recent years, deep neural network exhibits ...   \n",
       "1  This paper introduces the visually informed em...   \n",
       "\n",
       "                                             authors  day  month  \\\n",
       "0  [{'name': 'Aosen Wang'}, {'name': 'Hua Zhou'},...   16      8   \n",
       "1  [{'name': 'Oswaldo Ludwig'}, {'name': 'Xiao Li...   28      3   \n",
       "\n",
       "                           tags                                     title  \\\n",
       "0                       [cs.CV]              Deep Neural Network Capacity   \n",
       "1  [cs.CL, cs.CV, cs.LG, cs.NE]  Deep Embedding for Spatial Role Labeling   \n",
       "\n",
       "   year  \n",
       "0  2017  \n",
       "1  2016  "
      ]
     },
     "execution_count": 29,
     "metadata": {},
     "output_type": "execute_result"
    }
   ],
   "source": [
    "df_test = importdata('data_test.json')\n",
    "df_test.head(2)"
   ]
  },
  {
   "cell_type": "code",
   "execution_count": 32,
   "metadata": {},
   "outputs": [
    {
     "name": "stderr",
     "output_type": "stream",
     "text": [
      "/Users/jingtingzhang/anaconda3/lib/python3.6/site-packages/matplotlib/axes/_axes.py:6462: UserWarning: The 'normed' kwarg is deprecated, and has been replaced by the 'density' kwarg.\n",
      "  warnings.warn(\"The 'normed' kwarg is deprecated, and has been \"\n"
     ]
    },
    {
     "data": {
      "image/png": "[encoded data removed]",
      "text/plain": [
       "<Figure size 720x360 with 1 Axes>"
      ]
     },
     "metadata": {},
     "output_type": "display_data"
    }
   ],
   "source": [
    "df_test['abstract length'] = df_test['abstract'].astype(str).apply(len)\n",
    "\n",
    "plt.figure(figsize = (10, 5))\n",
    "sns.distplot(df_test['abstract length'], bins = 40, kde = False)\n",
    "plt.title('abstract length')\n",
    "plt.savefig('plot of test abstract length.png')"
   ]
  },
  {
   "cell_type": "code",
   "execution_count": 35,
   "metadata": {},
   "outputs": [],
   "source": [
    "preprocessing(df_test)\n",
    "create_lemma_all_abstract(df_test)\n",
    "\n",
    "text_data_test = df_test['lem abstract']"
   ]
  },
  {
   "cell_type": "code",
   "execution_count": 36,
   "metadata": {},
   "outputs": [
    {
     "data": {
      "text/plain": [
       "[[(0, 0.29942077), (1, 0.15632387), (2, 0.5442553)],\n",
       " [(1, 0.013801836), (2, 0.9817466)],\n",
       " [(0, 0.7207381), (1, 0.27242514)],\n",
       " [(0, 0.54357255), (2, 0.45019734)],\n",
       " [(0, 0.022472236), (1, 0.8772341), (2, 0.100293666)],\n",
       " [(0, 0.97854936), (2, 0.015016763)],\n",
       " [(1, 0.27942583), (2, 0.7172243)],\n",
       " [(2, 0.99110526)],\n",
       " [(0, 0.1112452), (2, 0.88314694)],\n",
       " [(0, 0.1390637), (1, 0.012776886), (2, 0.84815943)],\n",
       " [(0, 0.91389287), (1, 0.08223057)],\n",
       " [(1, 0.5270669), (2, 0.46497113)],\n",
       " [(2, 0.993525)],\n",
       " [(0, 0.19034226), (2, 0.8069969)],\n",
       " [(1, 0.54109377), (2, 0.45452997)],\n",
       " [(0, 0.18479176), (1, 0.18446991), (2, 0.6307384)],\n",
       " [(0, 0.19696291), (1, 0.100669205), (2, 0.70236784)],\n",
       " [(0, 0.85027194), (1, 0.10338514), (2, 0.046342913)],\n",
       " [(0, 0.7120238), (1, 0.28412908)],\n",
       " [(1, 0.31231102), (2, 0.683851)],\n",
       " [(0, 0.448681), (2, 0.5485799)],\n",
       " [(0, 0.34016514), (2, 0.65577275)],\n",
       " [(0, 0.2988621), (1, 0.0306187), (2, 0.6705192)],\n",
       " [(0, 0.1387343), (2, 0.8538553)],\n",
       " [(0, 0.09325949), (1, 0.20375031), (2, 0.70299023)],\n",
       " [(0, 0.13108021), (2, 0.8653345)],\n",
       " [(0, 0.809766), (1, 0.186552)],\n",
       " [(0, 0.077771485), (2, 0.9187583)],\n",
       " [(0, 0.24754053), (1, 0.7496136)],\n",
       " [(0, 0.056159638), (1, 0.2044764), (2, 0.73936397)],\n",
       " [(0, 0.14361554), (1, 0.09378717), (2, 0.7625973)],\n",
       " [(0, 0.99332833)],\n",
       " [(1, 0.46935168), (2, 0.5248675)],\n",
       " [(1, 0.31991243), (2, 0.67406255)],\n",
       " [(0, 0.13791616), (1, 0.8569871)],\n",
       " [(1, 0.48249444), (2, 0.51335335)],\n",
       " [(0, 0.1369468), (2, 0.8593039)],\n",
       " [(1, 0.111191116), (2, 0.88337845)],\n",
       " [(0, 0.53885794), (2, 0.45271766)],\n",
       " [(0, 0.09540443), (1, 0.043696303), (2, 0.8608992)],\n",
       " [(0, 0.3443599), (1, 0.6169135), (2, 0.038726635)],\n",
       " [(0, 0.85823923), (2, 0.13847166)],\n",
       " [(0, 0.16010201), (1, 0.12263231), (2, 0.71726567)],\n",
       " [(0, 0.32920533), (1, 0.091092065), (2, 0.5797026)],\n",
       " [(0, 0.058719017), (1, 0.23573822), (2, 0.7055428)],\n",
       " [(0, 0.5784655), (2, 0.4170133)],\n",
       " [(0, 0.2253609), (1, 0.392968), (2, 0.38167107)],\n",
       " [(0, 0.9460217), (1, 0.049441542)],\n",
       " [(0, 0.45929995), (1, 0.16827644), (2, 0.37242356)],\n",
       " [(0, 0.1483172), (2, 0.84814495)],\n",
       " [(2, 0.9932596)],\n",
       " [(0, 0.46362665), (2, 0.5287548)],\n",
       " [(0, 0.12266383), (1, 0.14225733), (2, 0.7350788)],\n",
       " [(0, 0.89344394), (1, 0.10123877)],\n",
       " [(0, 0.96669346), (1, 0.02867012)],\n",
       " [(0, 0.054190584), (1, 0.529975), (2, 0.4158344)],\n",
       " [(1, 0.30938378), (2, 0.68374884)],\n",
       " [(0, 0.030770337), (1, 0.893108), (2, 0.07612169)],\n",
       " [(0, 0.8088885), (2, 0.18849652)],\n",
       " [(0, 0.3414293), (2, 0.6557799)],\n",
       " [(0, 0.03714831), (1, 0.11782468), (2, 0.845027)],\n",
       " [(1, 0.16794986), (2, 0.82726884)],\n",
       " [(0, 0.10369529), (1, 0.30834252), (2, 0.5879622)],\n",
       " [(1, 0.57737046), (2, 0.41724554)],\n",
       " [(0, 0.5134633), (1, 0.4836646)],\n",
       " [(0, 0.7215354), (1, 0.101382785), (2, 0.17708187)],\n",
       " [(0, 0.6481124), (1, 0.17566533), (2, 0.17622223)],\n",
       " [(0, 0.21075647), (2, 0.7858733)],\n",
       " [(0, 0.17242633), (1, 0.046905257), (2, 0.7806684)],\n",
       " [(0, 0.24283509), (1, 0.3903484), (2, 0.36681646)],\n",
       " [(0, 0.043118227), (1, 0.12006266), (2, 0.8368191)],\n",
       " [(1, 0.06891061), (2, 0.92714244)],\n",
       " [(0, 0.35399044), (2, 0.64017934)],\n",
       " [(1, 0.22134542), (2, 0.775398)],\n",
       " [(1, 0.42115626), (2, 0.5755789)],\n",
       " [(0, 0.15131506), (1, 0.30582723), (2, 0.5428577)],\n",
       " [(0, 0.05142696), (1, 0.47283697), (2, 0.47573608)],\n",
       " [(0, 0.36446327), (2, 0.6306315)],\n",
       " [(0, 0.13721758), (2, 0.85949904)],\n",
       " [(0, 0.39513445), (1, 0.13506588), (2, 0.46979967)],\n",
       " [(0, 0.35380256), (1, 0.045856416), (2, 0.60034096)],\n",
       " [(1, 0.5794605), (2, 0.41411662)],\n",
       " [(0, 0.13384804), (1, 0.80219704), (2, 0.063954905)],\n",
       " [(2, 0.99278253)],\n",
       " [(0, 0.3833709), (1, 0.03499736), (2, 0.5816317)],\n",
       " [(0, 0.03409383), (1, 0.035356954), (2, 0.9305492)],\n",
       " [(0, 0.07035967), (2, 0.9244629)],\n",
       " [(2, 0.99032456)],\n",
       " [(0, 0.39301383), (1, 0.12783231), (2, 0.4791539)],\n",
       " [(0, 0.11026611), (1, 0.64417267), (2, 0.24556121)],\n",
       " [(0, 0.027880365), (2, 0.96783113)],\n",
       " [(0, 0.096314006), (2, 0.9011658)],\n",
       " [(0, 0.42406955), (2, 0.5734016)],\n",
       " [(0, 0.035230715), (2, 0.96127135)],\n",
       " [(0, 0.8652442), (2, 0.13240269)],\n",
       " [(0, 0.48643094), (1, 0.021956533), (2, 0.4916125)],\n",
       " [(1, 0.09591416), (2, 0.90114206)],\n",
       " [(1, 0.44063833), (2, 0.55493313)],\n",
       " [(0, 0.4915501), (2, 0.5060669)],\n",
       " [(1, 0.2556506), (2, 0.73719084)],\n",
       " [(0, 0.7884753), (1, 0.17887998), (2, 0.032644697)],\n",
       " [(0, 0.41236606), (1, 0.29746228), (2, 0.29017168)],\n",
       " [(0, 0.45279157), (1, 0.49524373), (2, 0.051964708)],\n",
       " [(1, 0.75214136), (2, 0.24440989)],\n",
       " [(1, 0.0752912), (2, 0.91902584)],\n",
       " [(0, 0.13914393), (2, 0.85828495)],\n",
       " [(0, 0.99071306)],\n",
       " [(0, 0.7579419), (2, 0.23777205)],\n",
       " [(0, 0.9898017)],\n",
       " [(1, 0.3648231), (2, 0.63024694)],\n",
       " [(0, 0.17849404), (1, 0.07836856), (2, 0.7431374)],\n",
       " [(0, 0.03970989), (2, 0.95608616)],\n",
       " [(1, 0.14631833), (2, 0.85084265)],\n",
       " [(2, 0.99594194)],\n",
       " [(0, 0.33842343), (1, 0.3333257), (2, 0.32825089)],\n",
       " [(0, 0.17451628), (1, 0.33441126), (2, 0.49107245)],\n",
       " [(0, 0.38845444), (1, 0.046954215), (2, 0.56459135)],\n",
       " [(0, 0.049276352), (2, 0.9474193)],\n",
       " [(0, 0.022418777), (1, 0.2766071), (2, 0.7009741)],\n",
       " [(0, 0.4898019), (2, 0.50484306)],\n",
       " [(0, 0.029051121), (1, 0.05539708), (2, 0.91555184)],\n",
       " [(0, 0.1708417), (1, 0.48571688), (2, 0.34344146)],\n",
       " [(0, 0.06287598), (2, 0.92795354)],\n",
       " [(0, 0.9296206), (2, 0.06604448)],\n",
       " [(0, 0.9410972), (2, 0.050287463)],\n",
       " [(0, 0.20360133), (1, 0.6685361), (2, 0.12786253)],\n",
       " [(0, 0.34699517), (1, 0.5178913), (2, 0.13511355)],\n",
       " [(0, 0.48988232), (1, 0.4836687), (2, 0.026448986)],\n",
       " [(0, 0.5931657), (2, 0.40122795)],\n",
       " [(0, 0.14128871), (1, 0.63990283), (2, 0.2188085)],\n",
       " [(0, 0.08565103), (1, 0.17452465), (2, 0.7398243)],\n",
       " [(0, 0.21423301), (1, 0.6306826), (2, 0.15508442)],\n",
       " [(0, 0.63690823), (1, 0.3573694)],\n",
       " [(0, 0.23633532), (2, 0.76090837)],\n",
       " [(0, 0.37287852), (1, 0.02390925), (2, 0.60321224)],\n",
       " [(0, 0.38100836), (1, 0.16415758), (2, 0.45483404)],\n",
       " [(1, 0.5023547), (2, 0.49255612)],\n",
       " [(0, 0.99128443)],\n",
       " [(0, 0.88514686), (2, 0.10926181)],\n",
       " [(0, 0.29617104), (2, 0.6989597)],\n",
       " [(0, 0.19729173), (1, 0.066563115), (2, 0.73614514)],\n",
       " [(0, 0.6431609), (2, 0.35233396)],\n",
       " [(0, 0.13928685), (1, 0.8528343)],\n",
       " [(0, 0.9514901), (1, 0.043997318)],\n",
       " [(0, 0.04007493), (1, 0.095906235), (2, 0.8640188)],\n",
       " [(0, 0.9913404)],\n",
       " [(0, 0.24078089), (1, 0.7541473)],\n",
       " [(1, 0.4797096), (2, 0.51768476)],\n",
       " [(1, 0.23362492), (2, 0.76274884)],\n",
       " [(1, 0.29140484), (2, 0.701355)],\n",
       " [(0, 0.047975756), (1, 0.11626624), (2, 0.83575803)],\n",
       " [(0, 0.2874989), (1, 0.4775791), (2, 0.23492207)],\n",
       " [(0, 0.057373244), (2, 0.93858165)],\n",
       " [(0, 0.07864941), (1, 0.063736305), (2, 0.8576143)],\n",
       " [(0, 0.8667181), (1, 0.13012639)],\n",
       " [(0, 0.18757135), (2, 0.80919653)],\n",
       " [(1, 0.6414743), (2, 0.3551516)],\n",
       " [(0, 0.47691825), (1, 0.14139263), (2, 0.3816891)],\n",
       " [(0, 0.18484654), (1, 0.08123722), (2, 0.7339163)],\n",
       " [(2, 0.99131334)],\n",
       " [(1, 0.31175768), (2, 0.6827022)],\n",
       " [(0, 0.47964635), (1, 0.51578206)],\n",
       " [(0, 0.5986478), (2, 0.39839333)],\n",
       " [(0, 0.9909048)],\n",
       " [(1, 0.68871474), (2, 0.30635554)],\n",
       " [(0, 0.36364686), (1, 0.30678582), (2, 0.32956737)],\n",
       " [(0, 0.084359676), (1, 0.029357513), (2, 0.8862828)],\n",
       " [(0, 0.32342455), (1, 0.26805937), (2, 0.40851602)],\n",
       " [(0, 0.07130909), (2, 0.9256778)],\n",
       " [(0, 0.21254803), (2, 0.7825933)],\n",
       " [(0, 0.16837893), (2, 0.8291041)],\n",
       " [(0, 0.28965038), (1, 0.06453688), (2, 0.6458127)],\n",
       " [(0, 0.9847445)],\n",
       " [(0, 0.21395063), (2, 0.78103614)],\n",
       " [(0, 0.98998165)],\n",
       " [(0, 0.3961245), (1, 0.041792125), (2, 0.56208336)],\n",
       " [(0, 0.024786817), (2, 0.9706262)],\n",
       " [(0, 0.7789563), (1, 0.17194769), (2, 0.04909605)],\n",
       " [(0, 0.6838834), (2, 0.3116022)],\n",
       " [(0, 0.9490538), (1, 0.048569724)],\n",
       " [(0, 0.9911744)],\n",
       " [(0, 0.17071182), (2, 0.8263552)],\n",
       " [(0, 0.122613534), (1, 0.37652114), (2, 0.5008653)],\n",
       " [(0, 0.0870971), (2, 0.9075772)],\n",
       " [(0, 0.08386726), (1, 0.432348), (2, 0.48378477)],\n",
       " [(0, 0.08048681), (1, 0.33349866), (2, 0.58601457)],\n",
       " [(0, 0.5711525), (1, 0.058925875), (2, 0.36992154)],\n",
       " [(0, 0.15601973), (1, 0.10856331), (2, 0.73541695)],\n",
       " [(0, 0.09905412), (2, 0.896452)],\n",
       " [(0, 0.949763), (2, 0.04560633)],\n",
       " [(0, 0.91297317), (1, 0.082426324)],\n",
       " [(0, 0.5615359), (1, 0.015398931), (2, 0.42306513)],\n",
       " [(0, 0.845803), (2, 0.14923848)],\n",
       " [(1, 0.18871005), (2, 0.80737764)],\n",
       " [(0, 0.33780503), (1, 0.44640526), (2, 0.21578975)],\n",
       " [(0, 0.46787527), (1, 0.17216296), (2, 0.3599618)],\n",
       " [(0, 0.33667848), (1, 0.40544152), (2, 0.25788003)],\n",
       " [(1, 0.10065271), (2, 0.89577824)],\n",
       " [(2, 0.9878823)],\n",
       " [(0, 0.039766684), (1, 0.55787855), (2, 0.40235472)],\n",
       " [(0, 0.2068754), (2, 0.78986436)],\n",
       " [(0, 0.052705783), (1, 0.16016561), (2, 0.7871286)],\n",
       " [(0, 0.10960466), (2, 0.8856444)],\n",
       " [(1, 0.25306875), (2, 0.74370295)],\n",
       " [(0, 0.69747734), (1, 0.26493093), (2, 0.03759174)],\n",
       " [(0, 0.103107445), (1, 0.47369277), (2, 0.42319977)],\n",
       " [(0, 0.06000404), (1, 0.073509224), (2, 0.8664867)],\n",
       " [(0, 0.6681961), (1, 0.3132653), (2, 0.01853864)],\n",
       " [(2, 0.9824798)],\n",
       " [(1, 0.32839417), (2, 0.665619)],\n",
       " [(1, 0.9887815)],\n",
       " [(0, 0.022210082), (1, 0.19486211), (2, 0.7829278)],\n",
       " [(1, 0.10003665), (2, 0.89727354)],\n",
       " [(0, 0.06968588), (1, 0.43795928), (2, 0.49235484)],\n",
       " [(0, 0.057074975), (1, 0.12256387), (2, 0.82036114)],\n",
       " [(0, 0.047924027), (1, 0.46165493), (2, 0.49042103)],\n",
       " [(0, 0.57233506), (1, 0.06313493), (2, 0.36453003)],\n",
       " [(0, 0.18881905), (2, 0.8063383)],\n",
       " [(0, 0.15723932), (1, 0.18247603), (2, 0.66028464)],\n",
       " [(0, 0.9878092)],\n",
       " [(0, 0.9087563), (1, 0.085780464)],\n",
       " [(1, 0.055829424), (2, 0.9367556)],\n",
       " [(0, 0.47379288), (2, 0.5200323)],\n",
       " [(0, 0.37086648), (1, 0.1569693), (2, 0.4721643)],\n",
       " [(0, 0.9060043), (2, 0.08931655)],\n",
       " [(0, 0.19291684), (1, 0.07258979), (2, 0.7344934)],\n",
       " [(0, 0.8926354), (2, 0.10449184)],\n",
       " [(0, 0.74423134), (1, 0.25009587)],\n",
       " [(2, 0.9928546)],\n",
       " [(0, 0.9900031)],\n",
       " [(0, 0.19596031), (2, 0.7988304)],\n",
       " [(0, 0.1571665), (1, 0.38942984), (2, 0.4534037)],\n",
       " [(0, 0.9019942), (1, 0.09259659)],\n",
       " [(1, 0.58250844), (2, 0.41335902)],\n",
       " [(0, 0.8864701), (1, 0.10915132)],\n",
       " [(0, 0.9743981), (2, 0.021576244)],\n",
       " [(0, 0.54239696), (2, 0.453345)],\n",
       " [(0, 0.40277833), (2, 0.59420544)],\n",
       " [(2, 0.9869167)],\n",
       " [(0, 0.5203525), (1, 0.107150845), (2, 0.3724967)],\n",
       " [(1, 0.08647074), (2, 0.909993)],\n",
       " [(0, 0.100890644), (1, 0.29236406), (2, 0.6067453)],\n",
       " [(0, 0.8995159), (1, 0.09634919)],\n",
       " [(0, 0.040716756), (1, 0.8177333), (2, 0.1415499)],\n",
       " [(1, 0.21039791), (2, 0.7849622)],\n",
       " [(0, 0.13149577), (2, 0.86300355)],\n",
       " [(0, 0.8443702), (1, 0.1496564)],\n",
       " [(0, 0.1600724), (2, 0.8369441)],\n",
       " [(0, 0.6377911), (1, 0.29827112), (2, 0.06393777)],\n",
       " [(0, 0.95516896), (1, 0.029138032), (2, 0.015693)],\n",
       " [(0, 0.019818667), (1, 0.3305385), (2, 0.6496428)],\n",
       " [(0, 0.13255844), (1, 0.13592647), (2, 0.7315151)],\n",
       " [(0, 0.2880079), (1, 0.21982777), (2, 0.49216437)],\n",
       " [(1, 0.15059923), (2, 0.8433237)],\n",
       " [(0, 0.546208), (2, 0.44829622)],\n",
       " [(0, 0.68094736), (1, 0.15974158), (2, 0.15931104)],\n",
       " [(0, 0.0123157725), (2, 0.98457855)],\n",
       " [(0, 0.70964134), (1, 0.1236548), (2, 0.16670384)],\n",
       " [(0, 0.35131705), (2, 0.644471)],\n",
       " [(1, 0.79079086), (2, 0.20230702)],\n",
       " [(0, 0.9905086)],\n",
       " [(0, 0.0897882), (1, 0.020583931), (2, 0.88962793)],\n",
       " [(0, 0.2836906), (2, 0.7132611)],\n",
       " [(1, 0.81139284), (2, 0.18351337)],\n",
       " [(0, 0.44317323), (1, 0.5535326)],\n",
       " [(0, 0.33465096), (1, 0.6620981)],\n",
       " [(0, 0.82813174), (2, 0.16547312)],\n",
       " [(1, 0.5747829), (2, 0.41931877)],\n",
       " [(0, 0.28536487), (1, 0.05801522), (2, 0.6566199)],\n",
       " [(1, 0.15841912), (2, 0.8382675)],\n",
       " [(0, 0.08974642), (1, 0.20861441), (2, 0.7016392)],\n",
       " [(0, 0.23257366), (1, 0.14802288), (2, 0.6194035)],\n",
       " [(0, 0.08104153), (1, 0.7275168), (2, 0.19144166)],\n",
       " [(0, 0.5807933), (1, 0.41348326)],\n",
       " [(0, 0.121914096), (2, 0.87478167)],\n",
       " [(2, 0.98943424)],\n",
       " [(0, 0.078793675), (1, 0.04645047), (2, 0.8747558)],\n",
       " [(0, 0.12955105), (2, 0.86805815)],\n",
       " [(0, 0.1980572), (1, 0.27792734), (2, 0.5240154)],\n",
       " [(0, 0.44748536), (1, 0.4812452), (2, 0.071269445)],\n",
       " [(1, 0.44537798), (2, 0.55165446)],\n",
       " [(0, 0.18116389), (2, 0.8151116)],\n",
       " [(0, 0.48686108), (2, 0.5096175)],\n",
       " [(1, 0.073034115), (2, 0.9205649)],\n",
       " [(0, 0.034250747), (1, 0.36065584), (2, 0.60509336)],\n",
       " [(0, 0.31608993), (2, 0.67694813)],\n",
       " [(0, 0.12696837), (1, 0.09625788), (2, 0.77677375)],\n",
       " [(0, 0.29809964), (2, 0.6952145)],\n",
       " [(0, 0.561433), (1, 0.37419692), (2, 0.06437009)],\n",
       " [(0, 0.53235704), (1, 0.3796903), (2, 0.08795265)],\n",
       " [(0, 0.30166695), (1, 0.6943677)],\n",
       " [(0, 0.3272914), (1, 0.4168666), (2, 0.25584194)],\n",
       " [(0, 0.49372312), (1, 0.21823686), (2, 0.28804)],\n",
       " [(0, 0.024532434), (1, 0.36403835), (2, 0.6114293)],\n",
       " [(1, 0.404636), (2, 0.59107536)],\n",
       " [(0, 0.8001535), (2, 0.1964244)],\n",
       " [(1, 0.8071325), (2, 0.18771109)],\n",
       " [(0, 0.14081846), (1, 0.1429898), (2, 0.71619177)],\n",
       " [(0, 0.7359514), (2, 0.25969636)],\n",
       " [(0, 0.30683807), (2, 0.68844485)],\n",
       " [(0, 0.054168522), (1, 0.025418619), (2, 0.92041284)],\n",
       " [(1, 0.06458664), (2, 0.93281585)],\n",
       " [(1, 0.09392353), (2, 0.902056)],\n",
       " [(1, 0.16725382), (2, 0.828794)],\n",
       " [(0, 0.45791548), (1, 0.33591866), (2, 0.20616584)],\n",
       " [(0, 0.050793946), (1, 0.06795305), (2, 0.88125294)],\n",
       " [(0, 0.15928772), (1, 0.076048516), (2, 0.7646638)],\n",
       " [(1, 0.5147682), (2, 0.47825438)],\n",
       " [(1, 0.08676223), (2, 0.9092093)],\n",
       " [(0, 0.33499318), (2, 0.65785885)],\n",
       " [(0, 0.93761796), (2, 0.057465952)],\n",
       " [(0, 0.6242412), (1, 0.14301696), (2, 0.2327419)],\n",
       " [(1, 0.816357), (2, 0.18115936)],\n",
       " [(0, 0.13716446), (2, 0.85924596)],\n",
       " [(0, 0.023448402), (1, 0.05807935), (2, 0.9184723)],\n",
       " [(0, 0.4470823), (2, 0.5469704)],\n",
       " [(1, 0.29868385), (2, 0.69688004)],\n",
       " [(1, 0.53561944), (2, 0.4610493)],\n",
       " [(1, 0.1194494), (2, 0.87541854)],\n",
       " [(0, 0.0845325), (1, 0.64450127), (2, 0.27096623)],\n",
       " [(0, 0.40090877), (1, 0.513164), (2, 0.085927196)],\n",
       " [(0, 0.06610039), (1, 0.13851847), (2, 0.7953811)],\n",
       " [(0, 0.60503066), (2, 0.39052323)],\n",
       " [(0, 0.26514566), (1, 0.03729839), (2, 0.6975559)],\n",
       " [(1, 0.98010945)],\n",
       " [(0, 0.3872022), (1, 0.061260045), (2, 0.55153775)],\n",
       " [(1, 0.33137423), (2, 0.66067106)],\n",
       " [(0, 0.07173733), (2, 0.9243578)],\n",
       " [(0, 0.20047116), (1, 0.09989282), (2, 0.69963604)],\n",
       " [(0, 0.029189326), (1, 0.018637514), (2, 0.9521732)],\n",
       " [(0, 0.11262672), (1, 0.7878051), (2, 0.09956821)],\n",
       " [(0, 0.057506394), (1, 0.31318355), (2, 0.6293101)],\n",
       " [(0, 0.1673373), (2, 0.8241352)],\n",
       " [(0, 0.15018733), (2, 0.8468607)],\n",
       " [(1, 0.37156194), (2, 0.6220313)],\n",
       " [(1, 0.13169193), (2, 0.86323047)],\n",
       " [(1, 0.8411396), (2, 0.1531555)],\n",
       " [(0, 0.5900822), (1, 0.26029307), (2, 0.14962466)],\n",
       " [(0, 0.072509), (1, 0.08675948), (2, 0.84073156)],\n",
       " [(0, 0.18278624), (1, 0.36978927), (2, 0.4474245)],\n",
       " [(0, 0.042918365), (1, 0.29772636), (2, 0.6593552)],\n",
       " [(0, 0.045566883), (1, 0.9477292)],\n",
       " [(0, 0.42630383), (1, 0.094200775), (2, 0.47949538)],\n",
       " [(0, 0.9889744)],\n",
       " [(0, 0.2416304), (1, 0.49212825), (2, 0.26624137)],\n",
       " [(0, 0.040847752), (2, 0.95204645)],\n",
       " [(0, 0.3879138), (1, 0.35513312), (2, 0.25695306)],\n",
       " [(0, 0.1249854), (2, 0.8676492)],\n",
       " [(0, 0.986423)],\n",
       " [(0, 0.19234812), (1, 0.36319053), (2, 0.44446135)],\n",
       " [(2, 0.99286884)],\n",
       " [(1, 0.10188135), (2, 0.8944986)],\n",
       " [(1, 0.215542), (2, 0.7784786)],\n",
       " [(0, 0.7157308), (2, 0.27752912)],\n",
       " [(0, 0.41227093), (1, 0.05189941), (2, 0.53582966)],\n",
       " [(0, 0.12869525), (1, 0.049599383), (2, 0.82170534)],\n",
       " [(0, 0.13919593), (1, 0.2230845), (2, 0.6377196)],\n",
       " [(1, 0.079426564), (2, 0.9170961)],\n",
       " [(0, 0.037769534), (1, 0.042854205), (2, 0.91937625)],\n",
       " [(0, 0.53759396), (2, 0.4563887)],\n",
       " [(0, 0.06971135), (1, 0.15015912), (2, 0.78012955)],\n",
       " [(1, 0.39106685), (2, 0.6059767)],\n",
       " [(0, 0.047327276), (1, 0.19459306), (2, 0.7580797)],\n",
       " [(1, 0.047655027), (2, 0.9471745)],\n",
       " [(0, 0.22436386), (2, 0.77088475)],\n",
       " [(1, 0.64922667), (2, 0.34562808)],\n",
       " [(0, 0.6488045), (1, 0.10613079), (2, 0.24506474)],\n",
       " [(0, 0.059073646), (2, 0.93726325)],\n",
       " [(0, 0.9454863), (2, 0.047178376)],\n",
       " [(0, 0.05575045), (2, 0.94082373)],\n",
       " [(0, 0.79975635), (1, 0.08871228), (2, 0.111531414)],\n",
       " [(0, 0.58020353), (2, 0.41553074)],\n",
       " [(0, 0.2016152), (1, 0.7639885), (2, 0.034396227)],\n",
       " [(0, 0.5564089), (2, 0.4405467)],\n",
       " [(0, 0.10226729), (1, 0.70674425), (2, 0.1909885)],\n",
       " [(0, 0.035320736), (1, 0.07351989), (2, 0.89115936)],\n",
       " [(0, 0.30119878), (1, 0.028749658), (2, 0.6700516)],\n",
       " [(0, 0.7660916), (1, 0.08660156), (2, 0.14730684)],\n",
       " [(0, 0.36199135), (2, 0.6351937)],\n",
       " [(0, 0.9517201), (1, 0.035259187), (2, 0.013020673)],\n",
       " [(0, 0.851122), (2, 0.14486694)],\n",
       " [(1, 0.43964276), (2, 0.5558169)],\n",
       " [(0, 0.30759165), (2, 0.68877435)],\n",
       " [(0, 0.5954829), (1, 0.076279044), (2, 0.328238)],\n",
       " [(0, 0.10345245), (2, 0.8936154)],\n",
       " [(0, 0.20447306), (1, 0.06659923), (2, 0.7289277)],\n",
       " [(0, 0.09201543), (2, 0.90216684)],\n",
       " [(0, 0.2642715), (2, 0.7331007)],\n",
       " [(0, 0.8360594), (2, 0.15902577)],\n",
       " [(1, 0.04475478), (2, 0.9530066)],\n",
       " [(1, 0.7195731), (2, 0.27218252)],\n",
       " [(0, 0.19977038), (1, 0.21312056), (2, 0.5871091)],\n",
       " [(0, 0.09914276), (1, 0.068629615), (2, 0.8322276)],\n",
       " [(0, 0.44604543), (1, 0.15090926), (2, 0.40304527)],\n",
       " [(0, 0.62363905), (1, 0.3725847)],\n",
       " [(0, 0.9896592)],\n",
       " [(1, 0.93775886), (2, 0.056815)],\n",
       " [(0, 0.67310196), (1, 0.3205727)],\n",
       " [(0, 0.12094836), (1, 0.06243621), (2, 0.8166154)],\n",
       " [(0, 0.28963515), (1, 0.5513892), (2, 0.15897559)],\n",
       " [(0, 0.12079956), (1, 0.21059047), (2, 0.66861)],\n",
       " [(0, 0.20590985), (1, 0.08723696), (2, 0.7068532)],\n",
       " [(0, 0.16557513), (1, 0.05082389), (2, 0.7836009)],\n",
       " [(1, 0.30473685), (2, 0.69259536)],\n",
       " [(0, 0.31615764), (1, 0.44549322), (2, 0.2383492)],\n",
       " [(1, 0.6376391), (2, 0.3590167)],\n",
       " [(1, 0.9934397)],\n",
       " [(0, 0.09873471), (1, 0.07123546), (2, 0.8300298)],\n",
       " [(0, 0.19633296), (1, 0.17517988), (2, 0.62848717)],\n",
       " [(0, 0.6330885), (1, 0.021978669), (2, 0.3449328)],\n",
       " [(0, 0.6574676), (1, 0.10383233), (2, 0.23870009)],\n",
       " [(0, 0.09135719), (2, 0.90378845)],\n",
       " [(1, 0.01977757), (2, 0.9771393)],\n",
       " [(0, 0.47292522), (1, 0.058098163), (2, 0.46897668)],\n",
       " [(1, 0.15493856), (2, 0.8381844)],\n",
       " [(0, 0.23459889), (1, 0.043983076), (2, 0.72141796)],\n",
       " [(0, 0.29278374), (1, 0.116135366), (2, 0.5910809)],\n",
       " [(0, 0.8824762), (1, 0.033970986), (2, 0.08355277)],\n",
       " [(0, 0.30541262), (2, 0.6906837)],\n",
       " [(0, 0.105092205), (2, 0.89103657)],\n",
       " [(1, 0.035339225), (2, 0.9598338)],\n",
       " [(0, 0.8769883), (2, 0.118723795)],\n",
       " [(0, 0.60533726), (1, 0.33162525), (2, 0.06303754)],\n",
       " [(0, 0.071464784), (1, 0.61117566), (2, 0.31735957)],\n",
       " [(0, 0.4983536), (1, 0.49927)],\n",
       " [(0, 0.07985025), (1, 0.09057628), (2, 0.82957345)],\n",
       " [(1, 0.39402908), (2, 0.60269094)],\n",
       " [(2, 0.9944258)],\n",
       " [(0, 0.37485036), (1, 0.61886466)],\n",
       " [(0, 0.78967667), (2, 0.20550081)],\n",
       " [(0, 0.2822703), (1, 0.04396147), (2, 0.67376816)],\n",
       " [(1, 0.1807988), (2, 0.8140455)],\n",
       " [(0, 0.55518025), (1, 0.1769803), (2, 0.26783943)],\n",
       " [(0, 0.38163745), (2, 0.6106748)],\n",
       " [(0, 0.13025552), (1, 0.2280972), (2, 0.64164734)],\n",
       " [(0, 0.22602837), (1, 0.76978284)],\n",
       " [(0, 0.1059987), (2, 0.88975877)],\n",
       " [(0, 0.9422658), (1, 0.054089636)],\n",
       " [(0, 0.23540102), (1, 0.36222374), (2, 0.4023752)],\n",
       " [(2, 0.9869766)],\n",
       " [(1, 0.51957995), (2, 0.47466123)],\n",
       " [(0, 0.057705812), (1, 0.31733882), (2, 0.62495536)],\n",
       " [(0, 0.26519105), (1, 0.61146235), (2, 0.123346634)],\n",
       " [(2, 0.99262303)],\n",
       " [(1, 0.06922606), (2, 0.92770594)],\n",
       " [(2, 0.9847793)],\n",
       " [(1, 0.23156753), (2, 0.7654481)],\n",
       " [(0, 0.32858527), (1, 0.28169322), (2, 0.3897215)],\n",
       " [(0, 0.6593988), (2, 0.33705828)],\n",
       " [(0, 0.38092807), (2, 0.61668146)],\n",
       " [(0, 0.25188035), (1, 0.71825886), (2, 0.029860742)],\n",
       " [(0, 0.37205017), (2, 0.6222855)],\n",
       " [(0, 0.047090493), (1, 0.25655162), (2, 0.69635785)],\n",
       " [(0, 0.08209812), (2, 0.91502)],\n",
       " [(0, 0.845747), (2, 0.14674522)],\n",
       " [(0, 0.04752507), (2, 0.94967663)],\n",
       " [(1, 0.37313074), (2, 0.62340415)],\n",
       " [(2, 0.9881834)],\n",
       " [(0, 0.06900083), (1, 0.5668678), (2, 0.36413136)],\n",
       " [(2, 0.9931224)],\n",
       " [(1, 0.26405096), (2, 0.7329697)],\n",
       " [(0, 0.87946445), (1, 0.080008715), (2, 0.04052684)],\n",
       " [(0, 0.7898106), (2, 0.20498642)],\n",
       " [(0, 0.17821053), (2, 0.81816894)],\n",
       " [(0, 0.66647524), (1, 0.32975245)],\n",
       " [(1, 0.3553816), (2, 0.63966435)],\n",
       " [(0, 0.6449773), (1, 0.1738626), (2, 0.18116005)],\n",
       " [(0, 0.03211356), (1, 0.30001363), (2, 0.6678728)],\n",
       " [(0, 0.14975089), (1, 0.5988545), (2, 0.25139463)],\n",
       " [(0, 0.70194364), (2, 0.29267126)],\n",
       " [(0, 0.13689664), (1, 0.25949663), (2, 0.60360676)],\n",
       " [(0, 0.5485268), (2, 0.44855487)],\n",
       " [(0, 0.14517869), (1, 0.120187454), (2, 0.73463386)],\n",
       " [(1, 0.014032388), (2, 0.98374605)],\n",
       " [(0, 0.19745687), (1, 0.110130765), (2, 0.6924124)],\n",
       " [(2, 0.9906089)],\n",
       " [(0, 0.3194789), (1, 0.039360322), (2, 0.6411608)],\n",
       " [(0, 0.57819164), (1, 0.41629016)],\n",
       " [(0, 0.08119248), (2, 0.9145357)],\n",
       " [(0, 0.327787), (1, 0.086344115), (2, 0.58586884)],\n",
       " [(1, 0.95891833), (2, 0.038504347)],\n",
       " [(0, 0.24431406), (1, 0.74658436)],\n",
       " [(0, 0.5082067), (1, 0.04236979), (2, 0.44942355)],\n",
       " [(0, 0.23095767), (2, 0.7658593)],\n",
       " [(0, 0.17749289), (2, 0.8197064)],\n",
       " [(0, 0.016026458), (1, 0.49779156), (2, 0.48618197)],\n",
       " [(0, 0.08209022), (2, 0.9150238)],\n",
       " [(0, 0.032944486), (1, 0.023098022), (2, 0.9439575)],\n",
       " [(0, 0.65244275), (1, 0.033093117), (2, 0.3144641)],\n",
       " [(0, 0.012453238), (1, 0.60760903), (2, 0.37993774)],\n",
       " [(0, 0.3535052), (2, 0.6416977)],\n",
       " [(1, 0.7105273), (2, 0.28306144)],\n",
       " [(0, 0.43419406), (1, 0.55867815)],\n",
       " [(0, 0.2336834), (2, 0.7635544)],\n",
       " [(0, 0.097608626), (2, 0.8978079)],\n",
       " [(0, 0.32019818), (1, 0.44165513), (2, 0.23814665)],\n",
       " [(0, 0.24080783), (1, 0.026522541), (2, 0.7326696)],\n",
       " [(0, 0.21364829), (1, 0.5192871), (2, 0.26706457)],\n",
       " [(0, 0.98974365)],\n",
       " [(0, 0.5982238), (2, 0.39842442)],\n",
       " [(0, 0.8889932), (1, 0.047010776), (2, 0.06399606)],\n",
       " [(0, 0.48613235), (1, 0.4544705), (2, 0.05939716)],\n",
       " [(0, 0.44068077), (1, 0.49353167), (2, 0.06578754)],\n",
       " [(1, 0.24396028), (2, 0.74832946)],\n",
       " [(0, 0.9836037)],\n",
       " [(1, 0.14301872), (2, 0.8526244)],\n",
       " [(2, 0.98403853)],\n",
       " [(2, 0.9857561)],\n",
       " [(1, 0.08317283), (2, 0.9109407)],\n",
       " [(1, 0.08515514), (2, 0.9116426)],\n",
       " [(0, 0.9394253), (1, 0.054367475)],\n",
       " [(0, 0.13853037), (1, 0.4438478), (2, 0.41762185)],\n",
       " [(0, 0.14042874), (1, 0.19856992), (2, 0.6610013)],\n",
       " [(1, 0.24199751), (2, 0.754068)],\n",
       " [(0, 0.30136263), (2, 0.6956538)],\n",
       " [(1, 0.2035715), (2, 0.79249614)],\n",
       " [(0, 0.5399939), (1, 0.34748712), (2, 0.11251896)],\n",
       " [(0, 0.015242553), (1, 0.08306075), (2, 0.90169674)],\n",
       " [(0, 0.1788535), (1, 0.31211653), (2, 0.5090299)],\n",
       " [(0, 0.4066013), (1, 0.58993095)],\n",
       " [(0, 0.08299026), (1, 0.070226885), (2, 0.8467828)],\n",
       " [(0, 0.09148329), (1, 0.082198136), (2, 0.82631856)],\n",
       " [(0, 0.10603881), (1, 0.079772264), (2, 0.81418896)],\n",
       " [(0, 0.17757381), (1, 0.28617626), (2, 0.53624994)],\n",
       " [(0, 0.20820886), (2, 0.7893667)],\n",
       " [(0, 0.8395502), (2, 0.1562276)],\n",
       " [(0, 0.053956795), (1, 0.1524347), (2, 0.79360855)],\n",
       " [(2, 0.9903826)],\n",
       " [(0, 0.028241534), (1, 0.9680567)],\n",
       " [(0, 0.030565698), (1, 0.11065216), (2, 0.8587821)],\n",
       " [(0, 0.7741461), (2, 0.21934961)],\n",
       " [(0, 0.9266004), (2, 0.06897882)],\n",
       " [(1, 0.59956646), (2, 0.39418334)],\n",
       " [(1, 0.98600286)],\n",
       " [(2, 0.99120754)],\n",
       " [(0, 0.13016704), (1, 0.2802901), (2, 0.58954287)],\n",
       " [(0, 0.2596367), (1, 0.07204435), (2, 0.6683189)],\n",
       " [(0, 0.03983672), (2, 0.9537581)],\n",
       " [(0, 0.16723357), (1, 0.0113820005), (2, 0.82138443)],\n",
       " [(0, 0.27766034), (1, 0.3193102), (2, 0.4030295)],\n",
       " [(1, 0.091905706), (2, 0.90448797)],\n",
       " [(0, 0.546452), (2, 0.4462485)],\n",
       " [(0, 0.8382144), (1, 0.02797567), (2, 0.13380991)],\n",
       " [(0, 0.06287648), (1, 0.2061789), (2, 0.7309446)],\n",
       " [(0, 0.19979732), (1, 0.5604412), (2, 0.23976147)],\n",
       " [(1, 0.84139305), (2, 0.15476653)],\n",
       " [(0, 0.092281416), (2, 0.9046279)],\n",
       " [(0, 0.14270572), (2, 0.8526858)],\n",
       " [(0, 0.41172522), (1, 0.011441615), (2, 0.5768332)],\n",
       " [(0, 0.23530987), (1, 0.28206456), (2, 0.48262557)],\n",
       " [(0, 0.80706894), (1, 0.039412364), (2, 0.15351869)],\n",
       " [(0, 0.13518427), (2, 0.8610508)],\n",
       " [(1, 0.14119074), (2, 0.8556782)],\n",
       " [(1, 0.8095265), (2, 0.18815932)],\n",
       " [(1, 0.450796), (2, 0.54406637)],\n",
       " [(0, 0.53307575), (2, 0.463749)],\n",
       " [(1, 0.06963389), (2, 0.9255742)],\n",
       " [(0, 0.98703474)],\n",
       " [(0, 0.035873275), (1, 0.9591096)],\n",
       " [(0, 0.98713696), (2, 0.010731495)],\n",
       " [(0, 0.070688464), (1, 0.07074248), (2, 0.8585691)],\n",
       " [(0, 0.10126294), (2, 0.8956043)],\n",
       " [(0, 0.27288455), (1, 0.22793624), (2, 0.49917924)],\n",
       " [(1, 0.34327033), (2, 0.64988166)],\n",
       " [(0, 0.17734802), (2, 0.8137482)],\n",
       " [(0, 0.90039885), (2, 0.09524364)],\n",
       " [(0, 0.066556476), (1, 0.81563115), (2, 0.117812335)],\n",
       " [(0, 0.9311955), (1, 0.06494013)],\n",
       " [(0, 0.06723482), (1, 0.4284178), (2, 0.5043473)],\n",
       " [(0, 0.14052808), (1, 0.052153874), (2, 0.80731803)],\n",
       " [(0, 0.3776248), (1, 0.04096454), (2, 0.58141065)],\n",
       " [(0, 0.48234642), (1, 0.037946824), (2, 0.47970676)],\n",
       " [(0, 0.22041012), (1, 0.104334615), (2, 0.6752553)],\n",
       " [(0, 0.35327095), (1, 0.36266404), (2, 0.28406504)],\n",
       " [(0, 0.73923165), (1, 0.07247637), (2, 0.18829198)],\n",
       " [(0, 0.5705935), (1, 0.14523773), (2, 0.2841688)],\n",
       " [(0, 0.028766632), (1, 0.91046125), (2, 0.060772114)],\n",
       " [(0, 0.6303698), (1, 0.13315426), (2, 0.23647599)],\n",
       " [(0, 0.43614915), (1, 0.56023455)],\n",
       " [(0, 0.33580935), (2, 0.6607068)],\n",
       " [(0, 0.010579933), (1, 0.111305185), (2, 0.8781148)],\n",
       " [(0, 0.9638942), (2, 0.031575385)],\n",
       " [(0, 0.9948266)],\n",
       " [(1, 0.37191242), (2, 0.6226986)],\n",
       " [(1, 0.09297344), (2, 0.90201056)],\n",
       " [(0, 0.81101984), (2, 0.18439335)],\n",
       " [(0, 0.5697193), (1, 0.17879668), (2, 0.251484)],\n",
       " [(0, 0.12317531), (2, 0.8717282)],\n",
       " [(0, 0.14722887), (2, 0.84913474)],\n",
       " [(0, 0.6748647), (1, 0.15484673), (2, 0.17028856)],\n",
       " [(1, 0.23269711), (2, 0.76450306)],\n",
       " [(0, 0.11999962), (1, 0.14041607), (2, 0.73958427)],\n",
       " [(1, 0.75105065), (2, 0.24621655)],\n",
       " [(0, 0.9579867), (2, 0.03773499)],\n",
       " [(0, 0.020607838), (1, 0.016739586), (2, 0.96265256)],\n",
       " [(1, 0.03980008), (2, 0.95653194)],\n",
       " [(1, 0.5162018), (2, 0.47461337)],\n",
       " [(0, 0.33804095), (1, 0.64787865), (2, 0.01408043)],\n",
       " [(0, 0.99044824)],\n",
       " [(0, 0.17267679), (2, 0.82256484)],\n",
       " [(0, 0.7960943), (1, 0.081977904), (2, 0.121927775)],\n",
       " [(0, 0.985407)],\n",
       " [(2, 0.9874937)],\n",
       " [(0, 0.83086306), (1, 0.16525654)],\n",
       " [(0, 0.54309595), (2, 0.45378047)],\n",
       " [(0, 0.42091492), (1, 0.091666885), (2, 0.48741817)],\n",
       " [(0, 0.013538807), (1, 0.13668536), (2, 0.84977585)],\n",
       " [(0, 0.44663393), (1, 0.14445806), (2, 0.40890804)],\n",
       " [(0, 0.08041574), (2, 0.9156608)],\n",
       " [(0, 0.15797591), (1, 0.17545487), (2, 0.66656923)],\n",
       " [(0, 0.027789917), (1, 0.3802516), (2, 0.59195846)],\n",
       " [(0, 0.3624497), (1, 0.6336437)],\n",
       " [(0, 0.956127), (1, 0.04077555)],\n",
       " [(0, 0.63678545), (1, 0.089490585), (2, 0.27372402)],\n",
       " [(0, 0.05082732), (1, 0.16732028), (2, 0.7818524)],\n",
       " [(0, 0.13578077), (2, 0.8597334)],\n",
       " [(1, 0.44922563), (2, 0.5419694)],\n",
       " [(0, 0.054429285), (1, 0.9402137)],\n",
       " [(0, 0.5049368), (2, 0.4924507)],\n",
       " [(0, 0.24782786), (1, 0.68003315), (2, 0.072139025)],\n",
       " [(0, 0.06825435), (1, 0.16299477), (2, 0.76875085)],\n",
       " [(0, 0.48619947), (1, 0.42812616), (2, 0.08567434)],\n",
       " [(0, 0.067002855), (1, 0.3564005), (2, 0.5765966)],\n",
       " [(0, 0.989607)],\n",
       " [(0, 0.56571215), (2, 0.43145934)],\n",
       " [(1, 0.4051985), (2, 0.58973116)],\n",
       " [(1, 0.6455314), (2, 0.35228673)],\n",
       " [(0, 0.31000787), (1, 0.09604311), (2, 0.5939491)],\n",
       " [(0, 0.060711607), (1, 0.7871145), (2, 0.15217388)],\n",
       " [(2, 0.9924201)],\n",
       " [(0, 0.7649911), (2, 0.23027892)],\n",
       " [(1, 0.07464057), (2, 0.9181972)],\n",
       " [(0, 0.83417904), (1, 0.16153345)],\n",
       " [(1, 0.22804818), (2, 0.7698135)],\n",
       " [(0, 0.18683457), (1, 0.54912853), (2, 0.2640369)],\n",
       " [(0, 0.08832583), (2, 0.90516204)],\n",
       " [(0, 0.9874407)],\n",
       " [(1, 0.3826791), (2, 0.6093473)],\n",
       " [(1, 0.16126388), (2, 0.8343116)],\n",
       " [(0, 0.018089747), (2, 0.97598183)],\n",
       " [(2, 0.9937207)],\n",
       " [(1, 0.8371983), (2, 0.15927961)],\n",
       " [(0, 0.89190614), (2, 0.10230597)],\n",
       " [(2, 0.9860359)],\n",
       " [(0, 0.57365733), (1, 0.42178944)],\n",
       " [(0, 0.082048684), (1, 0.03437953), (2, 0.88357174)],\n",
       " [(0, 0.20654595), (1, 0.12841316), (2, 0.6650409)],\n",
       " [(0, 0.0356983), (1, 0.014743307), (2, 0.94955844)],\n",
       " [(1, 0.16314405), (2, 0.83361137)],\n",
       " [(0, 0.27957818), (2, 0.7156456)],\n",
       " [(2, 0.9947878)],\n",
       " [(0, 0.9377836), (2, 0.057978075)],\n",
       " [(0, 0.10198581), (2, 0.89418054)],\n",
       " [(2, 0.98118025)],\n",
       " [(0, 0.45860425), (1, 0.5191864), (2, 0.022209376)],\n",
       " [(0, 0.75796247), (2, 0.23782562)],\n",
       " [(0, 0.9924507)],\n",
       " [(0, 0.98712295)],\n",
       " [(0, 0.81434464), (1, 0.18130706)],\n",
       " [(0, 0.18335037), (1, 0.03771886), (2, 0.7789308)],\n",
       " [(0, 0.013697314), (1, 0.27757186), (2, 0.7087309)],\n",
       " [(0, 0.41104886), (1, 0.22496615), (2, 0.36398494)],\n",
       " [(0, 0.15266801), (2, 0.84410274)],\n",
       " [(0, 0.25678992), (1, 0.054155737), (2, 0.68905425)],\n",
       " [(0, 0.08443284), (1, 0.13133141), (2, 0.7842357)],\n",
       " [(0, 0.3871985), (1, 0.050862834), (2, 0.56193864)],\n",
       " [(0, 0.039925825), (1, 0.15516008), (2, 0.80491406)],\n",
       " [(0, 0.16892639), (2, 0.8266656)],\n",
       " [(0, 0.40628693), (1, 0.07628533), (2, 0.51742774)],\n",
       " [(0, 0.106954165), (2, 0.89002085)],\n",
       " [(0, 0.1536127), (1, 0.061003543), (2, 0.78538376)],\n",
       " [(0, 0.32851687), (1, 0.11637741), (2, 0.5551057)],\n",
       " [(2, 0.99010974)],\n",
       " [(0, 0.5974821), (1, 0.3961731)],\n",
       " [(0, 0.38686514), (1, 0.6090435)],\n",
       " [(0, 0.010977719), (1, 0.5129318), (2, 0.47609046)],\n",
       " [(1, 0.7409147), (2, 0.24944946)],\n",
       " [(0, 0.66068393), (1, 0.18779728), (2, 0.15151879)],\n",
       " [(1, 0.16842622), (2, 0.82522255)],\n",
       " [(0, 0.06167791), (1, 0.11730082), (2, 0.82102126)],\n",
       " [(0, 0.34455362), (1, 0.65316504)],\n",
       " [(0, 0.9687591), (1, 0.028778553)],\n",
       " [(0, 0.9937695)],\n",
       " [(0, 0.13285682), (1, 0.2114475), (2, 0.6556957)],\n",
       " [(2, 0.99296176)],\n",
       " [(0, 0.7281855), (1, 0.1778586), (2, 0.09395595)],\n",
       " [(0, 0.29434478), (1, 0.0108357575), (2, 0.6948195)],\n",
       " [(0, 0.8539408), (1, 0.1408918)],\n",
       " [(0, 0.27562544), (1, 0.26923326), (2, 0.45514137)],\n",
       " [(1, 0.21186997), (2, 0.7816655)],\n",
       " [(0, 0.06495317), (2, 0.9315708)],\n",
       " [(2, 0.9921417)],\n",
       " [(0, 0.7518793), (1, 0.16247092), (2, 0.08564986)],\n",
       " [(2, 0.9919116)],\n",
       " [(1, 0.61906767), (2, 0.37710375)],\n",
       " [(0, 0.16498716), (1, 0.5386408), (2, 0.29637206)],\n",
       " [(0, 0.6668271), (1, 0.17844911), (2, 0.15472382)],\n",
       " [(0, 0.40140972), (2, 0.59379476)],\n",
       " [(1, 0.44134143), (2, 0.5549991)],\n",
       " [(0, 0.63467395), (2, 0.36212873)],\n",
       " [(0, 0.10169665), (1, 0.114423916), (2, 0.7838794)],\n",
       " [(0, 0.20288564), (2, 0.7914894)],\n",
       " [(0, 0.16891116), (2, 0.8278224)],\n",
       " [(1, 0.26836425), (2, 0.7254875)],\n",
       " [(0, 0.82507956), (1, 0.10857152), (2, 0.06634891)],\n",
       " [(1, 0.28896892), (2, 0.7074585)],\n",
       " [(0, 0.67833066), (2, 0.31684136)],\n",
       " [(2, 0.9901073)],\n",
       " [(0, 0.9724594), (2, 0.024983428)],\n",
       " [(1, 0.45952898), (2, 0.537058)],\n",
       " [(0, 0.6627305), (1, 0.019467667), (2, 0.3178018)],\n",
       " [(2, 0.99296373)],\n",
       " [(0, 0.055289797), (1, 0.56177735), (2, 0.38293287)],\n",
       " [(0, 0.037366357), (1, 0.2197794), (2, 0.74285424)],\n",
       " [(0, 0.5644732), (1, 0.08167752), (2, 0.35384923)],\n",
       " [(0, 0.34148034), (1, 0.65144235)],\n",
       " [(0, 0.10414826), (1, 0.06799189), (2, 0.8278598)],\n",
       " [(0, 0.45787945), (1, 0.25372672), (2, 0.28839383)],\n",
       " [(2, 0.9896849)],\n",
       " [(0, 0.62126833), (1, 0.3748326)],\n",
       " [(0, 0.42750168), (2, 0.5645813)],\n",
       " [(0, 0.457676), (1, 0.35759726), (2, 0.18472674)],\n",
       " [(0, 0.33792996), (2, 0.65979135)],\n",
       " [(1, 0.158175), (2, 0.83840203)],\n",
       " [(0, 0.035968382), (1, 0.074157365), (2, 0.8898742)],\n",
       " [(1, 0.5845232), (2, 0.41250437)],\n",
       " [(0, 0.6165752), (1, 0.24851461), (2, 0.1349102)],\n",
       " [(0, 0.08513589), (1, 0.3104301), (2, 0.60443395)],\n",
       " [(0, 0.26421046), (1, 0.675095), (2, 0.06069455)],\n",
       " [(0, 0.36070105), (1, 0.23210256), (2, 0.40719637)],\n",
       " [(0, 0.3468301), (1, 0.039314847), (2, 0.61385506)],\n",
       " [(0, 0.444613), (2, 0.55086696)],\n",
       " [(1, 0.4104554), (2, 0.5797475)],\n",
       " [(0, 0.8577007), (2, 0.13988444)],\n",
       " [(0, 0.14452021), (2, 0.85230595)],\n",
       " [(0, 0.06890815), (1, 0.36709857), (2, 0.5639933)],\n",
       " [(0, 0.7737359), (1, 0.22274476)],\n",
       " [(0, 0.65056115), (1, 0.028178621), (2, 0.32126024)],\n",
       " [(0, 0.79237753), (1, 0.20220448)],\n",
       " [(1, 0.012506783), (2, 0.9824922)],\n",
       " [(0, 0.19982527), (1, 0.26289666), (2, 0.53727806)],\n",
       " [(1, 0.5936415), (2, 0.40290773)],\n",
       " [(1, 0.07142598), (2, 0.9258036)],\n",
       " [(2, 0.98448855)],\n",
       " [(0, 0.39289322), (2, 0.6033589)],\n",
       " [(0, 0.39794132), (1, 0.26347739), (2, 0.33858135)],\n",
       " [(0, 0.86955905), (2, 0.121896364)],\n",
       " [(0, 0.55055904), (2, 0.44509986)],\n",
       " [(0, 0.2255382), (1, 0.0153369885), (2, 0.75912476)],\n",
       " [(1, 0.35265434), (2, 0.6430172)],\n",
       " [(0, 0.09433995), (1, 0.71204114), (2, 0.19361885)],\n",
       " [(0, 0.06199553), (1, 0.5345636), (2, 0.4034409)],\n",
       " [(0, 0.05362959), (1, 0.29869208), (2, 0.6476783)],\n",
       " [(0, 0.5956688), (1, 0.32961267), (2, 0.07471855)],\n",
       " [(2, 0.9930295)],\n",
       " [(1, 0.3069332), (2, 0.68420124)],\n",
       " [(0, 0.037647724), (2, 0.9593892)],\n",
       " [(0, 0.6408981), (2, 0.3539135)],\n",
       " [(0, 0.03084593), (1, 0.046080712), (2, 0.92307335)],\n",
       " [(1, 0.0626511), (2, 0.93466777)],\n",
       " [(1, 0.62322026), (2, 0.3739236)],\n",
       " [(0, 0.082093425), (2, 0.9151452)],\n",
       " [(1, 0.11433505), (2, 0.8795219)],\n",
       " [(1, 0.04256147), (2, 0.95329344)],\n",
       " [(0, 0.1161356), (1, 0.12980494), (2, 0.75405943)],\n",
       " [(1, 0.7932929), (2, 0.20294629)],\n",
       " [(0, 0.3137344), (1, 0.6605336), (2, 0.025732037)],\n",
       " [(2, 0.9844883)],\n",
       " [(0, 0.7273833), (1, 0.09555566), (2, 0.17706102)],\n",
       " [(0, 0.95921916), (2, 0.037326623)],\n",
       " [(0, 0.98733294)],\n",
       " [(0, 0.010784752), (1, 0.38132474), (2, 0.6078905)],\n",
       " [(1, 0.69344646), (2, 0.30187184)],\n",
       " [(0, 0.31256455), (1, 0.6844958)],\n",
       " [(0, 0.5462977), (1, 0.14637513), (2, 0.30732718)],\n",
       " [(0, 0.049747247), (1, 0.15160741), (2, 0.7986454)],\n",
       " [(0, 0.11160866), (2, 0.88525784)],\n",
       " [(0, 0.38181087), (1, 0.19578099), (2, 0.4224082)],\n",
       " [(0, 0.0284173), (1, 0.35383353), (2, 0.6177492)],\n",
       " [(0, 0.14994116), (1, 0.2855687), (2, 0.5644901)],\n",
       " [(0, 0.6594106), (2, 0.33687)],\n",
       " [(0, 0.25074074), (1, 0.23102523), (2, 0.518234)],\n",
       " [(0, 0.8897021), (1, 0.023954537), (2, 0.086343355)],\n",
       " [(0, 0.5526085), (1, 0.2061442), (2, 0.24124736)],\n",
       " [(0, 0.010247618), (1, 0.37703398), (2, 0.6127184)],\n",
       " [(0, 0.12404929), (2, 0.8725864)],\n",
       " [(0, 0.9361182), (2, 0.056908254)],\n",
       " [(0, 0.80472094), (1, 0.16205654), (2, 0.033222597)],\n",
       " [(0, 0.4063123), (2, 0.59022635)],\n",
       " [(0, 0.42993343), (2, 0.56441563)],\n",
       " [(0, 0.2628105), (1, 0.10314967), (2, 0.6340398)],\n",
       " [(0, 0.3881813), (1, 0.46128774), (2, 0.15053096)],\n",
       " [(0, 0.34173706), (1, 0.11599412), (2, 0.5422688)],\n",
       " [(0, 0.5704046), (1, 0.18529461), (2, 0.24430077)],\n",
       " [(2, 0.9841906)],\n",
       " [(1, 0.50513035), (2, 0.4904666)],\n",
       " [(0, 0.037910484), (2, 0.95896304)],\n",
       " [(1, 0.02550595), (2, 0.9709198)],\n",
       " [(0, 0.39071852), (1, 0.4050099), (2, 0.20427163)],\n",
       " [(0, 0.10658262), (1, 0.4113441), (2, 0.4820733)],\n",
       " [(0, 0.8407223), (2, 0.15577117)],\n",
       " [(0, 0.91285664), (1, 0.08156275)],\n",
       " [(0, 0.015165581), (1, 0.043314666), (2, 0.94151974)],\n",
       " [(0, 0.54286593), (2, 0.45051208)],\n",
       " [(1, 0.32770175), (2, 0.66942316)],\n",
       " [(0, 0.46623018), (2, 0.52520597)],\n",
       " [(0, 0.07557152), (1, 0.24759904), (2, 0.67682946)],\n",
       " [(0, 0.20554239), (1, 0.29518253), (2, 0.49927512)],\n",
       " [(1, 0.5658438), (2, 0.43131405)],\n",
       " [(1, 0.15718861), (2, 0.8399898)],\n",
       " [(1, 0.48644045), (2, 0.50883996)],\n",
       " [(1, 0.18747728), (2, 0.8077629)],\n",
       " [(0, 0.5306898), (1, 0.11570452), (2, 0.35360572)],\n",
       " [(0, 0.7826056), (1, 0.1934201), (2, 0.023974301)],\n",
       " [(0, 0.85508645), (2, 0.13743174)],\n",
       " [(0, 0.034789383), (2, 0.9626536)],\n",
       " [(1, 0.13932054), (2, 0.8567274)],\n",
       " [(0, 0.93481636), (2, 0.062000625)],\n",
       " [(0, 0.2345311), (2, 0.76023936)],\n",
       " [(0, 0.1553987), (1, 0.08742018), (2, 0.7571811)],\n",
       " [(1, 0.38054726), (2, 0.61451113)],\n",
       " [(0, 0.6452097), (2, 0.3511552)],\n",
       " [(0, 0.5670479), (2, 0.428382)],\n",
       " [(0, 0.84050924), (1, 0.047141463), (2, 0.11234925)],\n",
       " [(0, 0.6886096), (2, 0.3088333)],\n",
       " [(0, 0.19717507), (2, 0.7989135)],\n",
       " [(0, 0.24501885), (1, 0.73184574), (2, 0.023135435)],\n",
       " [(0, 0.9643478), (2, 0.033233237)],\n",
       " [(0, 0.7668124), (1, 0.2294326)],\n",
       " [(0, 0.3039489), (2, 0.6936953)],\n",
       " [(0, 0.3354836), (2, 0.65892273)],\n",
       " [(2, 0.99010324)],\n",
       " [(0, 0.38167146), (1, 0.04124656), (2, 0.577082)],\n",
       " [(1, 0.706), (2, 0.291407)],\n",
       " [(0, 0.09892434), (1, 0.13210094), (2, 0.7689747)],\n",
       " [(1, 0.9702468), (2, 0.023405569)],\n",
       " [(2, 0.99354786)],\n",
       " [(1, 0.83406675), (2, 0.16274142)],\n",
       " [(0, 0.42465076), (1, 0.436388), (2, 0.13896123)],\n",
       " [(0, 0.28133088), (1, 0.50640017), (2, 0.21226901)],\n",
       " [(0, 0.12780446), (1, 0.09178271), (2, 0.78041285)],\n",
       " [(1, 0.46335304), (2, 0.5295566)],\n",
       " [(0, 0.04041824), (2, 0.9540098)],\n",
       " [(2, 0.99103045)],\n",
       " [(0, 0.36924806), (2, 0.6261587)],\n",
       " [(0, 0.9858953)],\n",
       " [(1, 0.5851203), (2, 0.41165236)],\n",
       " [(0, 0.49068063), (2, 0.5032047)],\n",
       " [(0, 0.026952146), (2, 0.96900046)],\n",
       " [(0, 0.45449194), (2, 0.5390066)],\n",
       " [(0, 0.111134514), (1, 0.81464744), (2, 0.07421809)],\n",
       " [(0, 0.44915637), (1, 0.15013382), (2, 0.40070984)],\n",
       " [(0, 0.085472964), (2, 0.9117097)],\n",
       " [(1, 0.5488494), (2, 0.4472825)],\n",
       " [(0, 0.06216293), (1, 0.073853016), (2, 0.86398405)],\n",
       " [(0, 0.03728063), (2, 0.95792127)],\n",
       " [(0, 0.01927158), (1, 0.55705506), (2, 0.42367336)],\n",
       " [(0, 0.69220734), (1, 0.13945486), (2, 0.16833776)],\n",
       " [(0, 0.73340344), (1, 0.20267662), (2, 0.06391995)],\n",
       " [(1, 0.8763877), (2, 0.1208413)],\n",
       " [(0, 0.5041414), (1, 0.3348035), (2, 0.16105513)],\n",
       " [(0, 0.32340875), (1, 0.017938836), (2, 0.6586524)],\n",
       " [(0, 0.09220559), (2, 0.90436095)],\n",
       " [(1, 0.8965852), (2, 0.09683161)],\n",
       " [(0, 0.69492906), (1, 0.30167812)],\n",
       " [(2, 0.99261516)],\n",
       " [(0, 0.20042928), (1, 0.3410167), (2, 0.45855403)],\n",
       " [(1, 0.06486826), (2, 0.9321237)],\n",
       " [(0, 0.12120598), (1, 0.14406961), (2, 0.7347244)],\n",
       " [(1, 0.08259783), (2, 0.91479695)],\n",
       " [(0, 0.03532232), (1, 0.05981703), (2, 0.9048607)],\n",
       " [(0, 0.8621845), (2, 0.13210313)],\n",
       " [(1, 0.34835857), (2, 0.64707464)],\n",
       " [(0, 0.73091745), (1, 0.26222613)],\n",
       " [(0, 0.06527547), (1, 0.36014533), (2, 0.5745792)],\n",
       " [(0, 0.96647334), (1, 0.028303994)],\n",
       " [(1, 0.5323798), (2, 0.4641361)],\n",
       " [(0, 0.49893352), (1, 0.047202207), (2, 0.45386428)],\n",
       " [(0, 0.6986156), (2, 0.2928336)],\n",
       " [(0, 0.39622876), (1, 0.5052925), (2, 0.09847876)],\n",
       " [(1, 0.6346742), (2, 0.3579374)],\n",
       " [(0, 0.53498346), (1, 0.07257086), (2, 0.3924457)],\n",
       " [(0, 0.06636241), (1, 0.30419278), (2, 0.62944484)],\n",
       " [(0, 0.27242088), (1, 0.27424297), (2, 0.45333612)],\n",
       " [(0, 0.11692109), (2, 0.8807963)],\n",
       " [(0, 0.37184894), (1, 0.045238383), (2, 0.5829126)],\n",
       " [(0, 0.10891689), (1, 0.044648595), (2, 0.8464345)],\n",
       " [(0, 0.3425236), (2, 0.6537555)],\n",
       " [(1, 0.59086937), (2, 0.40283182)],\n",
       " [(0, 0.5625533), (1, 0.25699988), (2, 0.18044679)],\n",
       " [(1, 0.08663904), (2, 0.90893507)],\n",
       " [(1, 0.11277333), (2, 0.8816886)],\n",
       " [(0, 0.010064787), (1, 0.718813), (2, 0.27112216)],\n",
       " [(0, 0.9838041)],\n",
       " [(0, 0.27579656), (1, 0.4342811), (2, 0.2899223)],\n",
       " [(0, 0.12238829), (2, 0.8740756)],\n",
       " [(0, 0.83873075), (1, 0.12568378), (2, 0.03558546)],\n",
       " [(0, 0.035904575), (1, 0.22753438), (2, 0.736561)],\n",
       " [(0, 0.21835458), (1, 0.049347535), (2, 0.7322979)],\n",
       " [(1, 0.07065661), (2, 0.9262406)],\n",
       " [(0, 0.99258965)],\n",
       " [(0, 0.29542956), (1, 0.5501766), (2, 0.15439379)],\n",
       " [(1, 0.21271646), (2, 0.78400886)],\n",
       " [(0, 0.094315976), (1, 0.014042496), (2, 0.8916415)],\n",
       " [(0, 0.15384069), (1, 0.1296878), (2, 0.7164715)],\n",
       " [(0, 0.43819597), (1, 0.5572126)],\n",
       " [(0, 0.66901463), (2, 0.32669628)],\n",
       " [(1, 0.5395002), (2, 0.4533375)],\n",
       " [(0, 0.076689504), (1, 0.1352002), (2, 0.7881103)],\n",
       " [(0, 0.014389356), (1, 0.72513443), (2, 0.26047617)],\n",
       " [(0, 0.55538744), (1, 0.1207818), (2, 0.32383078)],\n",
       " [(0, 0.07244874), (1, 0.14545208), (2, 0.7820991)],\n",
       " [(0, 0.2459985), (1, 0.46903998), (2, 0.2849615)],\n",
       " [(0, 0.77780515), (1, 0.018104773), (2, 0.20409009)],\n",
       " [(0, 0.5737419), (2, 0.42318)],\n",
       " [(0, 0.101564884), (2, 0.8930263)],\n",
       " [(0, 0.22838278), (1, 0.13924418), (2, 0.6323731)],\n",
       " [(1, 0.103555635), (2, 0.8899674)],\n",
       " [(0, 0.14043994), (1, 0.15906017), (2, 0.7004999)],\n",
       " [(0, 0.072626844), (1, 0.7754513), (2, 0.15192187)],\n",
       " [(0, 0.3846139), (1, 0.52411795), (2, 0.09126815)],\n",
       " [(1, 0.14297675), (2, 0.8523792)],\n",
       " [(1, 0.5448873), (2, 0.45161736)],\n",
       " [(0, 0.1989821), (1, 0.083145425), (2, 0.7178725)],\n",
       " [(0, 0.7770606), (1, 0.027991043), (2, 0.19494835)],\n",
       " [(0, 0.012417087), (1, 0.74514335), (2, 0.24243955)],\n",
       " [(1, 0.22008224), (2, 0.77524406)],\n",
       " [(0, 0.0112797385), (1, 0.06912324), (2, 0.91959697)],\n",
       " [(0, 0.22344801), (1, 0.06602704), (2, 0.710525)],\n",
       " [(0, 0.69527763), (2, 0.2957488)],\n",
       " [(0, 0.9938074)],\n",
       " [(0, 0.074612424), (2, 0.92231286)],\n",
       " [(1, 0.7793395), (2, 0.21532425)],\n",
       " [(0, 0.049557403), (1, 0.11264079), (2, 0.8378018)],\n",
       " [(0, 0.18003592), (2, 0.8152257)],\n",
       " [(0, 0.15551843), (2, 0.84227365)],\n",
       " [(0, 0.48590484), (2, 0.51140654)],\n",
       " [(0, 0.2363404), (1, 0.26491904), (2, 0.49874055)],\n",
       " [(1, 0.17137238), (2, 0.82311636)],\n",
       " [(2, 0.99068326)],\n",
       " [(2, 0.99235106)],\n",
       " [(1, 0.46333534), (2, 0.53119606)],\n",
       " [(1, 0.45653316), (2, 0.5409747)],\n",
       " [(0, 0.48551667), (1, 0.050527856), (2, 0.4639555)],\n",
       " [(0, 0.2588651), (1, 0.23705533), (2, 0.5040796)],\n",
       " [(0, 0.44030914), (1, 0.5002822), (2, 0.05940862)],\n",
       " [(1, 0.086013585), (2, 0.90716887)],\n",
       " [(0, 0.21859896), (2, 0.77782166)],\n",
       " [(0, 0.7605515), (1, 0.17088346), (2, 0.068565056)],\n",
       " [(0, 0.23668243), (1, 0.37416118), (2, 0.3891564)],\n",
       " [(1, 0.24901283), (2, 0.7471729)],\n",
       " [(0, 0.14504462), (1, 0.6671195), (2, 0.18783587)],\n",
       " [(0, 0.21537377), (1, 0.05963174), (2, 0.7249945)],\n",
       " [(0, 0.85616475), (1, 0.13936977)],\n",
       " [(0, 0.11424833), (1, 0.19052841), (2, 0.6952233)],\n",
       " [(0, 0.07387249), (1, 0.13003282), (2, 0.7960947)],\n",
       " [(0, 0.65936065), (1, 0.11091741), (2, 0.22972195)],\n",
       " [(0, 0.4903135), (1, 0.139135), (2, 0.37055153)],\n",
       " [(0, 0.15875897), (1, 0.4354249), (2, 0.4058161)],\n",
       " [(0, 0.02572706), (1, 0.9705943)],\n",
       " [(0, 0.016717816), (1, 0.3417315), (2, 0.64155066)],\n",
       " [(0, 0.1038162), (1, 0.89342695)],\n",
       " [(0, 0.4983644), (1, 0.46773595), (2, 0.03389965)],\n",
       " [(0, 0.19813113), (2, 0.7976144)],\n",
       " [(0, 0.3573961), (2, 0.63879883)],\n",
       " [(1, 0.8419249), (2, 0.15508287)],\n",
       " [(0, 0.84900224), (2, 0.14729643)],\n",
       " [(0, 0.07545912), (1, 0.052057598), (2, 0.87248325)],\n",
       " [(0, 0.4335211), (1, 0.5579292)],\n",
       " [(0, 0.02174021), (1, 0.041676287), (2, 0.93658346)],\n",
       " [(1, 0.03834666), (2, 0.9586337)],\n",
       " [(1, 0.32674384), (2, 0.6692128)],\n",
       " [(0, 0.34652042), (1, 0.03291861), (2, 0.620561)],\n",
       " [(0, 0.16721988), (2, 0.8253514)],\n",
       " [(2, 0.99328256)],\n",
       " [(0, 0.044012144), (1, 0.029192217), (2, 0.9267956)],\n",
       " [(0, 0.6460065), (2, 0.3497981)],\n",
       " [(0, 0.014977679), (1, 0.91445804), (2, 0.07056431)],\n",
       " [(0, 0.31330928), (1, 0.17819071), (2, 0.50850004)],\n",
       " [(1, 0.080346875), (2, 0.9169794)],\n",
       " [(0, 0.36827654), (2, 0.6265343)],\n",
       " [(1, 0.08909526), (2, 0.90647435)],\n",
       " [(0, 0.53998303), (1, 0.23146608), (2, 0.22855093)],\n",
       " [(1, 0.118776806), (2, 0.87622267)],\n",
       " [(0, 0.03643133), (1, 0.051345035), (2, 0.91222364)],\n",
       " [(0, 0.012626034), (1, 0.07968105), (2, 0.90769297)],\n",
       " [(0, 0.11579602), (2, 0.8767177)],\n",
       " [(0, 0.77452993), (1, 0.22122684)],\n",
       " [(0, 0.5875076), (2, 0.40752432)],\n",
       " [(1, 0.8041323), (2, 0.19046758)],\n",
       " [(0, 0.07970774), (1, 0.042223953), (2, 0.87806827)],\n",
       " [(0, 0.50414205), (1, 0.382125), (2, 0.11373299)],\n",
       " [(0, 0.12108812), (1, 0.04047323), (2, 0.8384387)],\n",
       " [(0, 0.14632966), (2, 0.8502175)],\n",
       " [(0, 0.7893483), (1, 0.11003194), (2, 0.10061975)],\n",
       " [(0, 0.19063868), (1, 0.20875427), (2, 0.60060704)],\n",
       " [(0, 0.42356), (2, 0.57293904)],\n",
       " [(0, 0.5418996), (1, 0.033089027), (2, 0.4250113)],\n",
       " [(0, 0.21820988), (1, 0.580437), (2, 0.20135309)],\n",
       " [(0, 0.18717463), (1, 0.25660536), (2, 0.55622)],\n",
       " ...]"
      ]
     },
     "execution_count": 36,
     "metadata": {},
     "output_type": "execute_result"
    }
   ],
   "source": [
    "data_test_bow = [dictionary.doc2bow(txt) for txt in text_data_test]\n",
    "ldamodel.get_document_topics(data_test_bow)\n",
    "list(ldamodel.get_document_topics(data_test_bow))"
   ]
  },
  {
   "cell_type": "code",
   "execution_count": 37,
   "metadata": {},
   "outputs": [
    {
     "name": "stderr",
     "output_type": "stream",
     "text": [
      "/Users/jingtingzhang/anaconda3/lib/python3.6/site-packages/pyLDAvis/_prepare.py:257: FutureWarning: Sorting because non-concatenation axis is not aligned. A future version\n",
      "of pandas will change to not sort by default.\n",
      "\n",
      "To accept the future behavior, pass 'sort=True'.\n",
      "\n",
      "To retain the current behavior and silence the warning, pass sort=False\n",
      "\n",
      "  return pd.concat([default_term_info] + list(topic_dfs))\n"
     ]
    },
    {
     "data": {
      "text/html": [
       "\n",
       "<link rel=\"stylesheet\" type=\"text/css\" href=\"https://cdn.rawgit.com/bmabey/pyLDAvis/files/ldavis.v1.0.0.css\">\n",
       "\n",
       "\n",
       "<div id=\"ldavis_el335201126414234241567545208\"></div>\n",
       "<script type=\"text/javascript\">\n",
       "\n",
       "var ldavis_el335201126414234241567545208_data = {\"mdsDat\": {\"x\": [0.06219982185775585, -0.13571057018205884, 0.07351074832430299], \"y\": [0.11962591270970006, -0.006467218120086913, -0.11315869458961317], \"topics\": [1, 2, 3], \"cluster\": [1, 1, 1], \"Freq\": [29.83331298828125, 19.957256317138672, 50.20942687988281]}, \"tinfo\": {\"Category\": [\"Default\", \"Default\", \"Default\", \"Default\", \"Default\", \"Default\", \"Default\", \"Default\", \"Default\", \"Default\", \"Default\", \"Default\", \"Default\", \"Default\", \"Default\", \"Default\", \"Default\", \"Default\", \"Default\", \"Default\", \"Default\", \"Default\", \"Default\", \"Default\", \"Default\", \"Default\", \"Default\", \"Default\", \"Default\", \"Default\", \"Topic1\", \"Topic1\", \"Topic1\", \"Topic1\", \"Topic1\", \"Topic1\", \"Topic1\", \"Topic1\", \"Topic1\", \"Topic1\", \"Topic1\", \"Topic1\", \"Topic1\", \"Topic1\", \"Topic1\", \"Topic1\", \"Topic1\", \"Topic1\", \"Topic1\", \"Topic1\", \"Topic1\", \"Topic1\", \"Topic1\", \"Topic1\", \"Topic1\", \"Topic1\", \"Topic1\", \"Topic1\", \"Topic1\", \"Topic1\", \"Topic1\", \"Topic1\", \"Topic1\", \"Topic1\", \"Topic1\", \"Topic1\", \"Topic1\", \"Topic1\", \"Topic1\", \"Topic1\", \"Topic1\", \"Topic1\", \"Topic1\", \"Topic1\", \"Topic1\", \"Topic1\", \"Topic1\", \"Topic1\", \"Topic1\", \"Topic1\", \"Topic1\", \"Topic1\", \"Topic1\", \"Topic1\", \"Topic1\", \"Topic1\", \"Topic1\", \"Topic1\", \"Topic1\", \"Topic1\", \"Topic1\", \"Topic1\", \"Topic1\", \"Topic1\", \"Topic1\", \"Topic1\", \"Topic1\", \"Topic1\", \"Topic1\", \"Topic1\", \"Topic1\", \"Topic1\", \"Topic1\", \"Topic2\", \"Topic2\", \"Topic2\", \"Topic2\", \"Topic2\", \"Topic2\", \"Topic2\", \"Topic2\", \"Topic2\", \"Topic2\", \"Topic2\", \"Topic2\", \"Topic2\", \"Topic2\", \"Topic2\", \"Topic2\", \"Topic2\", \"Topic2\", \"Topic2\", \"Topic2\", \"Topic2\", \"Topic2\", \"Topic2\", \"Topic2\", \"Topic2\", \"Topic2\", \"Topic2\", \"Topic2\", \"Topic2\", \"Topic2\", \"Topic2\", \"Topic2\", \"Topic2\", \"Topic2\", \"Topic2\", \"Topic2\", \"Topic2\", \"Topic2\", \"Topic2\", \"Topic2\", \"Topic2\", \"Topic2\", \"Topic2\", \"Topic2\", \"Topic2\", \"Topic2\", \"Topic2\", \"Topic2\", \"Topic2\", \"Topic2\", \"Topic2\", \"Topic2\", \"Topic2\", \"Topic2\", \"Topic2\", \"Topic2\", \"Topic2\", \"Topic2\", \"Topic2\", \"Topic2\", \"Topic2\", \"Topic2\", \"Topic2\", \"Topic2\", \"Topic2\", \"Topic2\", \"Topic2\", \"Topic2\", \"Topic2\", \"Topic2\", \"Topic2\", \"Topic2\", \"Topic2\", \"Topic2\", \"Topic2\", \"Topic2\", \"Topic2\", \"Topic2\", \"Topic2\", \"Topic3\", \"Topic3\", \"Topic3\", \"Topic3\", \"Topic3\", \"Topic3\", \"Topic3\", \"Topic3\", \"Topic3\", \"Topic3\", \"Topic3\", \"Topic3\", \"Topic3\", \"Topic3\", \"Topic3\", \"Topic3\", \"Topic3\", \"Topic3\", \"Topic3\", \"Topic3\", \"Topic3\", \"Topic3\", \"Topic3\", \"Topic3\", \"Topic3\", \"Topic3\", \"Topic3\", \"Topic3\", \"Topic3\", \"Topic3\", \"Topic3\", \"Topic3\", \"Topic3\", \"Topic3\", \"Topic3\", \"Topic3\", \"Topic3\", \"Topic3\", \"Topic3\", \"Topic3\", \"Topic3\", \"Topic3\", \"Topic3\", \"Topic3\", \"Topic3\", \"Topic3\", \"Topic3\", \"Topic3\", \"Topic3\", \"Topic3\", \"Topic3\", \"Topic3\", \"Topic3\", \"Topic3\", \"Topic3\", \"Topic3\", \"Topic3\", \"Topic3\", \"Topic3\", \"Topic3\", \"Topic3\", \"Topic3\", \"Topic3\", \"Topic3\", \"Topic3\", \"Topic3\", \"Topic3\", \"Topic3\", \"Topic3\", \"Topic3\", \"Topic3\"], \"Freq\": [2147.0, 1726.0, 873.0, 1237.0, 499.0, 486.0, 643.0, 464.0, 1127.0, 270.0, 242.0, 173.0, 164.0, 274.0, 299.0, 385.0, 202.0, 1933.0, 274.0, 341.0, 230.0, 322.0, 165.0, 256.0, 1302.0, 205.0, 228.0, 192.0, 268.0, 164.0, 242.08412170410156, 144.4525909423828, 164.6551513671875, 115.72766876220703, 115.55845642089844, 112.57432556152344, 101.28722381591797, 74.2426986694336, 74.9953384399414, 61.5544548034668, 63.843509674072266, 62.443302154541016, 59.762176513671875, 55.04426193237305, 48.26661682128906, 44.18899917602539, 43.14476013183594, 41.70404052734375, 43.09187698364258, 42.23613357543945, 45.670204162597656, 40.42274856567383, 42.21877670288086, 35.86031723022461, 32.7075309753418, 31.980579376220703, 29.777936935424805, 25.35499382019043, 25.433547973632812, 25.35934829711914, 94.15653228759766, 109.90040588378906, 100.37968444824219, 196.77120971679688, 259.6408386230469, 48.27387237548828, 249.3033905029297, 209.16061401367188, 433.5011291503906, 134.04747009277344, 142.37513732910156, 81.38831329345703, 230.67236328125, 220.46148681640625, 69.91615295410156, 1205.61376953125, 841.0283203125, 148.37855529785156, 286.0528564453125, 256.72491455078125, 227.05487060546875, 646.3091430664062, 177.28872680664062, 190.5472412109375, 593.4248657226562, 267.21734619140625, 677.9409790039062, 664.2167358398438, 472.9465026855469, 395.0461120605469, 468.8332824707031, 395.06060791015625, 204.78282165527344, 507.68487548828125, 275.5906066894531, 199.73924255371094, 342.0023498535156, 296.11419677734375, 289.2786865234375, 218.9263458251953, 217.5254364013672, 212.54867553710938, 205.71548461914062, 173.5556182861328, 164.7401580810547, 111.676025390625, 94.29069519042969, 77.83734893798828, 53.18068313598633, 45.568668365478516, 43.55763244628906, 43.17442321777344, 41.53300094604492, 33.359703063964844, 28.609760284423828, 28.763103485107422, 27.593791961669922, 23.331357955932617, 24.937644958496094, 21.848588943481445, 22.40790367126465, 17.620073318481445, 19.23576545715332, 17.588268280029297, 17.655351638793945, 16.664939880371094, 14.050990104675293, 16.07942771911621, 14.708097457885742, 14.264913558959961, 13.550826072692871, 14.609827995300293, 12.336838722229004, 26.77437973022461, 25.675785064697266, 83.06002044677734, 52.83098602294922, 70.27267456054688, 147.27281188964844, 171.93206787109375, 32.86869430541992, 196.32980346679688, 170.34408569335938, 28.904651641845703, 81.38914489746094, 142.150390625, 70.45120239257812, 444.0878601074219, 123.25399780273438, 172.7995147705078, 66.84896850585938, 63.16918182373047, 51.381587982177734, 79.18304443359375, 52.87826156616211, 60.88080978393555, 85.86485290527344, 202.6057891845703, 287.0566101074219, 375.35345458984375, 420.13287353515625, 258.45751953125, 281.14117431640625, 161.87628173828125, 197.25938415527344, 197.9523468017578, 98.40751647949219, 109.39530181884766, 162.55125427246094, 124.74742126464844, 181.6247100830078, 187.6350860595703, 181.6739959716797, 140.09259033203125, 122.4189682006836, 172.93258666992188, 135.88905334472656, 135.12327575683594, 130.01402282714844, 140.21395874023438, 137.01693725585938, 124.7626724243164, 2147.5009765625, 486.90130615234375, 464.2395935058594, 322.6168212890625, 283.5305480957031, 277.63104248046875, 220.66131591796875, 161.18431091308594, 159.11265563964844, 157.83807373046875, 137.86050415039062, 146.50071716308594, 129.22744750976562, 152.81509399414062, 150.5041961669922, 119.37378692626953, 113.08158874511719, 101.19577026367188, 92.27708435058594, 93.36442565917969, 89.83177947998047, 74.16954040527344, 70.64945220947266, 152.16055297851562, 70.77188873291016, 64.06510925292969, 71.06465911865234, 69.7655258178711, 70.06900787353516, 66.6998291015625, 256.9895324707031, 160.7790069580078, 96.072998046875, 624.9260864257812, 264.7048034667969, 159.1318359375, 320.40997314453125, 203.83450317382812, 1026.0303955078125, 389.0696716308594, 244.09432983398438, 215.3028564453125, 207.7470703125, 233.91775512695312, 337.283203125, 498.4794006347656, 260.36846923828125, 476.9179992675781, 1526.824951171875, 1212.7742919921875, 349.2070007324219, 932.0784912109375, 880.58642578125, 291.5525207519531, 380.4004821777344, 649.2578735351562, 545.4887084960938, 415.7796936035156, 867.9171142578125, 621.681396484375, 680.8807373046875, 443.0832824707031, 596.9758911132812, 414.6604919433594, 545.9212036132812, 429.7038269042969, 470.1943054199219, 414.1445007324219, 368.01556396484375, 355.80865478515625, 383.6045227050781], \"Term\": [\"image\", \"algorithm\", \"system\", \"problem\", \"function\", \"recognition\", \"object\", \"detection\", \"feature\", \"user\", \"matrix\", \"logic\", \"agent\", \"optimization\", \"language\", \"cluster\", \"program\", \"method\", \"distribution\", \"sample\", \"knowledge\", \"video\", \"rule\", \"linear\", \"learn\", \"optimal\", \"variable\", \"theory\", \"graph\", \"kernel\", \"matrix\", \"approximation\", \"kernel\", \"convex\", \"stochastic\", \"convergence\", \"bound\", \"norm\", \"regularization\", \"regret\", \"subspace\", \"minimization\", \"iteration\", \"sparsity\", \"estimator\", \"epsilon\", \"bandit\", \"descent\", \"variational\", \"posterior\", \"converge\", \"tensor\", \"sum\", \"factorization\", \"ell\", \"covariance\", \"vertex\", \"lasso\", \"relaxation\", \"quadratic\", \"gaussian\", \"approximate\", \"regression\", \"optimal\", \"optimization\", \"arm\", \"distribution\", \"variable\", \"function\", \"bayesian\", \"bind\", \"guarantee\", \"graph\", \"linear\", \"numerical\", \"algorithm\", \"problem\", \"random\", \"cluster\", \"sample\", \"parameter\", \"learn\", \"solve\", \"solution\", \"data\", \"number\", \"method\", \"model\", \"show\", \"set\", \"propose\", \"result\", \"space\", \"use\", \"time\", \"class\", \"base\", \"paper\", \"approach\", \"performance\", \"two\", \"also\", \"new\", \"logic\", \"agent\", \"reason\", \"plan\", \"answer\", \"ontology\", \"intelligence\", \"service\", \"preference\", \"quantum\", \"grammar\", \"logical\", \"calculus\", \"market\", \"formalism\", \"sit\", \"propositional\", \"automaton\", \"asp\", \"route\", \"conflict\", \"controller\", \"clause\", \"revision\", \"circuit\", \"abstraction\", \"axiom\", \"customer\", \"default\", \"satisfiability\", \"intelligent\", \"cognitive\", \"game\", \"evolutionary\", \"semantics\", \"rule\", \"program\", \"formal\", \"user\", \"knowledge\", \"management\", \"web\", \"theory\", \"fuzzy\", \"system\", \"decision\", \"language\", \"belief\", \"behavior\", \"software\", \"environment\", \"resource\", \"question\", \"concept\", \"information\", \"paper\", \"model\", \"use\", \"problem\", \"base\", \"provide\", \"present\", \"set\", \"constraint\", \"search\", \"process\", \"make\", \"network\", \"approach\", \"show\", \"one\", \"order\", \"result\", \"new\", \"time\", \"also\", \"data\", \"algorithm\", \"study\", \"image\", \"recognition\", \"detection\", \"video\", \"visual\", \"segmentation\", \"layer\", \"camera\", \"scene\", \"pixel\", \"descriptor\", \"speech\", \"convolutional\", \"color\", \"extraction\", \"texture\", \"segment\", \"character\", \"cnn\", \"patch\", \"wavelet\", \"detector\", \"facial\", \"retrieval\", \"appearance\", \"registration\", \"patient\", \"disease\", \"sentiment\", \"localization\", \"deep\", \"motion\", \"surface\", \"object\", \"face\", \"spatial\", \"text\", \"track\", \"feature\", \"word\", \"extract\", \"shape\", \"document\", \"region\", \"neural\", \"train\", \"dataset\", \"classification\", \"use\", \"method\", \"accuracy\", \"propose\", \"base\", \"art\", \"task\", \"approach\", \"network\", \"different\", \"model\", \"result\", \"data\", \"performance\", \"paper\", \"technique\", \"learn\", \"system\", \"show\", \"present\", \"information\", \"process\", \"algorithm\"], \"Total\": [2147.0, 1726.0, 873.0, 1237.0, 499.0, 486.0, 643.0, 464.0, 1127.0, 270.0, 242.0, 173.0, 164.0, 274.0, 299.0, 385.0, 202.0, 1933.0, 274.0, 341.0, 230.0, 322.0, 165.0, 256.0, 1302.0, 205.0, 228.0, 192.0, 268.0, 164.0, 242.17788696289062, 144.53948974609375, 164.76048278808594, 115.81307983398438, 115.64735412597656, 112.66129302978516, 101.37273406982422, 74.33244323730469, 75.08674621582031, 61.63738250732422, 63.93394470214844, 62.533538818359375, 59.85454177856445, 55.136131286621094, 48.35282516479492, 44.273536682128906, 43.22787857055664, 41.790863037109375, 43.181766510009766, 42.324562072753906, 45.76648712158203, 40.51358413696289, 42.3177375793457, 35.949520111083984, 32.79086685180664, 32.066490173339844, 29.876178741455078, 25.43878936767578, 25.519004821777344, 25.447622299194336, 94.68208312988281, 110.85455322265625, 103.41219329833984, 205.8068084716797, 274.8846435546875, 49.08208465576172, 274.0136413574219, 228.15306091308594, 499.1666564941406, 146.05148315429688, 157.79693603515625, 86.17530059814453, 268.0744934082031, 256.47564697265625, 73.13917541503906, 1726.2352294921875, 1237.1429443359375, 174.70101928710938, 385.0432434082031, 341.32891845703125, 304.47314453125, 1302.5791015625, 244.08966064453125, 274.3356628417969, 1414.51953125, 465.1514892578125, 1933.9608154296875, 1907.4873046875, 1124.8148193359375, 854.595947265625, 1521.6546630859375, 1189.674560546875, 357.3184814453125, 2454.642578125, 679.9356689453125, 358.38092041015625, 1503.72998046875, 1180.146728515625, 1126.171630859375, 699.692626953125, 677.9791259765625, 591.4912109375, 619.3477783203125, 173.6447296142578, 164.8320770263672, 111.7764892578125, 94.3848648071289, 77.9360580444336, 53.2718505859375, 45.66171646118164, 43.6525764465332, 43.27737808227539, 41.63204574584961, 33.45216369628906, 28.699928283691406, 28.862178802490234, 27.693614959716797, 23.424654006958008, 25.037485122680664, 21.93779945373535, 22.51572608947754, 17.708778381347656, 19.33413314819336, 17.683208465576172, 17.751863479614258, 16.756040573120117, 14.140290260314941, 16.182254791259766, 14.805627822875977, 14.360581398010254, 13.645872116088867, 14.712933540344238, 12.426980018615723, 26.988433837890625, 25.901657104492188, 89.3296127319336, 55.914649963378906, 75.30532836914062, 165.09512329101562, 202.53651428222656, 35.43046188354492, 270.2305908203125, 230.86611938476562, 30.947509765625, 101.25369262695312, 192.81520080566406, 88.80477905273438, 873.826416015625, 187.7901611328125, 299.4473571777344, 91.86854553222656, 85.42996978759766, 66.25634765625, 123.62496948242188, 70.2871322631836, 87.79237365722656, 149.26866149902344, 653.2879638671875, 1180.146728515625, 1907.4873046875, 2454.642578125, 1237.1429443359375, 1503.72998046875, 520.9271850585938, 799.5560302734375, 854.595947265625, 205.38778686523438, 260.4518127441406, 647.6322021484375, 353.770751953125, 889.603759765625, 1126.171630859375, 1124.8148193359375, 574.0152587890625, 374.703125, 1189.674560546875, 619.3477783203125, 679.9356689453125, 591.4912109375, 1414.51953125, 1726.2352294921875, 448.449951171875, 2147.5595703125, 486.95977783203125, 464.30181884765625, 322.6737060546875, 283.58868408203125, 277.68951416015625, 220.72718811035156, 161.24169921875, 159.170166015625, 157.89553833007812, 137.91648864746094, 146.5619354248047, 129.28262329101562, 152.88189697265625, 150.57015991210938, 119.42979431152344, 113.1426773071289, 101.25411224365234, 92.3318862915039, 93.42315673828125, 89.8909683227539, 74.22509765625, 70.70488739013672, 152.28211975097656, 70.8298110961914, 64.12393188476562, 71.13050079345703, 69.83084869384766, 70.13634490966797, 66.76470947265625, 257.4932861328125, 161.27459716796875, 96.46273803710938, 643.267578125, 271.94195556640625, 162.20748901367188, 334.4514465332031, 210.13465881347656, 1127.8389892578125, 410.8840637207031, 254.65560913085938, 224.5875244140625, 217.2955322265625, 246.67599487304688, 365.9408264160156, 574.3592529296875, 279.6585388183594, 576.0292358398438, 2454.642578125, 1933.9608154296875, 427.5151062011719, 1521.6546630859375, 1503.72998046875, 362.41900634765625, 527.3489379882812, 1126.171630859375, 889.603759765625, 614.6708984375, 1907.4873046875, 1189.674560546875, 1414.51953125, 699.692626953125, 1180.146728515625, 641.2977294921875, 1302.5791015625, 873.826416015625, 1124.8148193359375, 799.5560302734375, 653.2879638671875, 647.6322021484375, 1726.2352294921875], \"loglift\": [30.0, 29.0, 28.0, 27.0, 26.0, 25.0, 24.0, 23.0, 22.0, 21.0, 20.0, 19.0, 18.0, 17.0, 16.0, 15.0, 14.0, 13.0, 12.0, 11.0, 10.0, 9.0, 8.0, 7.0, 6.0, 5.0, 4.0, 3.0, 2.0, 1.0, 1.2092000246047974, 1.208899974822998, 1.208899974822998, 1.208799958229065, 1.208799958229065, 1.208799958229065, 1.2086999416351318, 1.208299994468689, 1.208299994468689, 1.2081999778747559, 1.2080999612808228, 1.2080999612808228, 1.2079999446868896, 1.207900047302246, 1.207800030708313, 1.2075999975204468, 1.2075999975204468, 1.2074999809265137, 1.2074999809265137, 1.2074999809265137, 1.2073999643325806, 1.2072999477386475, 1.207200050354004, 1.2071000337600708, 1.2070000171661377, 1.2069000005722046, 1.2063000202178955, 1.2062000036239624, 1.2062000036239624, 1.2060999870300293, 1.2039999961853027, 1.2008999586105347, 1.179800033569336, 1.1646000146865845, 1.152500033378601, 1.1928999423980713, 1.1150000095367432, 1.1225999593734741, 1.06850004196167, 1.1238000392913818, 1.1066999435424805, 1.152400016784668, 1.0592999458312988, 1.0582000017166138, 1.1644999980926514, 0.850600004196167, 0.8235999941825867, 1.0462000370025635, 0.9124000072479248, 0.9247000217437744, 0.9161999821662903, 0.5087000131607056, 0.8898000121116638, 0.8450999855995178, 0.3409000039100647, 0.6552000045776367, 0.16130000352859497, 0.15459999442100525, 0.3431999981403351, 0.43790000677108765, 0.03220000118017197, 0.1071000024676323, 0.652899980545044, -0.36629998683929443, 0.30649998784065247, 0.625, -0.27129998803138733, -0.17309999465942383, -0.14959999918937683, 0.047600001096725464, 0.07270000129938126, 0.18610000610351562, 0.10740000009536743, 1.6110999584197998, 1.6109999418258667, 1.610700011253357, 1.6105999946594238, 1.6102999448776245, 1.6098999977111816, 1.6095000505447388, 1.6094000339508057, 1.6092000007629395, 1.6092000007629395, 1.6088000535964966, 1.6083999872207642, 1.6081000566482544, 1.6080000400543213, 1.6075999736785889, 1.6075999736785889, 1.6074999570846558, 1.6067999601364136, 1.606600046157837, 1.6065000295639038, 1.6061999797821045, 1.6060999631881714, 1.6060999631881714, 1.6052000522613525, 1.6052000522613525, 1.6050000190734863, 1.6049000024795532, 1.604599952697754, 1.6045000553131104, 1.6043000221252441, 1.603600025177002, 1.6028000116348267, 1.5388000011444092, 1.554800033569336, 1.5424000024795532, 1.4973000288009644, 1.4478000402450562, 1.5364999771118164, 1.292099952697754, 1.3076000213623047, 1.5433000326156616, 1.3932000398635864, 1.3066999912261963, 1.3801000118255615, 0.9347000122070312, 1.190500020980835, 1.0618000030517578, 1.2936999797821045, 1.3097000122070312, 1.357300043106079, 1.166100025177002, 1.3270000219345093, 1.2454999685287476, 1.0585999488830566, 0.4408000111579895, 0.19789999723434448, -0.014100000262260437, -0.15360000729560852, 0.04569999873638153, -0.06530000269412994, 0.44279998540878296, 0.21199999749660492, 0.14900000393390656, 0.8758000135421753, 0.7440999746322632, 0.22920000553131104, 0.5691999793052673, 0.022700000554323196, -0.18050000071525574, -0.21160000562667847, 0.2011999934911728, 0.492900013923645, -0.31700000166893005, 0.09470000118017197, -0.00419999985024333, 0.0966000035405159, -0.6998000144958496, -0.921999990940094, 0.33219999074935913, 0.6888999938964844, 0.6887999773025513, 0.6887999773025513, 0.6887999773025513, 0.6887999773025513, 0.6887999773025513, 0.6887000203132629, 0.6886000037193298, 0.6886000037193298, 0.6886000037193298, 0.6886000037193298, 0.6884999871253967, 0.6884999871253967, 0.6884999871253967, 0.6884999871253967, 0.6884999871253967, 0.6883999705314636, 0.6883999705314636, 0.6883999705314636, 0.6883000135421753, 0.6883000135421753, 0.6881999969482422, 0.6881999969482422, 0.6881999969482422, 0.6880999803543091, 0.6880000233650208, 0.6880000233650208, 0.6880000233650208, 0.6880000233650208, 0.6880000233650208, 0.6869999766349792, 0.6858999729156494, 0.6848999857902527, 0.6600000262260437, 0.6620000004768372, 0.6697999835014343, 0.6460999846458435, 0.6585000157356262, 0.5943999886512756, 0.6344000101089478, 0.6466000080108643, 0.6467000246047974, 0.6439999938011169, 0.6359000205993652, 0.6074000000953674, 0.5472999811172485, 0.6175000071525574, 0.5001999735832214, 0.2142000049352646, 0.2222999930381775, 0.48660001158714294, 0.1987999975681305, 0.15389999747276306, 0.4713999927043915, 0.36230000853538513, 0.13819999992847443, 0.19990000128746033, 0.2980000078678131, -0.09849999845027924, 0.03999999910593033, -0.0421999990940094, 0.2320999950170517, 0.007400000002235174, 0.25290000438690186, -0.18070000410079956, -0.020800000056624413, -0.18330000340938568, 0.031099999323487282, 0.11509999632835388, 0.09000000357627869, -0.8151000142097473], \"logprob\": [30.0, 29.0, 28.0, 27.0, 26.0, 25.0, 24.0, 23.0, 22.0, 21.0, 20.0, 19.0, 18.0, 17.0, 16.0, 15.0, 14.0, 13.0, 12.0, 11.0, 10.0, 9.0, 8.0, 7.0, 6.0, 5.0, 4.0, 3.0, 2.0, 1.0, -5.482900142669678, -5.999199867248535, -5.868299961090088, -6.220900058746338, -6.222400188446045, -6.248600006103516, -6.3541998863220215, -6.66480016708374, -6.654799938201904, -6.85230016708374, -6.815700054168701, -6.837900161743164, -6.881800174713135, -6.964000225067139, -7.095399856567383, -7.183700084686279, -7.207600116729736, -7.241600036621094, -7.208799839019775, -7.228899955749512, -7.150700092315674, -7.272799968719482, -7.229300022125244, -7.392499923706055, -7.484600067138672, -7.506999969482422, -7.578400135040283, -7.739200115203857, -7.736100196838379, -7.738999843597412, -6.427199840545654, -6.272600173950195, -6.3632001876831055, -5.690100193023682, -5.412899971008301, -7.095300197601318, -5.453499794006348, -5.6290998458862305, -4.900300025939941, -6.073999881744385, -6.013700008392334, -6.57289981842041, -5.531199932098389, -5.576499938964844, -6.724899768829346, -3.8773999214172363, -4.237599849700928, -5.972400188446045, -5.315999984741211, -5.424200057983398, -5.546999931335449, -4.500899791717529, -5.794400215148926, -5.722300052642822, -4.586299896240234, -5.384099960327148, -4.453100204467773, -4.473599910736084, -4.813199996948242, -4.993199825286865, -4.821899890899658, -4.993100166320801, -5.650199890136719, -4.742300033569336, -5.353300094604492, -5.67519998550415, -5.137400150299072, -5.281400203704834, -5.304800033569336, -5.583399772644043, -5.589900016784668, -5.61299991607666, -5.645699977874756, -5.413599967956543, -5.465799808502197, -5.854499816894531, -6.023799896240234, -6.2154998779296875, -6.596499919891357, -6.750899791717529, -6.79610013961792, -6.804900169372559, -6.843699932098389, -7.06279993057251, -7.216400146484375, -7.211100101470947, -7.252600193023682, -7.420300006866455, -7.353799819946289, -7.486000061035156, -7.460700035095215, -7.701099872589111, -7.613399982452393, -7.702899932861328, -7.699100017547607, -7.756800174713135, -7.927499771118164, -7.792600154876709, -7.881700038909912, -7.912300109863281, -7.963699817657471, -7.888500213623047, -8.057600021362305, -7.282700061798096, -7.3246002197265625, -6.150599956512451, -6.603000164031982, -6.317800045013428, -5.577899932861328, -5.422999858856201, -7.077600002288818, -5.29040002822876, -5.432300090789795, -7.206099987030029, -6.170899868011475, -5.61329984664917, -6.315199851989746, -4.474100112915039, -5.755899906158447, -5.418000221252441, -6.367700099945068, -6.424300193786621, -6.630899906158447, -6.198400020599365, -6.602200031280518, -6.46120023727417, -6.117400169372559, -5.258900165557861, -4.9105000495910645, -4.642300128936768, -4.529600143432617, -5.015399932861328, -4.931300163269043, -5.48330020904541, -5.285600185394287, -5.282100200653076, -5.980999946594238, -5.875199794769287, -5.4791998863220215, -5.743899822235107, -5.368199825286865, -5.335599899291992, -5.3678998947143555, -5.627799987792969, -5.762700080871582, -5.417200088500977, -5.658299922943115, -5.664000034332275, -5.702499866485596, -5.626999855041504, -5.650000095367432, -5.74370002746582, -3.82069993019104, -5.304699897766113, -5.352399826049805, -5.716300010681152, -5.845399856567383, -5.866499900817871, -6.096099853515625, -6.410200119018555, -6.423099994659424, -6.43120002746582, -6.566500186920166, -6.50570011138916, -6.631199836730957, -6.463500022888184, -6.478799819946289, -6.7104997634887695, -6.764599800109863, -6.875699996948242, -6.9679999351501465, -6.956200122833252, -6.994800090789795, -7.186399936676025, -7.235000133514404, -6.467800140380859, -7.23330020904541, -7.332900047302246, -7.2291998863220215, -7.247600078582764, -7.243299961090088, -7.292600154876709, -5.943699836730957, -6.412700176239014, -6.927599906921387, -5.055099964141846, -5.914100170135498, -6.422999858856201, -5.723199844360352, -6.1753997802734375, -4.559299945831299, -5.5289998054504395, -5.995200157165527, -6.120699882507324, -6.156400203704834, -6.037799835205078, -5.671800136566162, -5.281199932098389, -5.930699825286865, -5.325399875640869, -4.161799907684326, -4.392099857330322, -5.6371002197265625, -4.655300140380859, -4.712200164794922, -5.817500114440918, -5.551499843597412, -5.016900062561035, -5.191100120544434, -5.462600231170654, -4.7266998291015625, -5.060299873352051, -4.969399929046631, -5.39900016784668, -5.100900173187256, -5.4653000831604, -5.190299987792969, -5.429699897766113, -5.339600086212158, -5.4664998054504395, -5.58459997177124, -5.6184000968933105, -5.543099880218506]}, \"token.table\": {\"Topic\": [2, 1, 3, 2, 1, 2, 3, 1, 2, 3, 2, 3, 1, 2, 3, 1, 2, 1, 1, 2, 1, 2, 3, 2, 2, 2, 1, 1, 2, 3, 1, 2, 1, 2, 3, 1, 2, 1, 2, 3, 1, 2, 3, 3, 2, 1, 2, 3, 1, 3, 2, 1, 3, 3, 2, 3, 1, 2, 3, 2, 1, 2, 2, 1, 1, 1, 3, 1, 2, 1, 2, 3, 1, 3, 1, 2, 3, 3, 2, 1, 3, 3, 3, 1, 2, 3, 3, 1, 2, 3, 2, 3, 1, 2, 3, 1, 1, 1, 2, 2, 3, 3, 1, 2, 3, 3, 1, 1, 2, 3, 1, 2, 2, 1, 2, 3, 2, 3, 1, 2, 1, 3, 2, 1, 2, 3, 1, 2, 3, 1, 2, 3, 2, 2, 1, 1, 1, 2, 3, 2, 3, 1, 3, 1, 2, 3, 1, 2, 3, 3, 2, 2, 1, 2, 3, 2, 3, 2, 1, 1, 2, 3, 1, 1, 2, 3, 3, 1, 2, 3, 2, 3, 1, 2, 3, 1, 1, 2, 3, 1, 2, 2, 3, 1, 2, 3, 2, 1, 2, 1, 2, 1, 2, 3, 1, 2, 3, 1, 2, 3, 3, 3, 1, 2, 3, 3, 2, 1, 2, 1, 2, 3, 1, 2, 3, 1, 2, 3, 1, 2, 1, 2, 3, 2, 1, 2, 3, 1, 2, 1, 2, 3, 1, 3, 2, 3, 1, 3, 3, 1, 3, 1, 1, 1, 2, 3, 1, 2, 3, 3, 2, 2, 1, 2, 1, 3, 2, 3, 1, 2, 3, 3, 3, 2, 3, 3, 2, 1, 2, 3, 1, 3, 1, 2, 3, 2, 2, 3, 1, 2, 3, 1, 2, 3, 1, 2, 3, 1, 2, 3, 3, 1, 1, 2, 3, 1, 1, 3, 2, 3, 1, 2, 3, 1, 2, 3, 1, 2, 3, 3, 1, 2, 1, 2, 3, 1, 2, 3, 1, 3, 1, 2, 3, 1, 2, 3, 2, 3, 1, 2, 1, 1, 3, 3, 3, 2, 3, 2, 3], \"Freq\": [1.0131282806396484, 0.18244969844818115, 0.8163453936576843, 1.001018762588501, 0.698630154132843, 0.07936345785856247, 0.2224494069814682, 0.36010679602622986, 0.2197834849357605, 0.4209699034690857, 1.0008203983306885, 1.0024027824401855, 0.2566216289997101, 0.16693724691867828, 0.5762887001037598, 0.9922912120819092, 0.009020829573273659, 0.9962674975395203, 0.9779535531997681, 0.020374033600091934, 0.18486888706684113, 0.011036948300898075, 0.8056972622871399, 1.0164450407028198, 0.977094829082489, 0.9748908877372742, 0.9947284460067749, 0.2274344563484192, 0.18686865270137787, 0.58587646484375, 0.917484700679779, 0.08216280490159988, 0.24581538140773773, 0.737446129322052, 0.011705493554472923, 0.2721279561519623, 0.7293029427528381, 0.8998907208442688, 0.012674516998231411, 0.08238436281681061, 0.9963231086730957, 1.0047751665115356, 0.9985010027885437, 0.9974903464317322, 0.9887373447418213, 0.5580654144287109, 0.10882275551557541, 0.33483925461769104, 0.1718662828207016, 0.8280829787254333, 1.0145595073699951, 0.742773711681366, 0.2571139633655548, 0.9964054822921753, 1.0037968158721924, 1.000772476196289, 0.06029396876692772, 0.5761423707008362, 0.3684631288051605, 1.0179147720336914, 0.5209657549858093, 0.477146178483963, 1.0139780044555664, 1.005102276802063, 1.0030064582824707, 1.001613974571228, 0.9978139400482178, 0.9979264736175537, 1.0259512662887573, 0.4192236065864563, 0.09897353500127792, 0.4814355671405792, 0.06793999671936035, 0.9297052025794983, 0.2982051968574524, 0.6549863815307617, 0.04260073974728584, 0.9980842471122742, 1.0195112228393555, 1.0050044059753418, 1.0006054639816284, 0.9993499517440796, 0.9969673752784729, 0.1334047168493271, 0.19034576416015625, 0.6767849326133728, 1.0024223327636719, 0.9087138772010803, 0.021896719932556152, 0.06933961063623428, 0.0460202731192112, 0.9572216868400574, 1.0063778162002563, 0.6390295028686523, 0.3559151589870453, 0.9938216805458069, 0.9927031397819519, 0.05365320295095444, 0.9478732347488403, 0.039268720895051956, 0.9581567645072937, 1.0028547048568726, 0.01103176549077034, 0.014709020964801311, 0.9744726419448853, 1.0041738748550415, 1.0014041662216187, 0.07625202089548111, 0.013299770653247833, 0.909704327583313, 0.08467289805412292, 0.9314019083976746, 0.981871485710144, 0.8694490790367126, 0.07612688094377518, 0.05409014970064163, 0.7882458567619324, 0.20269179344177246, 0.06716697663068771, 0.9291431903839111, 0.9927960634231567, 0.010561659932136536, 0.9864832758903503, 0.8617007732391357, 0.11190919578075409, 0.02611214481294155, 0.9399445056915283, 0.058021266013383865, 1.0002050399780273, 0.12704963982105255, 0.3107358515262604, 0.5633044242858887, 1.0074084997177124, 1.000428557395935, 1.0024302005767822, 1.0014537572860718, 0.07363574951887131, 0.7363575100898743, 0.1905866414308548, 0.5777309536933899, 0.4241146147251129, 0.982751190662384, 1.0012359619140625, 0.495939165353775, 0.08444784581661224, 0.4191684126853943, 0.8577812314033508, 0.0038990057073533535, 0.1364651918411255, 1.0035241842269897, 1.00204598903656, 1.0104554891586304, 0.2544020414352417, 0.3533361554145813, 0.39290982484817505, 0.9370705485343933, 0.06462555378675461, 1.0110633373260498, 0.9992654919624329, 0.35057586431503296, 0.02223416231572628, 0.6272101998329163, 0.9914679527282715, 0.3481019139289856, 0.19659370183944702, 0.45504888892173767, 0.9982973337173462, 0.18210354447364807, 0.204585462808609, 0.6126322746276855, 0.07924778759479523, 0.9209139347076416, 0.3326079547405243, 0.2195858359336853, 0.4488592743873596, 0.9955276250839233, 0.5740065574645996, 0.13543975353240967, 0.2902280390262604, 0.9570794105529785, 0.04101768881082535, 0.027982134371995926, 0.9716019034385681, 0.35016492009162903, 0.24389596283435822, 0.4059125483036041, 0.9948969483375549, 0.9572083950042725, 0.04373033344745636, 0.9458513259887695, 0.054568346589803696, 0.38964179158210754, 0.3255910873413086, 0.2828906178474426, 0.2508162558078766, 0.24319009482860565, 0.5058693289756775, 0.7455501556396484, 0.026274895295500755, 0.22662097215652466, 0.9954705238342285, 0.9981653094291687, 0.3129945695400238, 0.05430956184864044, 0.6331351399421692, 1.0006616115570068, 0.9959223866462708, 0.9923315644264221, 0.9935907125473022, 0.23513048887252808, 0.24638673663139343, 0.5177873373031616, 0.6797921061515808, 0.2085450142621994, 0.11154733598232269, 0.19918712973594666, 0.25168606638908386, 0.5496947169303894, 0.15305882692337036, 0.8492295742034912, 0.3082171082496643, 0.07951869815587997, 0.6124911308288574, 1.0028352737426758, 0.36281463503837585, 0.31098395586013794, 0.3263411819934845, 0.9824100732803345, 1.0088382959365845, 0.1594671607017517, 0.6948211789131165, 0.1480766385793686, 0.8471616506576538, 0.14882569015026093, 1.0019996166229248, 1.0000826120376587, 0.0527007095515728, 0.9486127495765686, 0.998067319393158, 0.9670039415359497, 0.029010118916630745, 1.0058830976486206, 0.9988447427749634, 0.9796620011329651, 0.7540498375892639, 0.24186503887176514, 0.332023561000824, 0.14541791379451752, 0.5228320360183716, 0.9981473684310913, 0.9900786876678467, 0.9827179908752441, 0.10902805626392365, 0.8903957605361938, 0.7529394030570984, 0.24902665615081787, 0.9656409025192261, 0.9989309310913086, 0.37626922130584717, 0.4185035228729248, 0.20349253714084625, 0.9987389445304871, 1.0011180639266968, 0.9295490980148315, 0.06639636307954788, 0.9980559945106506, 1.0079588890075684, 0.46220672130584717, 0.23168843984603882, 0.3065776228904724, 0.040073461830616, 0.9573104977607727, 0.42051365971565247, 0.1618044078350067, 0.41784656047821045, 0.9985028505325317, 0.7697375416755676, 0.22639340162277222, 0.6962273716926575, 0.2515166997909546, 0.05467754229903221, 0.7251433730125427, 0.27039244771003723, 0.0040968554094433784, 0.5737178921699524, 0.08675733953714371, 0.3414320945739746, 0.997530996799469, 0.018494829535484314, 0.9802260398864746, 1.0029889345169067, 1.003049373626709, 0.34563499689102173, 0.2787379026412964, 0.3768536448478699, 1.0010331869125366, 0.992491602897644, 0.9952029585838318, 0.5081100463867188, 0.49208858609199524, 0.16118359565734863, 0.1175692155957222, 0.7205855250358582, 0.215188667178154, 0.1387811005115509, 0.6471253037452698, 0.9873231649398804, 0.04185958951711655, 0.9567906260490417, 0.996401309967041, 0.2645019590854645, 0.7364564538002014, 0.40592074394226074, 0.19854819774627686, 0.39562565088272095, 0.01903541199862957, 0.014276559464633465, 0.9708060622215271, 0.13232135772705078, 0.8670531511306763, 0.32154381275177, 0.17847156524658203, 0.500015377998352, 0.20695477724075317, 0.1711043417453766, 0.6220865249633789, 0.725306510925293, 0.27384018898010254, 0.9160516858100891, 0.08327742666006088, 0.9957906603813171, 1.0041444301605225, 1.0010112524032593, 1.0014504194259644, 1.0012129545211792, 0.799970805644989, 0.19752365350723267, 0.0535430833697319, 0.9467390775680542], \"Term\": [\"abstraction\", \"accuracy\", \"accuracy\", \"agent\", \"algorithm\", \"algorithm\", \"algorithm\", \"also\", \"also\", \"also\", \"answer\", \"appearance\", \"approach\", \"approach\", \"approach\", \"approximate\", \"approximate\", \"approximation\", \"arm\", \"arm\", \"art\", \"art\", \"art\", \"asp\", \"automaton\", \"axiom\", \"bandit\", \"base\", \"base\", \"base\", \"bayesian\", \"bayesian\", \"behavior\", \"behavior\", \"behavior\", \"belief\", \"belief\", \"bind\", \"bind\", \"bind\", \"bound\", \"calculus\", \"camera\", \"character\", \"circuit\", \"class\", \"class\", \"class\", \"classification\", \"classification\", \"clause\", \"cluster\", \"cluster\", \"cnn\", \"cognitive\", \"color\", \"concept\", \"concept\", \"concept\", \"conflict\", \"constraint\", \"constraint\", \"controller\", \"converge\", \"convergence\", \"convex\", \"convolutional\", \"covariance\", \"customer\", \"data\", \"data\", \"data\", \"dataset\", \"dataset\", \"decision\", \"decision\", \"decision\", \"deep\", \"default\", \"descent\", \"descriptor\", \"detection\", \"detector\", \"different\", \"different\", \"different\", \"disease\", \"distribution\", \"distribution\", \"distribution\", \"document\", \"document\", \"ell\", \"environment\", \"environment\", \"epsilon\", \"estimator\", \"evolutionary\", \"evolutionary\", \"extract\", \"extract\", \"extraction\", \"face\", \"face\", \"face\", \"facial\", \"factorization\", \"feature\", \"feature\", \"feature\", \"formal\", \"formal\", \"formalism\", \"function\", \"function\", \"function\", \"fuzzy\", \"fuzzy\", \"game\", \"game\", \"gaussian\", \"gaussian\", \"grammar\", \"graph\", \"graph\", \"graph\", \"guarantee\", \"guarantee\", \"image\", \"information\", \"information\", \"information\", \"intelligence\", \"intelligent\", \"iteration\", \"kernel\", \"knowledge\", \"knowledge\", \"knowledge\", \"language\", \"language\", \"lasso\", \"layer\", \"learn\", \"learn\", \"learn\", \"linear\", \"linear\", \"linear\", \"localization\", \"logic\", \"logical\", \"make\", \"make\", \"make\", \"management\", \"management\", \"market\", \"matrix\", \"method\", \"method\", \"method\", \"minimization\", \"model\", \"model\", \"model\", \"motion\", \"network\", \"network\", \"network\", \"neural\", \"neural\", \"new\", \"new\", \"new\", \"norm\", \"number\", \"number\", \"number\", \"numerical\", \"numerical\", \"object\", \"object\", \"one\", \"one\", \"one\", \"ontology\", \"optimal\", \"optimal\", \"optimization\", \"optimization\", \"order\", \"order\", \"order\", \"paper\", \"paper\", \"paper\", \"parameter\", \"parameter\", \"parameter\", \"patch\", \"patient\", \"performance\", \"performance\", \"performance\", \"pixel\", \"plan\", \"posterior\", \"preference\", \"present\", \"present\", \"present\", \"problem\", \"problem\", \"problem\", \"process\", \"process\", \"process\", \"program\", \"program\", \"propose\", \"propose\", \"propose\", \"propositional\", \"provide\", \"provide\", \"provide\", \"quadratic\", \"quantum\", \"question\", \"question\", \"question\", \"random\", \"random\", \"reason\", \"recognition\", \"region\", \"region\", \"registration\", \"regression\", \"regression\", \"regret\", \"regularization\", \"relaxation\", \"resource\", \"resource\", \"result\", \"result\", \"result\", \"retrieval\", \"revision\", \"route\", \"rule\", \"rule\", \"sample\", \"sample\", \"satisfiability\", \"scene\", \"search\", \"search\", \"search\", \"segment\", \"segmentation\", \"semantics\", \"semantics\", \"sentiment\", \"service\", \"set\", \"set\", \"set\", \"shape\", \"shape\", \"show\", \"show\", \"show\", \"sit\", \"software\", \"software\", \"solution\", \"solution\", \"solution\", \"solve\", \"solve\", \"solve\", \"space\", \"space\", \"space\", \"sparsity\", \"spatial\", \"spatial\", \"speech\", \"stochastic\", \"study\", \"study\", \"study\", \"subspace\", \"sum\", \"surface\", \"system\", \"system\", \"task\", \"task\", \"task\", \"technique\", \"technique\", \"technique\", \"tensor\", \"text\", \"text\", \"texture\", \"theory\", \"theory\", \"time\", \"time\", \"time\", \"track\", \"track\", \"track\", \"train\", \"train\", \"two\", \"two\", \"two\", \"use\", \"use\", \"use\", \"user\", \"user\", \"variable\", \"variable\", \"variational\", \"vertex\", \"video\", \"visual\", \"wavelet\", \"web\", \"web\", \"word\", \"word\"]}, \"R\": 30, \"lambda.step\": 0.01, \"plot.opts\": {\"xlab\": \"PC1\", \"ylab\": \"PC2\"}, \"topic.order\": [1, 2, 3]};\n",
       "\n",
       "function LDAvis_load_lib(url, callback){\n",
       "  var s = document.createElement('script');\n",
       "  s.src = url;\n",
       "  s.async = true;\n",
       "  s.onreadystatechange = s.onload = callback;\n",
       "  s.onerror = function(){console.warn(\"failed to load library \" + url);};\n",
       "  document.getElementsByTagName(\"head\")[0].appendChild(s);\n",
       "}\n",
       "\n",
       "if(typeof(LDAvis) !== \"undefined\"){\n",
       "   // already loaded: just create the visualization\n",
       "   !function(LDAvis){\n",
       "       new LDAvis(\"#\" + \"ldavis_el335201126414234241567545208\", ldavis_el335201126414234241567545208_data);\n",
       "   }(LDAvis);\n",
       "}else if(typeof define === \"function\" && define.amd){\n",
       "   // require.js is available: use it to load d3/LDAvis\n",
       "   require.config({paths: {d3: \"https://cdnjs.cloudflare.com/ajax/libs/d3/3.5.5/d3.min\"}});\n",
       "   require([\"d3\"], function(d3){\n",
       "      window.d3 = d3;\n",
       "      LDAvis_load_lib(\"https://cdn.rawgit.com/bmabey/pyLDAvis/files/ldavis.v1.0.0.js\", function(){\n",
       "        new LDAvis(\"#\" + \"ldavis_el335201126414234241567545208\", ldavis_el335201126414234241567545208_data);\n",
       "      });\n",
       "    });\n",
       "}else{\n",
       "    // require.js not available: dynamically load d3 & LDAvis\n",
       "    LDAvis_load_lib(\"https://cdnjs.cloudflare.com/ajax/libs/d3/3.5.5/d3.min.js\", function(){\n",
       "         LDAvis_load_lib(\"https://cdn.rawgit.com/bmabey/pyLDAvis/files/ldavis.v1.0.0.js\", function(){\n",
       "                 new LDAvis(\"#\" + \"ldavis_el335201126414234241567545208\", ldavis_el335201126414234241567545208_data);\n",
       "            })\n",
       "         });\n",
       "}\n",
       "</script>"
      ],
      "text/plain": [
       "<IPython.core.display.HTML object>"
      ]
     },
     "execution_count": 37,
     "metadata": {},
     "output_type": "execute_result"
    }
   ],
   "source": [
    "lda_display = pyLDAvis.gensim.prepare(lda, data_test_bow, dictionary, sort_topics=False)\n",
    "pyLDAvis.display(lda_display)"
   ]
  },
  {
   "cell_type": "markdown",
   "metadata": {},
   "source": [
    "**Summary of the LDA prediction of the testing data:**\n",
    "As we can tell by comparing the topic output from the training dataset and the same model that was applied to predict the testing dataset,\n",
    "the research papers in the testing dataset fit the 3 topics obtained from the training dataset, suggesting that the recently published\n",
    "topics (topic 3) compared to the earlier papers."
   ]
  },
  {
   "cell_type": "markdown",
   "metadata": {},
   "source": [
    "--------------------"
   ]
  },
  {
   "cell_type": "markdown",
   "metadata": {},
   "source": [
    "## 3. Use word2vec to vectorize each abstract"
   ]
  },
  {
   "cell_type": "markdown",
   "metadata": {},
   "source": [
    "In this section, I converted each word in the abstract into a vector containing 300 dimensions and calculated a vector for each abstract by averaging across all the word vectors within each abstract. The output of the word2vec analysis will be used for K-Means and PCA analysis later."
   ]
  },
  {
   "cell_type": "code",
   "execution_count": 41,
   "metadata": {},
   "outputs": [],
   "source": [
    "import warnings\n",
    "warnings.filterwarnings(action='once')"
   ]
  },
  {
   "cell_type": "code",
   "execution_count": 42,
   "metadata": {},
   "outputs": [
    {
     "name": "stderr",
     "output_type": "stream",
     "text": [
      "/Users/jingtingzhang/anaconda3/lib/python3.6/site-packages/gensim/models/utils_any2vec.py:214: DeprecationWarning: The binary mode of fromstring is deprecated, as it behaves surprisingly on unicode inputs. Use frombuffer instead\n",
      "  weights = fromstring(fin.read(binary_len), dtype=REAL).astype(datatype)\n"
     ]
    }
   ],
   "source": [
    "# Used a pre-trained dataset for word2vec analysis\n",
    "model_location = '/Users/jingtingzhang/Documents/jobapp_2019/Georgian_Partners/Data challenge/'\n",
    "model = gensim.models.KeyedVectors.load_word2vec_format('GoogleNews-vectors-negative300.bin', binary=True, limit = 1000000)"
   ]
  },
  {
   "cell_type": "code",
   "execution_count": 47,
   "metadata": {},
   "outputs": [],
   "source": [
    "# Created function to convert each abstract into a 300-dimensional vector\n",
    "def abstract_to_vector(model, abstract):\n",
    "    num_features = 300 \n",
    "    single_abstract = np.zeros((num_features, ), dtype='float32')\n",
    "    n_words = 0\n",
    "    for word in abstract:\n",
    "        if word in model.vocab:\n",
    "            single_abstract = np.add(single_abstract, model[word])\n",
    "            n_words += 1\n",
    "    single_abstract = single_abstract/n_words\n",
    "    return single_abstract"
   ]
  },
  {
   "cell_type": "code",
   "execution_count": 49,
   "metadata": {},
   "outputs": [],
   "source": [
    "# Generate vetors for all the abstracts in the training dataset\n",
    "avg_abstract = []\n",
    "for abstract in df_train['lem abstract']:\n",
    "    avg_abstract.append(list(abstract_to_vector(model, abstract)))\n",
    "df_train['avg abstract'] = avg_abstract"
   ]
  },
  {
   "cell_type": "markdown",
   "metadata": {},
   "source": [
    "## 4. K-means Clustering of the abstracts based on word2vec output (training dataset)"
   ]
  },
  {
   "cell_type": "markdown",
   "metadata": {},
   "source": [
    "I then used K-means method to cluster the unlabelled abstracts into different categories. Considering that we predefined 3 topics in the LDA model, here I also focus on 3 clusters to keep consistency."
   ]
  },
  {
   "cell_type": "code",
   "execution_count": 50,
   "metadata": {},
   "outputs": [],
   "source": [
    "X_train = []\n",
    "for i in range(len(df_train)):\n",
    "    X_train.append(df_train['avg abstract'][i])"
   ]
  },
  {
   "cell_type": "code",
   "execution_count": 53,
   "metadata": {},
   "outputs": [],
   "source": [
    "model_train_kmeans = KMeans(n_clusters=3, random_state=0).fit(X_train)"
   ]
  },
  {
   "cell_type": "code",
   "execution_count": 54,
   "metadata": {},
   "outputs": [],
   "source": [
    "df_train['kmeans label'] = model_train_kmeans.labels_"
   ]
  },
  {
   "cell_type": "markdown",
   "metadata": {},
   "source": [
    "I calculated the Silhouette score to confirm that there was no clear clustering of the training data."
   ]
  },
  {
   "cell_type": "code",
   "execution_count": 62,
   "metadata": {},
   "outputs": [
    {
     "name": "stderr",
     "output_type": "stream",
     "text": [
      "/Users/jingtingzhang/anaconda3/lib/python3.6/site-packages/sklearn/metrics/pairwise.py:257: RuntimeWarning: invalid value encountered in sqrt\n",
      "  return distances if squared else np.sqrt(distances, out=distances)\n"
     ]
    },
    {
     "name": "stdout",
     "output_type": "stream",
     "text": [
      "0.03147187\n"
     ]
    }
   ],
   "source": [
    "score = sklearn.metrics.silhouette_score(X_train, model_train_kmeans.labels_, metric = 'euclidean')\n",
    "print(score)"
   ]
  },
  {
   "cell_type": "markdown",
   "metadata": {},
   "source": [
    "**Summary of the K-means clustering analysis**:\n",
    "The results showed that there does not seem to be clear clusters that are well separated for the training dataset."
   ]
  },
  {
   "cell_type": "markdown",
   "metadata": {},
   "source": [
    "------------"
   ]
  },
  {
   "cell_type": "markdown",
   "metadata": {},
   "source": [
    "## 5. PCA (training dataset)"
   ]
  },
  {
   "cell_type": "markdown",
   "metadata": {},
   "source": [
    "Here I reduced the dimensionality of the vectors for each abstract from 300 vectors to 3 components and plotted the training data based on the k-means labels generated from the previous section."
   ]
  },
  {
   "cell_type": "code",
   "execution_count": 63,
   "metadata": {},
   "outputs": [
    {
     "name": "stdout",
     "output_type": "stream",
     "text": [
      "[0.07094158 0.0462674  0.04369797]\n"
     ]
    }
   ],
   "source": [
    "pca = PCA(n_components = 3)\n",
    "X_train_pca = pca.fit_transform(X_train)\n",
    "print(pca.explained_variance_ratio_)"
   ]
  },
  {
   "cell_type": "code",
   "execution_count": 64,
   "metadata": {},
   "outputs": [],
   "source": [
    "df_train_pca = pd.DataFrame(X_train_pca, columns = ['PCA1', 'PCA2', 'PC3'])\n",
    "df_train_pca['kmeans labels'] = model_train_kmeans.labels_"
   ]
  },
  {
   "cell_type": "code",
   "execution_count": 65,
   "metadata": {},
   "outputs": [
    {
     "data": {
      "text/plain": [
       "<seaborn.axisgrid.FacetGrid at 0x1aae921748>"
      ]
     },
     "execution_count": 65,
     "metadata": {},
     "output_type": "execute_result"
    },
    {
     "data": {
      "image/png": "[encoded data removed]",
      "text/plain": [
       "<Figure size 439.875x360 with 1 Axes>"
      ]
     },
     "metadata": {},
     "output_type": "display_data"
    }
   ],
   "source": [
    "sns.lmplot(x = 'PCA1', y='PCA2', data = df_train_pca, hue = 'kmeans labels')"
   ]
  },
  {
   "cell_type": "markdown",
   "metadata": {},
   "source": [
    "**Summary of the PCA results**:\n",
    "The PCA analysis did not seem to have shown a clear separation of components among the training data. In combination of the K-Means analysis, these results may suggest no clear clustering of the research papers from 1995-2015, in consistency with the LDA results reported previously. "
   ]
  },
  {
   "cell_type": "markdown",
   "metadata": {},
   "source": [
    "--------------"
   ]
  },
  {
   "cell_type": "markdown",
   "metadata": {},
   "source": [
    "## 6. Use k-means to predict testing data"
   ]
  },
  {
   "cell_type": "markdown",
   "metadata": {},
   "source": [
    "I then used the K-means model built out of the training data to predict the testing data, to examine whether the testing data shows similar clustering patterns as the training data."
   ]
  },
  {
   "cell_type": "code",
   "execution_count": 66,
   "metadata": {},
   "outputs": [],
   "source": [
    "avg_abstract2 = []\n",
    "for abstract in df_test['lem abstract']:\n",
    "    avg_abstract2.append(list(abstract_to_vector(model, abstract)))\n",
    "df_test['avg abstract'] = avg_abstract2"
   ]
  },
  {
   "cell_type": "code",
   "execution_count": 67,
   "metadata": {},
   "outputs": [
    {
     "data": {
      "text/plain": [
       "array([1, 2, 1, ..., 1, 0, 1], dtype=int32)"
      ]
     },
     "execution_count": 67,
     "metadata": {},
     "output_type": "execute_result"
    }
   ],
   "source": [
    "X_test = []\n",
    "for i in range(len(df_test)):\n",
    "    X_test.append(df_test['avg abstract'][i])\n",
    "\n",
    "model_test_kmeans = model_train_kmeans.predict(X_test)\n",
    "model_test_kmeans"
   ]
  },
  {
   "cell_type": "code",
   "execution_count": 68,
   "metadata": {},
   "outputs": [
    {
     "data": {
      "text/plain": [
       "array([[-0.02554213,  0.04740448, -0.05011267],\n",
       "       [-0.02065694,  0.08773936,  0.18109742],\n",
       "       [-0.05235932, -0.00391419, -0.12543999],\n",
       "       ...,\n",
       "       [ 0.06402928,  0.05203345, -0.01159516],\n",
       "       [-0.18031812,  0.13251447, -0.07485289],\n",
       "       [ 0.03463067,  0.10267536, -0.04472861]])"
      ]
     },
     "execution_count": 68,
     "metadata": {},
     "output_type": "execute_result"
    }
   ],
   "source": [
    "X_pcatest = pca.transform(X_test)\n",
    "X_pcatest"
   ]
  },
  {
   "cell_type": "code",
   "execution_count": 70,
   "metadata": {},
   "outputs": [
    {
     "data": {
      "text/html": [
       "<div>\n",
       "<style scoped>\n",
       "    .dataframe tbody tr th:only-of-type {\n",
       "        vertical-align: middle;\n",
       "    }\n",
       "\n",
       "    .dataframe tbody tr th {\n",
       "        vertical-align: top;\n",
       "    }\n",
       "\n",
       "    .dataframe thead th {\n",
       "        text-align: right;\n",
       "    }\n",
       "</style>\n",
       "<table border=\"1\" class=\"dataframe\">\n",
       "  <thead>\n",
       "    <tr style=\"text-align: right;\">\n",
       "      <th></th>\n",
       "      <th>PCA1</th>\n",
       "      <th>PCA2</th>\n",
       "      <th>PC3</th>\n",
       "    </tr>\n",
       "  </thead>\n",
       "  <tbody>\n",
       "    <tr>\n",
       "      <th>0</th>\n",
       "      <td>-0.025542</td>\n",
       "      <td>0.047404</td>\n",
       "      <td>-0.050113</td>\n",
       "    </tr>\n",
       "    <tr>\n",
       "      <th>1</th>\n",
       "      <td>-0.020657</td>\n",
       "      <td>0.087739</td>\n",
       "      <td>0.181097</td>\n",
       "    </tr>\n",
       "    <tr>\n",
       "      <th>2</th>\n",
       "      <td>-0.052359</td>\n",
       "      <td>-0.003914</td>\n",
       "      <td>-0.125440</td>\n",
       "    </tr>\n",
       "    <tr>\n",
       "      <th>3</th>\n",
       "      <td>0.115490</td>\n",
       "      <td>-0.026442</td>\n",
       "      <td>-0.037948</td>\n",
       "    </tr>\n",
       "    <tr>\n",
       "      <th>4</th>\n",
       "      <td>0.246483</td>\n",
       "      <td>-0.098636</td>\n",
       "      <td>0.017215</td>\n",
       "    </tr>\n",
       "  </tbody>\n",
       "</table>\n",
       "</div>"
      ],
      "text/plain": [
       "       PCA1      PCA2       PC3\n",
       "0 -0.025542  0.047404 -0.050113\n",
       "1 -0.020657  0.087739  0.181097\n",
       "2 -0.052359 -0.003914 -0.125440\n",
       "3  0.115490 -0.026442 -0.037948\n",
       "4  0.246483 -0.098636  0.017215"
      ]
     },
     "execution_count": 70,
     "metadata": {},
     "output_type": "execute_result"
    }
   ],
   "source": [
    "df_test_pca = pd.DataFrame(X_pcatest, columns = ['PCA1', 'PCA2', 'PC3'])\n",
    "df_test_pca.head()"
   ]
  },
  {
   "cell_type": "code",
   "execution_count": 71,
   "metadata": {},
   "outputs": [
    {
     "data": {
      "text/plain": [
       "<seaborn.axisgrid.FacetGrid at 0x1aae8660f0>"
      ]
     },
     "execution_count": 71,
     "metadata": {},
     "output_type": "execute_result"
    },
    {
     "data": {
      "image/png": "[encoded data removed]",
      "text/plain": [
       "<Figure size 439.875x360 with 1 Axes>"
      ]
     },
     "metadata": {},
     "output_type": "display_data"
    }
   ],
   "source": [
    "df_test_pca['kmeans labels'] = model_test_kmeans\n",
    "sns.lmplot(x = 'PCA1', y='PCA2', data = df_test_pca, hue = 'kmeans labels')"
   ]
  },
  {
   "cell_type": "markdown",
   "metadata": {},
   "source": [
    "I then calculated the Silhouette score to independently confirm that there was no clear clustering of the testing data."
   ]
  },
  {
   "cell_type": "code",
   "execution_count": 73,
   "metadata": {},
   "outputs": [
    {
     "name": "stdout",
     "output_type": "stream",
     "text": [
      "0.03826164\n"
     ]
    },
    {
     "name": "stderr",
     "output_type": "stream",
     "text": [
      "/Users/jingtingzhang/anaconda3/lib/python3.6/site-packages/sklearn/metrics/pairwise.py:257: RuntimeWarning: invalid value encountered in sqrt\n",
      "  return distances if squared else np.sqrt(distances, out=distances)\n"
     ]
    }
   ],
   "source": [
    "score_test = sklearn.metrics.silhouette_score(X_test, model_test_kmeans, metric = 'euclidean')\n",
    "print(score_test)"
   ]
  },
  {
   "cell_type": "markdown",
   "metadata": {},
   "source": [
    "**Summary of the prediction results using K-means**:\n",
    "The results revealed no clear clustering of the research papers published from 2016 onward either, in consistency with the LDA results reported previously as well. "
   ]
  },
  {
   "cell_type": "markdown",
   "metadata": {},
   "source": [
    "------------"
   ]
  },
  {
   "cell_type": "markdown",
   "metadata": {},
   "source": [
    "## 7. Use K-means to conduct validation"
   ]
  },
  {
   "cell_type": "markdown",
   "metadata": {},
   "source": [
    "### 7.1 Import validation data, visualize, and preprocessing"
   ]
  },
  {
   "cell_type": "code",
   "execution_count": 74,
   "metadata": {},
   "outputs": [
    {
     "data": {
      "text/html": [
       "<div>\n",
       "<style scoped>\n",
       "    .dataframe tbody tr th:only-of-type {\n",
       "        vertical-align: middle;\n",
       "    }\n",
       "\n",
       "    .dataframe tbody tr th {\n",
       "        vertical-align: top;\n",
       "    }\n",
       "\n",
       "    .dataframe thead th {\n",
       "        text-align: right;\n",
       "    }\n",
       "</style>\n",
       "<table border=\"1\" class=\"dataframe\">\n",
       "  <thead>\n",
       "    <tr style=\"text-align: right;\">\n",
       "      <th></th>\n",
       "      <th>abstract</th>\n",
       "      <th>authors</th>\n",
       "      <th>day</th>\n",
       "      <th>month</th>\n",
       "      <th>tags</th>\n",
       "      <th>title</th>\n",
       "      <th>year</th>\n",
       "    </tr>\n",
       "  </thead>\n",
       "  <tbody>\n",
       "    <tr>\n",
       "      <th>0</th>\n",
       "      <td>Real-time, accurate, and robust pupil detectio...</td>\n",
       "      <td>[{'name': 'Thiago Santini'}, {'name': 'Wolfgan...</td>\n",
       "      <td>24</td>\n",
       "      <td>12</td>\n",
       "      <td>[cs.CV, cs.HC]</td>\n",
       "      <td>PuRe: Robust pupil detection for real-time per...</td>\n",
       "      <td>2017</td>\n",
       "    </tr>\n",
       "    <tr>\n",
       "      <th>1</th>\n",
       "      <td>Diabetic Foot Ulcer (DFU) is a major complicat...</td>\n",
       "      <td>[{'name': 'Manu Goyal'}, {'name': 'Neil D. Ree...</td>\n",
       "      <td>6</td>\n",
       "      <td>8</td>\n",
       "      <td>[cs.CV]</td>\n",
       "      <td>Fully Convolutional Networks for Diabetic Foot...</td>\n",
       "      <td>2017</td>\n",
       "    </tr>\n",
       "  </tbody>\n",
       "</table>\n",
       "</div>"
      ],
      "text/plain": [
       "                                            abstract  \\\n",
       "0  Real-time, accurate, and robust pupil detectio...   \n",
       "1  Diabetic Foot Ulcer (DFU) is a major complicat...   \n",
       "\n",
       "                                             authors  day  month  \\\n",
       "0  [{'name': 'Thiago Santini'}, {'name': 'Wolfgan...   24     12   \n",
       "1  [{'name': 'Manu Goyal'}, {'name': 'Neil D. Ree...    6      8   \n",
       "\n",
       "             tags                                              title  year  \n",
       "0  [cs.CV, cs.HC]  PuRe: Robust pupil detection for real-time per...  2017  \n",
       "1         [cs.CV]  Fully Convolutional Networks for Diabetic Foot...  2017  "
      ]
     },
     "execution_count": 74,
     "metadata": {},
     "output_type": "execute_result"
    }
   ],
   "source": [
    "df_valid = importdata('data_valid.json')\n",
    "df_valid.head(2)"
   ]
  },
  {
   "cell_type": "code",
   "execution_count": 75,
   "metadata": {},
   "outputs": [
    {
     "name": "stderr",
     "output_type": "stream",
     "text": [
      "/Users/jingtingzhang/anaconda3/lib/python3.6/site-packages/matplotlib/axes/_axes.py:6462: UserWarning: The 'normed' kwarg is deprecated, and has been replaced by the 'density' kwarg.\n",
      "  warnings.warn(\"The 'normed' kwarg is deprecated, and has been \"\n"
     ]
    },
    {
     "data": {
      "image/png": "[encoded data removed]",
      "text/plain": [
       "<Figure size 720x360 with 1 Axes>"
      ]
     },
     "metadata": {},
     "output_type": "display_data"
    }
   ],
   "source": [
    "df_valid['abstract length'] = df_valid['abstract'].astype(str).apply(len)\n",
    "\n",
    "plt.figure(figsize = (10, 5))\n",
    "sns.distplot(df_valid['abstract length'], color = 'red', bins = 40, kde = False)\n",
    "plt.title('abstract length for validation dataset')\n",
    "plt.savefig('plot of validation abstract length.png')"
   ]
  },
  {
   "cell_type": "code",
   "execution_count": 76,
   "metadata": {},
   "outputs": [],
   "source": [
    "preprocessing(df_valid)\n",
    "create_lemma_all_abstract(df_valid)"
   ]
  },
  {
   "cell_type": "code",
   "execution_count": 77,
   "metadata": {},
   "outputs": [],
   "source": [
    "avg_abstract3 = []\n",
    "for abstract in df_valid['lem abstract']:\n",
    "    avg_abstract3.append(list(abstract_to_vector(model, abstract)))\n",
    "df_valid['avg abstract'] = avg_abstract3"
   ]
  },
  {
   "cell_type": "code",
   "execution_count": 78,
   "metadata": {},
   "outputs": [
    {
     "data": {
      "text/plain": [
       "array([1, 1, 0, ..., 0, 0, 1], dtype=int32)"
      ]
     },
     "execution_count": 78,
     "metadata": {},
     "output_type": "execute_result"
    }
   ],
   "source": [
    "X_valid = []\n",
    "for i in range(len(df_valid)):\n",
    "    X_valid.append(df_valid['avg abstract'][i])\n",
    "\n",
    "model_valid_kmeans = model_kmeans.predict(X_valid)\n",
    "model_valid_kmeans"
   ]
  },
  {
   "cell_type": "code",
   "execution_count": 79,
   "metadata": {},
   "outputs": [
    {
     "data": {
      "text/plain": [
       "array([[-0.01219424,  0.09237211, -0.10257519],\n",
       "       [ 0.03631204,  0.10006301, -0.16460424],\n",
       "       [-0.10462466,  0.14281442, -0.1118783 ],\n",
       "       ...,\n",
       "       [-0.20406222,  0.16980263,  0.02981044],\n",
       "       [-0.09878501,  0.02991731, -0.03950298],\n",
       "       [-0.00314757,  0.12443685,  0.08065594]])"
      ]
     },
     "execution_count": 79,
     "metadata": {},
     "output_type": "execute_result"
    }
   ],
   "source": [
    "X_pcavalid = pca.transform(X_valid)\n",
    "X_pcavalid"
   ]
  },
  {
   "cell_type": "code",
   "execution_count": 80,
   "metadata": {},
   "outputs": [
    {
     "data": {
      "text/html": [
       "<div>\n",
       "<style scoped>\n",
       "    .dataframe tbody tr th:only-of-type {\n",
       "        vertical-align: middle;\n",
       "    }\n",
       "\n",
       "    .dataframe tbody tr th {\n",
       "        vertical-align: top;\n",
       "    }\n",
       "\n",
       "    .dataframe thead th {\n",
       "        text-align: right;\n",
       "    }\n",
       "</style>\n",
       "<table border=\"1\" class=\"dataframe\">\n",
       "  <thead>\n",
       "    <tr style=\"text-align: right;\">\n",
       "      <th></th>\n",
       "      <th>PCA1</th>\n",
       "      <th>PCA2</th>\n",
       "      <th>PC3</th>\n",
       "    </tr>\n",
       "  </thead>\n",
       "  <tbody>\n",
       "    <tr>\n",
       "      <th>0</th>\n",
       "      <td>-0.012194</td>\n",
       "      <td>0.092372</td>\n",
       "      <td>-0.102575</td>\n",
       "    </tr>\n",
       "    <tr>\n",
       "      <th>1</th>\n",
       "      <td>0.036312</td>\n",
       "      <td>0.100063</td>\n",
       "      <td>-0.164604</td>\n",
       "    </tr>\n",
       "    <tr>\n",
       "      <th>2</th>\n",
       "      <td>-0.104625</td>\n",
       "      <td>0.142814</td>\n",
       "      <td>-0.111878</td>\n",
       "    </tr>\n",
       "    <tr>\n",
       "      <th>3</th>\n",
       "      <td>0.118016</td>\n",
       "      <td>0.130141</td>\n",
       "      <td>-0.028443</td>\n",
       "    </tr>\n",
       "    <tr>\n",
       "      <th>4</th>\n",
       "      <td>-0.161678</td>\n",
       "      <td>0.044264</td>\n",
       "      <td>-0.058438</td>\n",
       "    </tr>\n",
       "  </tbody>\n",
       "</table>\n",
       "</div>"
      ],
      "text/plain": [
       "       PCA1      PCA2       PC3\n",
       "0 -0.012194  0.092372 -0.102575\n",
       "1  0.036312  0.100063 -0.164604\n",
       "2 -0.104625  0.142814 -0.111878\n",
       "3  0.118016  0.130141 -0.028443\n",
       "4 -0.161678  0.044264 -0.058438"
      ]
     },
     "execution_count": 80,
     "metadata": {},
     "output_type": "execute_result"
    }
   ],
   "source": [
    "df_valid_pca = pd.DataFrame(X_pcavalid, columns = ['PCA1', 'PCA2', 'PC3'])\n",
    "df_valid_pca.head()"
   ]
  },
  {
   "cell_type": "code",
   "execution_count": 81,
   "metadata": {},
   "outputs": [
    {
     "data": {
      "text/plain": [
       "<seaborn.axisgrid.FacetGrid at 0x1aaeecbe48>"
      ]
     },
     "execution_count": 81,
     "metadata": {},
     "output_type": "execute_result"
    },
    {
     "data": {
      "image/png": "[encoded data removed]",
      "text/plain": [
       "<Figure size 439.875x360 with 1 Axes>"
      ]
     },
     "metadata": {},
     "output_type": "display_data"
    }
   ],
   "source": [
    "df_valid_pca['kmeans labels'] = model_valid_kmeans\n",
    "sns.lmplot(x = 'PCA1', y='PCA2', data = df_valid_pca, hue = 'kmeans labels')"
   ]
  },
  {
   "cell_type": "code",
   "execution_count": 83,
   "metadata": {},
   "outputs": [
    {
     "name": "stdout",
     "output_type": "stream",
     "text": [
      "0.038824853\n"
     ]
    },
    {
     "name": "stderr",
     "output_type": "stream",
     "text": [
      "/Users/jingtingzhang/anaconda3/lib/python3.6/site-packages/sklearn/metrics/pairwise.py:257: RuntimeWarning: invalid value encountered in sqrt\n",
      "  return distances if squared else np.sqrt(distances, out=distances)\n"
     ]
    }
   ],
   "source": [
    "score_valid = sklearn.metrics.silhouette_score(X_valid, model_valid_kmeans, metric = 'euclidean')\n",
    "print(score_valid)"
   ]
  },
  {
   "cell_type": "markdown",
   "metadata": {},
   "source": [
    "**Summary of the validation results using K-means**:\n",
    "Simiar to the prediction model, the validation model confirmed no clear clustering of the recent research papers. "
   ]
  },
  {
   "cell_type": "markdown",
   "metadata": {},
   "source": [
    "--------"
   ]
  },
  {
   "cell_type": "markdown",
   "metadata": {},
   "source": [
    "## 8. Calculate cosine similarity scores between one abstract and other abstracts"
   ]
  },
  {
   "cell_type": "markdown",
   "metadata": {},
   "source": [
    "Here with an example, I would like to show that given a certain research paper that is recently published, whether there is a set of earlier papers from 1995-2015 that are closely related to it. \n",
    "\n",
    "I first targeted a set of paper that are in the same cluster as the example recent paper. Next I calculated the cosine similarity scores between the example paper and all other papers in the same cluster. Based on the similarity scores, I set a cutoff of 0.90 to select those papers from 1995-2015 that are closely related to the example paper. "
   ]
  },
  {
   "cell_type": "code",
   "execution_count": 100,
   "metadata": {},
   "outputs": [
    {
     "data": {
      "text/plain": [
       "156"
      ]
     },
     "execution_count": 100,
     "metadata": {},
     "output_type": "execute_result"
    }
   ],
   "source": [
    "# # Randomly select a recent research paper\n",
    "# int(random.random()*len(df_test['avg abstract'])) # # This line is commented out for now."
   ]
  },
  {
   "cell_type": "code",
   "execution_count": 102,
   "metadata": {},
   "outputs": [],
   "source": [
    "# Select a research paper published in recent years (2016 onward)\n",
    "recent_paper = df_test['avg abstract'][156]"
   ]
  },
  {
   "cell_type": "code",
   "execution_count": 103,
   "metadata": {},
   "outputs": [
    {
     "data": {
      "text/plain": [
       "array([2], dtype=int32)"
      ]
     },
     "execution_count": 103,
     "metadata": {},
     "output_type": "execute_result"
    }
   ],
   "source": [
    "# Locate the cluster that the selected recent paper belongs to\n",
    "model_train_kmeans.predict([recent_paper])"
   ]
  },
  {
   "cell_type": "code",
   "execution_count": 105,
   "metadata": {},
   "outputs": [
    {
     "data": {
      "text/html": [
       "<div>\n",
       "<style scoped>\n",
       "    .dataframe tbody tr th:only-of-type {\n",
       "        vertical-align: middle;\n",
       "    }\n",
       "\n",
       "    .dataframe tbody tr th {\n",
       "        vertical-align: top;\n",
       "    }\n",
       "\n",
       "    .dataframe thead th {\n",
       "        text-align: right;\n",
       "    }\n",
       "</style>\n",
       "<table border=\"1\" class=\"dataframe\">\n",
       "  <thead>\n",
       "    <tr style=\"text-align: right;\">\n",
       "      <th></th>\n",
       "      <th>abstract</th>\n",
       "      <th>avg abstract</th>\n",
       "      <th>kmeans label</th>\n",
       "    </tr>\n",
       "  </thead>\n",
       "  <tbody>\n",
       "    <tr>\n",
       "      <th>3</th>\n",
       "      <td>In this paper, we address the task of Optical ...</td>\n",
       "      <td>[0.019558856, 0.008803719, -0.011499279, 0.091...</td>\n",
       "      <td>2</td>\n",
       "    </tr>\n",
       "    <tr>\n",
       "      <th>9</th>\n",
       "      <td>We present a novel response generation system ...</td>\n",
       "      <td>[0.050525926, -0.019018585, -0.014935662, 0.08...</td>\n",
       "      <td>2</td>\n",
       "    </tr>\n",
       "  </tbody>\n",
       "</table>\n",
       "</div>"
      ],
      "text/plain": [
       "                                            abstract  \\\n",
       "3  In this paper, we address the task of Optical ...   \n",
       "9  We present a novel response generation system ...   \n",
       "\n",
       "                                        avg abstract  kmeans label  \n",
       "3  [0.019558856, 0.008803719, -0.011499279, 0.091...             2  \n",
       "9  [0.050525926, -0.019018585, -0.014935662, 0.08...             2  "
      ]
     },
     "execution_count": 105,
     "metadata": {},
     "output_type": "execute_result"
    }
   ],
   "source": [
    "# Choose all the research papers that are in the same cluster as the selected paper\n",
    "target_set = df_train[df_train['kmeans label'] == 2][['abstract', 'avg abstract', 'kmeans label']]\n",
    "target_set.head(2)"
   ]
  },
  {
   "cell_type": "code",
   "execution_count": 106,
   "metadata": {},
   "outputs": [],
   "source": [
    "def similarity(recent_paper, target):\n",
    "    return 1-spatial.distance.cosine(recent_paper, target)"
   ]
  },
  {
   "cell_type": "code",
   "execution_count": 107,
   "metadata": {},
   "outputs": [],
   "source": [
    "sim = []\n",
    "for doc in target_set['avg abstract']:\n",
    "    sim_score = similarity(recent_paper, doc)\n",
    "    sim.append(sim_score)\n",
    "target_set['sim_scores'] = sim"
   ]
  },
  {
   "cell_type": "code",
   "execution_count": 112,
   "metadata": {},
   "outputs": [
    {
     "name": "stdout",
     "output_type": "stream",
     "text": [
      "41\n"
     ]
    }
   ],
   "source": [
    "# Cutoff was 0.90 for choosing the closely related papers from 1995-2015\n",
    "sorted_target_set = target_set.sort_values(by = ['sim_scores'], ascending = False)\n",
    "closely_related_target_set = sorted_target_set[sorted_target_set['sim_scores'] > 0.90]\n",
    "print(len(sorted_target_set[sorted_target_set['sim_scores'] > 0.90]))"
   ]
  },
  {
   "cell_type": "code",
   "execution_count": 113,
   "metadata": {},
   "outputs": [
    {
     "name": "stderr",
     "output_type": "stream",
     "text": [
      "/Users/jingtingzhang/anaconda3/lib/python3.6/site-packages/matplotlib/axes/_axes.py:6462: UserWarning: The 'normed' kwarg is deprecated, and has been replaced by the 'density' kwarg.\n",
      "  warnings.warn(\"The 'normed' kwarg is deprecated, and has been \"\n"
     ]
    },
    {
     "data": {
      "text/plain": [
       "<matplotlib.axes._subplots.AxesSubplot at 0x1aaee07080>"
      ]
     },
     "execution_count": 113,
     "metadata": {},
     "output_type": "execute_result"
    },
    {
     "data": {
      "image/png": "[encoded data removed]",
      "text/plain": [
       "<Figure size 432x288 with 1 Axes>"
      ]
     },
     "metadata": {},
     "output_type": "display_data"
    }
   ],
   "source": [
    "sns.distplot(sorted_target_set['sim_scores'])"
   ]
  },
  {
   "cell_type": "markdown",
   "metadata": {},
   "source": [
    "## **Summary of Results**:\n",
    "### My results have shown that given a paper published in recent years (2016 onwards), take the 156th paper for example, there were 41 research papers published from 1995-2015 that are closely related to it."
   ]
  },
  {
   "cell_type": "markdown",
   "metadata": {},
   "source": [
    "__END__"
   ]
  }
 ],
 "metadata": {
  "kernelspec": {
   "display_name": "Python 3",
   "language": "python",
   "name": "python3"
  },
  "language_info": {
   "codemirror_mode": {
    "name": "ipython",
    "version": 3
   },
   "file_extension": ".py",
   "mimetype": "text/x-python",
   "name": "python",
   "nbconvert_exporter": "python",
   "pygments_lexer": "ipython3",
   "version": "3.7.0"
  }
 },
 "nbformat": 4,
 "nbformat_minor": 2
}
